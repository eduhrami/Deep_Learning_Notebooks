{
  "cells": [
    {
      "cell_type": "markdown",
      "metadata": {
        "id": "view-in-github",
        "colab_type": "text"
      },
      "source": [
        "<a href=\"https://colab.research.google.com/github/tozanni/Deep_Learning_Notebooks/blob/main/Feed_Forward_ANN_Paso_a_Paso_con_Numpy_Parte_1.ipynb\" target=\"_parent\"><img src=\"https://colab.research.google.com/assets/colab-badge.svg\" alt=\"Open In Colab\"/></a>"
      ]
    },
    {
      "cell_type": "markdown",
      "id": "a9e8e0ec-08b5-4956-a53d-7cc3763f0f25",
      "metadata": {
        "id": "a9e8e0ec-08b5-4956-a53d-7cc3763f0f25"
      },
      "source": [
        "# Feed-foward ANN *realmente* paso a paso con NumPy\n",
        "\n",
        "Eduardo H. Ramirez, PhD [LinkedIn](https://www.linkedin.com/in/ehramirez/)\n",
        "[Twitter](https://twitter.com/eduhrami)\n",
        "[Github](https://github.com/tozanni)\n",
        "\n",
        "\n",
        "# Parte 1. Arquitectura y *forward pass*.\n",
        "\n",
        "El objetivo de este cuaderno es demostrar las operaciones matemáticas de las redes feed-forward de la forma más clara y directa posible. Espero que puedas leer este cuaderno paso a paso de arriba a abajo, revisando y digiriendo el resultado intermedio de cada operación. Por lo cual he evitado al mínimo posible el uso de librerías, clases y funciones.\n",
        "\n",
        "He visto muchos ejemplos y artículos donde se escriben redes \"from scratch\". Por lo general terminan reinventando su propio framework con una buena cantidad de funciones. Al hacer esto volvemos al punto de partida ya que tenemos que que entender la estructura del código, renombrar variables en nuestra mente al entrar a una función, brincar de una función a otra o de una clase a otra. Todo esto va en contra de mi objetivo inicial que es exponer las operaciones de las redes neuronales de forma directa y con el menor número de distracciones.\n",
        "\n",
        "Por la razón anterior mi objetivo **NO es** escribir un framework, y debido a ello muchas secciones de este cuaderno pueden ser repetitivas y poco flexibles, pero espero que estos inconvenientes se compensen en la claridad."
      ]
    },
    {
      "cell_type": "code",
      "execution_count": null,
      "id": "1aca10b4",
      "metadata": {
        "id": "1aca10b4"
      },
      "outputs": [],
      "source": [
        "import numpy as np\n",
        "from sklearn import datasets\n",
        "np.random.seed(42)\n",
        "np.set_printoptions(formatter={'float': lambda x: \"{0:0.4f}\".format(x)})"
      ]
    },
    {
      "cell_type": "markdown",
      "id": "105d8895-53be-4041-b8bc-6bb6590aeff7",
      "metadata": {
        "id": "105d8895-53be-4041-b8bc-6bb6590aeff7"
      },
      "source": [
        "## Dataset\n",
        "\n",
        "Utilizaremos el dataset Iris, es un dataset tabular con 4 features cuyo objetivo es clasificar flores en familias dadas algunas características de sus pétalos y sépalos."
      ]
    },
    {
      "cell_type": "code",
      "execution_count": null,
      "id": "d5303330-2d1e-4cb4-ae2d-3d426c86f82e",
      "metadata": {
        "id": "d5303330-2d1e-4cb4-ae2d-3d426c86f82e"
      },
      "outputs": [],
      "source": [
        "iris = datasets.load_iris()\n",
        "X = np.array(iris.data[:100])\n",
        "Y = np.array(iris.target[:100])"
      ]
    },
    {
      "cell_type": "markdown",
      "id": "ee5ac2ea-f090-4d01-b15b-ef6602ddfa62",
      "metadata": {
        "id": "ee5ac2ea-f090-4d01-b15b-ef6602ddfa62"
      },
      "source": [
        "Los atributos de cada registros son la longitud de los sépalos, ancho de los sépalos, longitud de los pétalos y ancho de los pétalos de la flor en centrímetros."
      ]
    },
    {
      "cell_type": "code",
      "execution_count": null,
      "id": "1b40b88c-981c-4bb3-ae8e-d2a198ec8d7d",
      "metadata": {
        "id": "1b40b88c-981c-4bb3-ae8e-d2a198ec8d7d",
        "outputId": "02403d83-e11f-4864-bda0-a5c8d93581ba",
        "colab": {
          "base_uri": "https://localhost:8080/"
        }
      },
      "outputs": [
        {
          "output_type": "execute_result",
          "data": {
            "text/plain": [
              "array([1.0913, 0.2378, -0.8825, -1.5226])"
            ]
          },
          "metadata": {},
          "execution_count": 214
        }
      ],
      "source": [
        "# Imprimir el primer valor del dataset\n",
        "X[0]"
      ]
    },
    {
      "cell_type": "markdown",
      "source": [
        "Es una buena práctica normalizar o estandarizar los datos de input antes de procesarlos por una red neuronal, esto asegura que todos los features tengan el mismo orden de magnitud y facilita el entrenamiento más delante.\n",
        "\n",
        "Para estandarizar el dataset simplemente hay que restar la media y dividir por la desviación estándar."
      ],
      "metadata": {
        "id": "OnML8ZBBUpc8"
      },
      "id": "OnML8ZBBUpc8"
    },
    {
      "cell_type": "code",
      "source": [
        "X = (X - np.mean(X)) / np.std(X)\n",
        "\n",
        "# El primer valor de nuestro dataset, estandarizado\n",
        "X[0]"
      ],
      "metadata": {
        "id": "JThuka-LSrWP",
        "outputId": "4ff9ad4c-aa7f-44e5-e5c6-794ddbea4af6",
        "colab": {
          "base_uri": "https://localhost:8080/"
        }
      },
      "id": "JThuka-LSrWP",
      "execution_count": null,
      "outputs": [
        {
          "output_type": "execute_result",
          "data": {
            "text/plain": [
              "array([1.0913, 0.2378, -0.8825, -1.5226])"
            ]
          },
          "metadata": {},
          "execution_count": 213
        }
      ]
    },
    {
      "cell_type": "markdown",
      "id": "245ec999-91a0-49f8-8cc4-1d5a20973854",
      "metadata": {
        "id": "245ec999-91a0-49f8-8cc4-1d5a20973854"
      },
      "source": [
        "Las clases Y representan el tipo de flor que deseamos aprender a clasificar siendo 0: Iris-Setosa, 1: Iris-Versicolor y 2: Iris-Virginica.  Sin embargo, para simplificar el problema vamos a tomar únicamente los 100 primeros datos y tratar este problema como uno de **clasificación binaria**.\n",
        "\n",
        "A continuación podrás ver las etiquetas del subset del dataset que utilizaremos."
      ]
    },
    {
      "cell_type": "code",
      "source": [
        "Y"
      ],
      "metadata": {
        "colab": {
          "base_uri": "https://localhost:8080/"
        },
        "id": "Qk-DiGcvN6n2",
        "outputId": "59c674f8-e6cc-4b56-9a2a-b56c6c9cac54"
      },
      "id": "Qk-DiGcvN6n2",
      "execution_count": null,
      "outputs": [
        {
          "output_type": "execute_result",
          "data": {
            "text/plain": [
              "array([0, 0, 0, 0, 0, 0, 0, 0, 0, 0, 0, 0, 0, 0, 0, 0, 0, 0, 0, 0, 0, 0,\n",
              "       0, 0, 0, 0, 0, 0, 0, 0, 0, 0, 0, 0, 0, 0, 0, 0, 0, 0, 0, 0, 0, 0,\n",
              "       0, 0, 0, 0, 0, 0, 1, 1, 1, 1, 1, 1, 1, 1, 1, 1, 1, 1, 1, 1, 1, 1,\n",
              "       1, 1, 1, 1, 1, 1, 1, 1, 1, 1, 1, 1, 1, 1, 1, 1, 1, 1, 1, 1, 1, 1,\n",
              "       1, 1, 1, 1, 1, 1, 1, 1, 1, 1, 1, 1])"
            ]
          },
          "metadata": {},
          "execution_count": 216
        }
      ]
    },
    {
      "cell_type": "markdown",
      "id": "2adbbb20-062f-406f-a0da-bb79c423eac8",
      "metadata": {
        "id": "2adbbb20-062f-406f-a0da-bb79c423eac8"
      },
      "source": [
        "## Inputs\n",
        "\n",
        "A partir de nuestro dataset X, crearemos un minibatch. El minibatch representa la cantidad de renglones del input que nuestra red procesará simultáneamente en tiempo de inferencia o de entrenamiento.\n",
        "\n",
        "Poder procesar varios inputs simultáneamente es una ventaja adicional de las ANN vs. otros métodos de aprendizaje automático.\n",
        "\n",
        "En este caso utilizamos un minibatch de tamaño 2, pero este valor puede cambiarse arbitrariamente."
      ]
    },
    {
      "cell_type": "code",
      "execution_count": null,
      "id": "3d17e3ae",
      "metadata": {
        "id": "3d17e3ae",
        "outputId": "c8278dda-951c-444b-9ac4-589442d62fac",
        "colab": {
          "base_uri": "https://localhost:8080/"
        }
      },
      "outputs": [
        {
          "output_type": "execute_result",
          "data": {
            "text/plain": [
              "array([[1.0913, 0.2378, -0.8825, -1.5226],\n",
              "       [0.9846, -0.0289, -0.8825, -1.5226]])"
            ]
          },
          "metadata": {},
          "execution_count": 193
        }
      ],
      "source": [
        "# Leemos las dos primeras instancias del dataset Iris\n",
        "\n",
        "x = X[:2]\n",
        "x"
      ]
    },
    {
      "cell_type": "code",
      "execution_count": null,
      "id": "18f32caf",
      "metadata": {
        "id": "18f32caf",
        "outputId": "dbf006c2-eedc-40dc-b5fb-74f879969666",
        "colab": {
          "base_uri": "https://localhost:8080/"
        }
      },
      "outputs": [
        {
          "output_type": "execute_result",
          "data": {
            "text/plain": [
              "(2, 4)"
            ]
          },
          "metadata": {},
          "execution_count": 194
        }
      ],
      "source": [
        "x.shape"
      ]
    },
    {
      "cell_type": "markdown",
      "id": "ce8f3eef-2782-4c4c-a716-9d89faa6bf6d",
      "metadata": {
        "id": "ce8f3eef-2782-4c4c-a716-9d89faa6bf6d"
      },
      "source": [
        "## Arquitectura de la red\n",
        "\n",
        "Vamos a crear una red de perceptrón multicapa o red densa, con 2 capas ocultas, una de 5 unidades y una de 4 unidades. El tamaño de las capas ocultas es una decisión del diseñador de la red, por lo cual queda completamente a nuestro criterio.\n",
        "\n",
        "Por otro lado, el tamaño de la capa de input depende de la cantidad de features que tienen nuestros dataset, en este caso requerimos 4 unidades.\n",
        "\n",
        "La capa de salida depende de la tarea que vamos a resolver, en este caso una clasificación binaria, por lo cual requerimos una única unidad y su activación será la función *sigmoidal*."
      ]
    },
    {
      "cell_type": "markdown",
      "id": "fe52e859-09ec-4f72-b52c-4c9f968ba242",
      "metadata": {
        "id": "fe52e859-09ec-4f72-b52c-4c9f968ba242"
      },
      "source": [
        "![test.png](data:image/png;base64,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)"
      ]
    },
    {
      "cell_type": "markdown",
      "id": "338bb435-8ec7-43d9-953b-5e59672330bd",
      "metadata": {
        "id": "338bb435-8ec7-43d9-953b-5e59672330bd"
      },
      "source": [
        "Diagrama generado con [Dotnets + Graphviz](https://github.com/martisak/dotnets)\n",
        "\n",
        "### Capa oculta 1\n",
        "\n",
        "El elemento más importante de cada capa oculta es su matriz de pesos.\n",
        "\n",
        "La matriz de pesos tiene renglones de acuerdo a la cantidad de features del input y tantas columnas como nodos.\n",
        "\n",
        "Es decir, 4 elementos x 5 nodos de la capa hidden, seran 20 parámetros o pesos para la primera capa.\n"
      ]
    },
    {
      "cell_type": "code",
      "execution_count": null,
      "id": "c96749f2",
      "metadata": {
        "id": "c96749f2",
        "outputId": "25714ec6-afd7-4af5-e1b4-97ef136ede17",
        "colab": {
          "base_uri": "https://localhost:8080/"
        }
      },
      "outputs": [
        {
          "output_type": "execute_result",
          "data": {
            "text/plain": [
              "array([[0.3745, 0.9507, 0.7320, 0.5987, 0.1560],\n",
              "       [0.1560, 0.0581, 0.8662, 0.6011, 0.7081],\n",
              "       [0.0206, 0.9699, 0.8324, 0.2123, 0.1818],\n",
              "       [0.1834, 0.3042, 0.5248, 0.4319, 0.2912]])"
            ]
          },
          "metadata": {},
          "execution_count": 195
        }
      ],
      "source": [
        "W_1 = np.random.rand(x.shape[1], 5)\n",
        "W_1"
      ]
    },
    {
      "cell_type": "code",
      "execution_count": null,
      "id": "ba7c7492-6fdd-4034-85f2-b324af3a0cca",
      "metadata": {
        "id": "ba7c7492-6fdd-4034-85f2-b324af3a0cca",
        "outputId": "4c1846dd-e630-434d-f44d-cce639e70592",
        "colab": {
          "base_uri": "https://localhost:8080/"
        }
      },
      "outputs": [
        {
          "output_type": "execute_result",
          "data": {
            "text/plain": [
              "(4, 5)"
            ]
          },
          "metadata": {},
          "execution_count": 196
        }
      ],
      "source": [
        "W_1.shape"
      ]
    },
    {
      "cell_type": "markdown",
      "id": "976bb933-8dde-4bb1-b7ca-5f0a0ebf7f94",
      "metadata": {
        "id": "976bb933-8dde-4bb1-b7ca-5f0a0ebf7f94"
      },
      "source": [
        "Aqui multiplicamos el minibatch por la matriz de pesos de la primera capa.\n",
        "\n",
        "Cada renglón del resultado corresponde con cada elemento del minibatch.\n",
        "\n",
        "Como ejercicio puedes probar a modificar el tamaño del minibatch y verás cómo se modifica el resultado de esta operación."
      ]
    },
    {
      "cell_type": "code",
      "execution_count": null,
      "id": "1a1515f6",
      "metadata": {
        "id": "1a1515f6",
        "outputId": "b99d7b93-dd76-4595-a052-a3932c21c208",
        "colab": {
          "base_uri": "https://localhost:8080/"
        }
      },
      "outputs": [
        {
          "output_type": "execute_result",
          "data": {
            "text/plain": [
              "array([[0.1484, -0.2678, -0.5288, -0.0488, -0.2652],\n",
              "       [0.0668, -0.3847, -0.8379, -0.2730, -0.4708]])"
            ]
          },
          "metadata": {},
          "execution_count": 197
        }
      ],
      "source": [
        "h1 = x@W_1\n",
        "h1"
      ]
    },
    {
      "cell_type": "markdown",
      "id": "f2612b6f-cfa6-4c5b-9ad3-78b284c018b0",
      "metadata": {
        "id": "f2612b6f-cfa6-4c5b-9ad3-78b284c018b0"
      },
      "source": [
        "#### Activacion de las capas ocultas (ReLU)\n",
        "\n",
        "Aplicamos la funcion ReLU, que simplemente toma el maximo entre cero y el valor obtenido\n"
      ]
    },
    {
      "cell_type": "code",
      "execution_count": null,
      "id": "9f5b1c9e-83e3-43c2-80a6-20dd75ebb75e",
      "metadata": {
        "id": "9f5b1c9e-83e3-43c2-80a6-20dd75ebb75e",
        "outputId": "56750299-90e2-458a-e3d9-da1d7ffd2198",
        "colab": {
          "base_uri": "https://localhost:8080/"
        }
      },
      "outputs": [
        {
          "output_type": "execute_result",
          "data": {
            "text/plain": [
              "array([[0.1484, 0.0000, 0.0000, 0.0000, 0.0000],\n",
              "       [0.0668, 0.0000, 0.0000, 0.0000, 0.0000]])"
            ]
          },
          "metadata": {},
          "execution_count": 198
        }
      ],
      "source": [
        "a1 = np.maximum(h1,0)\n",
        "a1"
      ]
    },
    {
      "cell_type": "code",
      "execution_count": null,
      "id": "6d9289fa-71fd-4bf0-9dcb-d656d0ac509a",
      "metadata": {
        "id": "6d9289fa-71fd-4bf0-9dcb-d656d0ac509a",
        "outputId": "c46a1459-dba2-409c-ad42-6152ed9e5a78",
        "colab": {
          "base_uri": "https://localhost:8080/"
        }
      },
      "outputs": [
        {
          "output_type": "execute_result",
          "data": {
            "text/plain": [
              "(2, 5)"
            ]
          },
          "metadata": {},
          "execution_count": 199
        }
      ],
      "source": [
        "a1.shape"
      ]
    },
    {
      "cell_type": "markdown",
      "id": "e57e5df1-a997-4564-b7c4-eea5c0906029",
      "metadata": {
        "id": "e57e5df1-a997-4564-b7c4-eea5c0906029"
      },
      "source": [
        "### Capa oculta 2\n",
        "\n",
        "El input a la capa 2 es el resultado de la activacion de la capa 1, es decir nuestra variable a<sub>1</sub>.\n",
        "\n",
        "Para la segunda capa tenemos 5 features, que son las columnas de a<sub>1</sub> x 4 unidades = 20 parámetros.\n"
      ]
    },
    {
      "cell_type": "code",
      "execution_count": null,
      "id": "8dbbefae-bf14-4f07-9220-43bed1cbb94e",
      "metadata": {
        "id": "8dbbefae-bf14-4f07-9220-43bed1cbb94e",
        "outputId": "365c05dc-ba51-40b6-a324-69cc407dface",
        "colab": {
          "base_uri": "https://localhost:8080/"
        }
      },
      "outputs": [
        {
          "output_type": "execute_result",
          "data": {
            "text/plain": [
              "array([[0.3745, 0.9507, 0.7320, 0.5987, 0.1560],\n",
              "       [0.1560, 0.0581, 0.8662, 0.6011, 0.7081],\n",
              "       [0.0206, 0.9699, 0.8324, 0.2123, 0.1818],\n",
              "       [0.1834, 0.3042, 0.5248, 0.4319, 0.2912]])"
            ]
          },
          "metadata": {},
          "execution_count": 200
        }
      ],
      "source": [
        "W_2 = np.random.rand(a1.shape[1], 4 )\n",
        "W_2"
      ]
    },
    {
      "cell_type": "code",
      "execution_count": null,
      "id": "dd85746e-c730-4243-abd1-2b19dcdccfe4",
      "metadata": {
        "id": "dd85746e-c730-4243-abd1-2b19dcdccfe4",
        "outputId": "f4cdfd95-5997-44f5-a7fd-caa879ec6945",
        "colab": {
          "base_uri": "https://localhost:8080/"
        }
      },
      "outputs": [
        {
          "output_type": "execute_result",
          "data": {
            "text/plain": [
              "array([[0.0908, 0.0207, 0.0434, 0.0544],\n",
              "       [0.0409, 0.0093, 0.0195, 0.0245]])"
            ]
          },
          "metadata": {},
          "execution_count": 201
        }
      ],
      "source": [
        "h2 = a1@W_2\n",
        "h2"
      ]
    },
    {
      "cell_type": "markdown",
      "id": "04f7fa6c-89b4-4444-9660-0a828f803de1",
      "metadata": {
        "id": "04f7fa6c-89b4-4444-9660-0a828f803de1"
      },
      "source": [
        "Nuevamente aplicamos la función de activación ReLU, esta operación no modifica las dimensiones del input que estamos procesando en este paso."
      ]
    },
    {
      "cell_type": "code",
      "execution_count": null,
      "id": "aed97dc3-b19a-410e-a16b-e97ff44f09b8",
      "metadata": {
        "id": "aed97dc3-b19a-410e-a16b-e97ff44f09b8",
        "outputId": "dad5cdd9-e532-416e-aa8a-e9da145f448d",
        "colab": {
          "base_uri": "https://localhost:8080/"
        }
      },
      "outputs": [
        {
          "output_type": "execute_result",
          "data": {
            "text/plain": [
              "array([[0.0908, 0.0207, 0.0434, 0.0544],\n",
              "       [0.0409, 0.0093, 0.0195, 0.0245]])"
            ]
          },
          "metadata": {},
          "execution_count": 202
        }
      ],
      "source": [
        "# Ojo, la funcion np.max no es element-wise, hay que usar maximum\n",
        "a2 = np.maximum(h2,0)\n",
        "a2"
      ]
    },
    {
      "cell_type": "markdown",
      "id": "0526a3e5-3e64-478c-b867-f3e5651150c3",
      "metadata": {
        "id": "0526a3e5-3e64-478c-b867-f3e5651150c3"
      },
      "source": [
        "### Capa de salida\n",
        "\n",
        "La capa de salida tiene 1 unidad.\n",
        "\n",
        "La salida de la capa previa a<sub>2</sub> tiene 4 features, entonces la matriz de pesos de la capa de salida tiene 4x1 = 4 parámetros."
      ]
    },
    {
      "cell_type": "code",
      "execution_count": null,
      "id": "15ee46b6-67d9-4f2f-a58e-fbee3fc35f4d",
      "metadata": {
        "id": "15ee46b6-67d9-4f2f-a58e-fbee3fc35f4d",
        "outputId": "123fdf1e-d8f3-4e0b-da79-17eb537bfe07",
        "colab": {
          "base_uri": "https://localhost:8080/"
        }
      },
      "outputs": [
        {
          "output_type": "execute_result",
          "data": {
            "text/plain": [
              "array([[0.1220],\n",
              "       [0.4952],\n",
              "       [0.0344],\n",
              "       [0.9093]])"
            ]
          },
          "metadata": {},
          "execution_count": 203
        }
      ],
      "source": [
        "W_3 = np.random.rand(a2.shape[1], 1)\n",
        "W_3"
      ]
    },
    {
      "cell_type": "markdown",
      "id": "6bd65cb4-a9e7-44c3-b6cd-24b71f66e238",
      "metadata": {
        "id": "6bd65cb4-a9e7-44c3-b6cd-24b71f66e238"
      },
      "source": [
        "Calculamos el valor de las neuronas de salida antes de la capa 3.\n",
        "\n",
        "Esta es equivalente a la capa \"Linear\" y para algunos problemas es una forma correcta de terminar el output final de la red."
      ]
    },
    {
      "cell_type": "code",
      "execution_count": null,
      "id": "9fd2d7be-2ad1-43d6-8c1a-eadfe3fd5133",
      "metadata": {
        "id": "9fd2d7be-2ad1-43d6-8c1a-eadfe3fd5133",
        "outputId": "8e2dc236-cf29-4234-de4d-1ba552322c4f",
        "colab": {
          "base_uri": "https://localhost:8080/"
        }
      },
      "outputs": [
        {
          "output_type": "execute_result",
          "data": {
            "text/plain": [
              "array([[0.0723],\n",
              "       [0.0326]])"
            ]
          },
          "metadata": {},
          "execution_count": 204
        }
      ],
      "source": [
        "h3 = a2@W_3\n",
        "h3"
      ]
    },
    {
      "cell_type": "markdown",
      "id": "f9de0f87-dfc9-4c96-9b45-ef69d512c93e",
      "metadata": {
        "id": "f9de0f87-dfc9-4c96-9b45-ef69d512c93e"
      },
      "source": [
        "A continuación puedes ver la operación anterior expresada de forma compacta como una *composición de funciones*, que es una multiplicación sucesiva del input por sus pesos con una función no-lineal entre cada una de las operaciones. Como puedes ver, las variables h<sub>1</sub>, h<sub>2</sub> y a<sub>1</sub>, a<sub>2</sub> no son realmente necesarias para la implementación, sino que se agregan con fines didácticos."
      ]
    },
    {
      "cell_type": "code",
      "execution_count": null,
      "id": "406aec24-7eb9-4dca-84cf-26fd590c2b12",
      "metadata": {
        "id": "406aec24-7eb9-4dca-84cf-26fd590c2b12",
        "outputId": "9f5a6ebe-9221-43c1-ba96-72aa69ec7959",
        "colab": {
          "base_uri": "https://localhost:8080/"
        }
      },
      "outputs": [
        {
          "output_type": "execute_result",
          "data": {
            "text/plain": [
              "array([[0.0723],\n",
              "       [0.0326]])"
            ]
          },
          "metadata": {},
          "execution_count": 209
        }
      ],
      "source": [
        "np.maximum(np.maximum(x@W_1,0)@W_2,0)@W_3"
      ]
    },
    {
      "cell_type": "markdown",
      "id": "6544ed46-9374-4c3a-8712-08fddee92bee",
      "metadata": {
        "id": "6544ed46-9374-4c3a-8712-08fddee92bee"
      },
      "source": [
        "#### Activación de la última capa (Sigmoidal)\n",
        "\n",
        "En este caso, ya que deseamos implementar una red neuronal para clasificación binaria, calcularemos la función [sigmoide o sigmoidal](https://en.wikipedia.org/wiki/Sigmoid_function). Recordemos que la activación de la última capa está determinada por la tarea que vamos a resolver en la red.\n",
        "\n",
        "La función sigmoidal es comúnmente utilizada en clasificación binaria ya que su salida siempre es un número real entre cero y uno, por lo cual puede utilizarse para representar probabilidades.\n",
        "\n",
        "Entonces, el resultado de la función sigmoidal representará la probabilidad de que nuestro input (x<sub>i</sub>) pertenezca a la clase 1, de tal forma que si el resultado es menor a 0.5 elegiremos la clase cero y si es mayor o igual a 0.5, elegiremos la clase 1."
      ]
    },
    {
      "cell_type": "code",
      "execution_count": null,
      "id": "28e162b1-202a-49d5-80d6-faf54748d60b",
      "metadata": {
        "id": "28e162b1-202a-49d5-80d6-faf54748d60b",
        "outputId": "5ab41014-ca00-4381-d5b5-bc8f9dc5d21f",
        "colab": {
          "base_uri": "https://localhost:8080/"
        }
      },
      "outputs": [
        {
          "output_type": "execute_result",
          "data": {
            "text/plain": [
              "array([[0.5181],\n",
              "       [0.5081]])"
            ]
          },
          "metadata": {},
          "execution_count": 217
        }
      ],
      "source": [
        "output = 1/(1 + np.exp(-h3))\n",
        "output"
      ]
    },
    {
      "cell_type": "markdown",
      "source": [
        "En este caso, aunque estamos cerca del límite ambos ejemplos seran clasificados como parte de la clase 1.\n",
        "\n",
        "Recordar que esta red no ha sido entrenada, entonces el resultado es completamente arbitrario."
      ],
      "metadata": {
        "id": "wz28-qi-UNYf"
      },
      "id": "wz28-qi-UNYf"
    },
    {
      "cell_type": "code",
      "source": [
        "output >= 0.5"
      ],
      "metadata": {
        "id": "rtqdySvJTW3v",
        "outputId": "9fc8937b-6d71-4315-a059-d21acc66e739",
        "colab": {
          "base_uri": "https://localhost:8080/"
        }
      },
      "id": "rtqdySvJTW3v",
      "execution_count": null,
      "outputs": [
        {
          "output_type": "execute_result",
          "data": {
            "text/plain": [
              "array([[ True],\n",
              "       [ True]])"
            ]
          },
          "metadata": {},
          "execution_count": 218
        }
      ]
    },
    {
      "cell_type": "markdown",
      "id": "4800dd62-e913-4c4f-be3f-f220ee9a04b8",
      "metadata": {
        "id": "4800dd62-e913-4c4f-be3f-f220ee9a04b8"
      },
      "source": [
        "## Resumen del forward pass\n",
        "\n",
        "Finalmente podemos expresar **todo** el forward pass de la red de la siguiente forma en las siguientes 2 líneas. Toma nota de ellas, ya que en los siguientes pasos utilizaremos esta notación compacta.\n",
        "\n",
        "Dejo comentadas las inicializaciones de los parámetros para que puedas comprobar el resultado anterior paso a paso es igual que el resultado de estas dos líneas."
      ]
    },
    {
      "cell_type": "code",
      "execution_count": null,
      "id": "1e42836f-f23e-43f1-956f-385e20dc0f81",
      "metadata": {
        "id": "1e42836f-f23e-43f1-956f-385e20dc0f81",
        "outputId": "4116e281-2dcc-42c5-ae74-336ce58c1d9d",
        "colab": {
          "base_uri": "https://localhost:8080/"
        }
      },
      "outputs": [
        {
          "output_type": "execute_result",
          "data": {
            "text/plain": [
              "array([[0.5181],\n",
              "       [0.5081]])"
            ]
          },
          "metadata": {},
          "execution_count": 219
        }
      ],
      "source": [
        "#Obtener datos\n",
        "#x = X[:2]\n",
        "\n",
        "#Inicializar arreglos de parametros con valores aleatorios\n",
        "#W_1 = np.random.rand(x.shape[1], 5)\n",
        "#W_2 = np.random.rand(a1.shape[1], 4 )\n",
        "#W_3 = np.random.rand(a2.shape[1], 3)\n",
        "\n",
        "# Forward pass, ejecutamos las 2 capas ocultas ReLU y la capa de salida lineal\n",
        "h3 = np.maximum(np.maximum(x@W_1,0)@W_2,0)@W_3\n",
        "\n",
        "# Función de activación softmax para la última capa\n",
        "output = 1/(1 + np.exp(-h3))\n",
        "output"
      ]
    },
    {
      "cell_type": "code",
      "source": [],
      "metadata": {
        "id": "bC3EvjZ48fPO"
      },
      "id": "bC3EvjZ48fPO",
      "execution_count": null,
      "outputs": []
    }
  ],
  "metadata": {
    "kernelspec": {
      "display_name": "pytorch",
      "language": "python",
      "name": "pytorch"
    },
    "language_info": {
      "codemirror_mode": {
        "name": "ipython",
        "version": 3
      },
      "file_extension": ".py",
      "mimetype": "text/x-python",
      "name": "python",
      "nbconvert_exporter": "python",
      "pygments_lexer": "ipython3",
      "version": "3.11.2"
    },
    "colab": {
      "provenance": [],
      "include_colab_link": true
    }
  },
  "nbformat": 4,
  "nbformat_minor": 5
}
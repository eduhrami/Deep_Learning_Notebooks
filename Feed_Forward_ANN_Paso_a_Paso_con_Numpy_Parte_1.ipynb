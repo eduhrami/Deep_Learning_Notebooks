{
  "cells": [
    {
      "cell_type": "markdown",
      "id": "a9e8e0ec-08b5-4956-a53d-7cc3763f0f25",
      "metadata": {
        "id": "a9e8e0ec-08b5-4956-a53d-7cc3763f0f25"
      },
      "source": [
        "# Feed-foward ANN *realmente* paso a paso con NumPy\n",
        "\n",
        "Eduardo H. Ramirez, PhD [LinkedIn](https://www.linkedin.com/in/ehramirez/)\n",
        "[Twitter](https://twitter.com/eduhrami)\n",
        "[Github](https://github.com/tozanni)\n",
        "\n",
        "\n",
        "# Parte 1. Arquitectura y *forward pass*.\n",
        "\n",
        "El objetivo de este cuaderno es demostrar las operaciones matemáticas de las redes feed-forward de la forma más clara y directa posible. Espero que puedas leer este cuaderno paso a paso de arriba a abajo, revisando y digiriendo el resultado intermedio de cada operación. Por lo cual he evitado al mínimo posible el uso de librerías, clases y funciones.\n",
        "\n",
        "He visto muchos ejemplos y artículos donde se escriben redes \"from scratch\". Por lo general terminan reinventando su propio framework con una buena cantidad de funciones. Al hacer esto volvemos al punto de partida ya que tenemos que que entender la estructura del código, renombrar variables en nuestra mente al entrar a una función, brincar de una función a otra o de una clase a otra. Todo esto va en contra de mi objetivo inicial que es exponer las operaciones de las redes neuronales de forma directa y con el menor número de distracciones.\n",
        "\n",
        "Por la razón anterior mi objetivo **NO es** escribir un framework, y debido a ello muchas secciones de este cuaderno pueden ser repetitivas y poco flexibles, pero espero que estos inconvenientes se compensen en la claridad."
      ]
    },
    {
      "cell_type": "code",
      "execution_count": 69,
      "id": "1aca10b4",
      "metadata": {
        "id": "1aca10b4"
      },
      "outputs": [],
      "source": [
        "import numpy as np\n",
        "from sklearn import datasets\n",
        "np.random.seed(100)\n",
        "np.set_printoptions(formatter={'float': lambda x: \"{0:0.4f}\".format(x)})"
      ]
    },
    {
      "cell_type": "markdown",
      "id": "105d8895-53be-4041-b8bc-6bb6590aeff7",
      "metadata": {
        "id": "105d8895-53be-4041-b8bc-6bb6590aeff7"
      },
      "source": [
        "## Dataset\n",
        "\n",
        "Utilizaremos el dataset Iris, es un dataset tabular con 4 features cuyo objetivo es clasificar flores en familias dadas algunas características de sus pétalos y sépalos."
      ]
    },
    {
      "cell_type": "code",
      "execution_count": 70,
      "id": "d5303330-2d1e-4cb4-ae2d-3d426c86f82e",
      "metadata": {
        "id": "d5303330-2d1e-4cb4-ae2d-3d426c86f82e"
      },
      "outputs": [],
      "source": [
        "iris = datasets.load_iris()\n",
        "X = np.array(iris.data[:200])\n",
        "Y = np.array(iris.target[:200])"
      ]
    },
    {
      "cell_type": "markdown",
      "id": "ee5ac2ea-f090-4d01-b15b-ef6602ddfa62",
      "metadata": {
        "id": "ee5ac2ea-f090-4d01-b15b-ef6602ddfa62"
      },
      "source": [
        "Los atributos de cada registros son la longitud de los sépalos, ancho de los sépalos, longitud de los pétalos y ancho de los pétalos de la flor en centrímetros."
      ]
    },
    {
      "cell_type": "code",
      "execution_count": 71,
      "id": "1b40b88c-981c-4bb3-ae8e-d2a198ec8d7d",
      "metadata": {
        "id": "1b40b88c-981c-4bb3-ae8e-d2a198ec8d7d",
        "outputId": "0e80baff-d16d-4a46-9afa-068dbf43f783",
        "colab": {
          "base_uri": "https://localhost:8080/"
        }
      },
      "outputs": [
        {
          "output_type": "execute_result",
          "data": {
            "text/plain": [
              "array([5.1000, 3.5000, 1.4000, 0.2000])"
            ]
          },
          "metadata": {},
          "execution_count": 71
        }
      ],
      "source": [
        "X[0]"
      ]
    },
    {
      "cell_type": "markdown",
      "id": "245ec999-91a0-49f8-8cc4-1d5a20973854",
      "metadata": {
        "id": "245ec999-91a0-49f8-8cc4-1d5a20973854"
      },
      "source": [
        "Las clases Y representan el tipo de flor que deseamos aprender a clasificar siendo 0: Iris-Setosa, 1: Iris-Versicolor y 2: Iris-Virginica."
      ]
    },
    {
      "cell_type": "code",
      "execution_count": 72,
      "id": "dc2ec800-b3af-425a-8736-80fe9ef0b89e",
      "metadata": {
        "id": "dc2ec800-b3af-425a-8736-80fe9ef0b89e",
        "outputId": "dfa902cb-a032-40c8-85b4-6f7315fa8e02",
        "colab": {
          "base_uri": "https://localhost:8080/"
        }
      },
      "outputs": [
        {
          "output_type": "execute_result",
          "data": {
            "text/plain": [
              "array([0, 0, 0, 0, 0, 0, 0, 0, 0, 0, 0, 0, 0, 0, 0, 0, 0, 0, 0, 0, 0, 0,\n",
              "       0, 0, 0, 0, 0, 0, 0, 0, 0, 0, 0, 0, 0, 0, 0, 0, 0, 0, 0, 0, 0, 0,\n",
              "       0, 0, 0, 0, 0, 0, 1, 1, 1, 1, 1, 1, 1, 1, 1, 1, 1, 1, 1, 1, 1, 1,\n",
              "       1, 1, 1, 1, 1, 1, 1, 1, 1, 1, 1, 1, 1, 1, 1, 1, 1, 1, 1, 1, 1, 1,\n",
              "       1, 1, 1, 1, 1, 1, 1, 1, 1, 1, 1, 1, 2, 2, 2, 2, 2, 2, 2, 2, 2, 2,\n",
              "       2, 2, 2, 2, 2, 2, 2, 2, 2, 2, 2, 2, 2, 2, 2, 2, 2, 2, 2, 2, 2, 2,\n",
              "       2, 2, 2, 2, 2, 2, 2, 2, 2, 2, 2, 2, 2, 2, 2, 2, 2, 2])"
            ]
          },
          "metadata": {},
          "execution_count": 72
        }
      ],
      "source": [
        "Y"
      ]
    },
    {
      "cell_type": "markdown",
      "id": "2adbbb20-062f-406f-a0da-bb79c423eac8",
      "metadata": {
        "id": "2adbbb20-062f-406f-a0da-bb79c423eac8"
      },
      "source": [
        "## Inputs\n",
        "\n",
        "A partir de nuestro dataset X, crearemos un minibatch. El minibatch representa la cantidad de renglones del input que nuestra red procesará simultáneamente en tiempo de inferencia o de entrenamiento.\n",
        "\n",
        "Poder procesar varios inputs simultáneamente es una ventaja adicional de las ANN vs. otros métodos de aprendizaje automático.\n",
        "\n",
        "En este caso utilizamos un minibatch de tamaño 2, pero este valor puede cambiarse arbitrariamente."
      ]
    },
    {
      "cell_type": "code",
      "execution_count": 73,
      "id": "3d17e3ae",
      "metadata": {
        "id": "3d17e3ae",
        "outputId": "a8a7e90f-20fc-40f5-be22-59c797eac755",
        "colab": {
          "base_uri": "https://localhost:8080/"
        }
      },
      "outputs": [
        {
          "output_type": "execute_result",
          "data": {
            "text/plain": [
              "array([[5.1000, 3.5000, 1.4000, 0.2000],\n",
              "       [4.9000, 3.0000, 1.4000, 0.2000]])"
            ]
          },
          "metadata": {},
          "execution_count": 73
        }
      ],
      "source": [
        "# Leemos las dos primeras instancias del dataset Iris\n",
        "\n",
        "x = X[:2]\n",
        "x"
      ]
    },
    {
      "cell_type": "code",
      "execution_count": 74,
      "id": "18f32caf",
      "metadata": {
        "id": "18f32caf",
        "outputId": "e538395e-269c-4e39-9081-bf08305c83d5",
        "colab": {
          "base_uri": "https://localhost:8080/"
        }
      },
      "outputs": [
        {
          "output_type": "execute_result",
          "data": {
            "text/plain": [
              "(2, 4)"
            ]
          },
          "metadata": {},
          "execution_count": 74
        }
      ],
      "source": [
        "x.shape"
      ]
    },
    {
      "cell_type": "markdown",
      "id": "ce8f3eef-2782-4c4c-a716-9d89faa6bf6d",
      "metadata": {
        "id": "ce8f3eef-2782-4c4c-a716-9d89faa6bf6d"
      },
      "source": [
        "## Arquitectura de la red\n",
        "\n",
        "Vamos a crear una red de perceptrón multicapa o red densa, con 2 capas ocultas, una de 5 unidades y una de 4 unidades. El tamaño de las capas ocultas es una decisión del diseñador de la red, por lo cual queda completamente a nuestro criterio.\n",
        "\n",
        "Por otro lado, el tamaño de la capa de input depende de la cantidad de features que tienen nuestros dataset, en este caso requerimos 4 unidades. Igualmente la capa de salida depende de la tarea que vamos a resolver, en este caso una clasificación multi-clase. Dado que deseamos clasificar entre tres clases requerimos 3 unidades."
      ]
    },
    {
      "cell_type": "markdown",
      "id": "fe52e859-09ec-4f72-b52c-4c9f968ba242",
      "metadata": {
        "id": "fe52e859-09ec-4f72-b52c-4c9f968ba242"
      },
      "source": [
        "![test.png](data:image/png;base64,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)"
      ]
    },
    {
      "cell_type": "markdown",
      "id": "338bb435-8ec7-43d9-953b-5e59672330bd",
      "metadata": {
        "id": "338bb435-8ec7-43d9-953b-5e59672330bd"
      },
      "source": [
        "Diagrama generado con [Dotnets + Graphviz](https://github.com/martisak/dotnets)\n",
        "\n",
        "### Capa oculta 1\n",
        "\n",
        "El elemento más importante de cada capa oculta es su matriz de pesos.\n",
        "\n",
        "La matriz de pesos tiene renglones de acuerdo a la cantidad de features del input y tantas columnas como nodos.\n",
        "\n",
        "Es decir, 4 elementos x 5 nodos de la capa hidden, seran 20 parámetros o pesos para la primera capa.\n"
      ]
    },
    {
      "cell_type": "code",
      "execution_count": 75,
      "id": "c96749f2",
      "metadata": {
        "id": "c96749f2",
        "outputId": "77b8fbc2-6c0e-4df7-e956-0c31006fedbe",
        "colab": {
          "base_uri": "https://localhost:8080/"
        }
      },
      "outputs": [
        {
          "output_type": "execute_result",
          "data": {
            "text/plain": [
              "array([[0.5434, 0.2784, 0.4245, 0.8448, 0.0047],\n",
              "       [0.1216, 0.6707, 0.8259, 0.1367, 0.5751],\n",
              "       [0.8913, 0.2092, 0.1853, 0.1084, 0.2197],\n",
              "       [0.9786, 0.8117, 0.1719, 0.8162, 0.2741]])"
            ]
          },
          "metadata": {},
          "execution_count": 75
        }
      ],
      "source": [
        "W_1 = np.random.rand(x.shape[1], 5)\n",
        "W_1"
      ]
    },
    {
      "cell_type": "code",
      "execution_count": 76,
      "id": "ba7c7492-6fdd-4034-85f2-b324af3a0cca",
      "metadata": {
        "id": "ba7c7492-6fdd-4034-85f2-b324af3a0cca",
        "outputId": "5365d5b1-d3b7-4213-8d34-8872f4fefc38",
        "colab": {
          "base_uri": "https://localhost:8080/"
        }
      },
      "outputs": [
        {
          "output_type": "execute_result",
          "data": {
            "text/plain": [
              "(4, 5)"
            ]
          },
          "metadata": {},
          "execution_count": 76
        }
      ],
      "source": [
        "W_1.shape"
      ]
    },
    {
      "cell_type": "markdown",
      "id": "976bb933-8dde-4bb1-b7ca-5f0a0ebf7f94",
      "metadata": {
        "id": "976bb933-8dde-4bb1-b7ca-5f0a0ebf7f94"
      },
      "source": [
        "Aqui multiplicamos el minibatch por la matriz de pesos de la primera capa.\n",
        "\n",
        "Cada renglón del resultado corresponde con cada elemento del minibatch.\n",
        "\n",
        "Como ejercicio puedes probar a modificar el tamaño del minibatch y verás cómo se modifica el resultado de esta operación."
      ]
    },
    {
      "cell_type": "code",
      "execution_count": 77,
      "id": "1a1515f6",
      "metadata": {
        "id": "1a1515f6",
        "outputId": "eb62c4ca-8698-4cf6-fde4-510e119c3a0f",
        "colab": {
          "base_uri": "https://localhost:8080/"
        }
      },
      "outputs": [
        {
          "output_type": "execute_result",
          "data": {
            "text/plain": [
              "array([[4.6404, 4.2225, 5.3494, 5.1018, 2.3993],\n",
              "       [4.4710, 3.8315, 4.8515, 4.8645, 2.1108]])"
            ]
          },
          "metadata": {},
          "execution_count": 77
        }
      ],
      "source": [
        "h1 = x@W_1\n",
        "h1"
      ]
    },
    {
      "cell_type": "markdown",
      "id": "f2612b6f-cfa6-4c5b-9ad3-78b284c018b0",
      "metadata": {
        "id": "f2612b6f-cfa6-4c5b-9ad3-78b284c018b0"
      },
      "source": [
        "#### Función de activacion de las capas oculas (ReLU)\n",
        "\n",
        "Aplicamos la funcion ReLU, que simplemente toma el maximo entre cero y el valor obtenido\n"
      ]
    },
    {
      "cell_type": "code",
      "execution_count": 78,
      "id": "9f5b1c9e-83e3-43c2-80a6-20dd75ebb75e",
      "metadata": {
        "id": "9f5b1c9e-83e3-43c2-80a6-20dd75ebb75e",
        "outputId": "55f33727-3983-4215-f669-ff4ef7f77148",
        "colab": {
          "base_uri": "https://localhost:8080/"
        }
      },
      "outputs": [
        {
          "output_type": "execute_result",
          "data": {
            "text/plain": [
              "array([[4.6404, 4.2225, 5.3494, 5.1018, 2.3993],\n",
              "       [4.4710, 3.8315, 4.8515, 4.8645, 2.1108]])"
            ]
          },
          "metadata": {},
          "execution_count": 78
        }
      ],
      "source": [
        "a1 = np.maximum(h1,0)\n",
        "a1"
      ]
    },
    {
      "cell_type": "code",
      "execution_count": 79,
      "id": "6d9289fa-71fd-4bf0-9dcb-d656d0ac509a",
      "metadata": {
        "id": "6d9289fa-71fd-4bf0-9dcb-d656d0ac509a",
        "outputId": "c933d0f8-a837-4fea-f470-6f5507806516",
        "colab": {
          "base_uri": "https://localhost:8080/"
        }
      },
      "outputs": [
        {
          "output_type": "execute_result",
          "data": {
            "text/plain": [
              "(2, 5)"
            ]
          },
          "metadata": {},
          "execution_count": 79
        }
      ],
      "source": [
        "a1.shape"
      ]
    },
    {
      "cell_type": "markdown",
      "id": "e57e5df1-a997-4564-b7c4-eea5c0906029",
      "metadata": {
        "id": "e57e5df1-a997-4564-b7c4-eea5c0906029"
      },
      "source": [
        "### Capa oculta 2\n",
        "\n",
        "El input a la capa 2 es el resultado de la activacion de la capa 1, es decir a1.\n",
        "\n",
        "Para la segunda capa tenemos 5 features, que son las columnas de a<sub>1</sub> x 4 unidades = 20 parámetros.\n"
      ]
    },
    {
      "cell_type": "code",
      "execution_count": 80,
      "id": "8dbbefae-bf14-4f07-9220-43bed1cbb94e",
      "metadata": {
        "id": "8dbbefae-bf14-4f07-9220-43bed1cbb94e",
        "outputId": "942e36d9-7c63-43c2-9a20-14ca7f597bf9",
        "colab": {
          "base_uri": "https://localhost:8080/"
        }
      },
      "outputs": [
        {
          "output_type": "execute_result",
          "data": {
            "text/plain": [
              "array([[0.5434, 0.2784, 0.4245, 0.8448, 0.0047],\n",
              "       [0.1216, 0.6707, 0.8259, 0.1367, 0.5751],\n",
              "       [0.8913, 0.2092, 0.1853, 0.1084, 0.2197],\n",
              "       [0.9786, 0.8117, 0.1719, 0.8162, 0.2741]])"
            ]
          },
          "metadata": {},
          "execution_count": 80
        }
      ],
      "source": [
        "W_2 = np.random.rand(a1.shape[1], 4 )\n",
        "W_1"
      ]
    },
    {
      "cell_type": "code",
      "execution_count": 81,
      "id": "dd85746e-c730-4243-abd1-2b19dcdccfe4",
      "metadata": {
        "id": "dd85746e-c730-4243-abd1-2b19dcdccfe4",
        "outputId": "ad6de151-5e29-4d19-a40f-02e94667d4c0",
        "colab": {
          "base_uri": "https://localhost:8080/"
        }
      },
      "outputs": [
        {
          "output_type": "execute_result",
          "data": {
            "text/plain": [
              "array([[9.8902, 8.1105, 9.3445, 11.7824],\n",
              "       [9.0444, 7.6898, 8.6400, 10.9484]])"
            ]
          },
          "metadata": {},
          "execution_count": 81
        }
      ],
      "source": [
        "h2 = a1@W_2\n",
        "h2"
      ]
    },
    {
      "cell_type": "markdown",
      "id": "04f7fa6c-89b4-4444-9660-0a828f803de1",
      "metadata": {
        "id": "04f7fa6c-89b4-4444-9660-0a828f803de1"
      },
      "source": [
        "Nuevamente aplicamos la función de activación ReLU, esta operación no modifica las dimensiones del input que estamos procesando en este paso."
      ]
    },
    {
      "cell_type": "code",
      "execution_count": 82,
      "id": "aed97dc3-b19a-410e-a16b-e97ff44f09b8",
      "metadata": {
        "id": "aed97dc3-b19a-410e-a16b-e97ff44f09b8",
        "outputId": "cfea624b-2927-49f6-940a-0929d0c0e654",
        "colab": {
          "base_uri": "https://localhost:8080/"
        }
      },
      "outputs": [
        {
          "output_type": "execute_result",
          "data": {
            "text/plain": [
              "array([[9.8902, 8.1105, 9.3445, 11.7824],\n",
              "       [9.0444, 7.6898, 8.6400, 10.9484]])"
            ]
          },
          "metadata": {},
          "execution_count": 82
        }
      ],
      "source": [
        "# Ojo, la funcion np.max no es element-wise, hay que usar maximum\n",
        "a2 = np.maximum(h2,0)\n",
        "a2"
      ]
    },
    {
      "cell_type": "markdown",
      "id": "0526a3e5-3e64-478c-b867-f3e5651150c3",
      "metadata": {
        "id": "0526a3e5-3e64-478c-b867-f3e5651150c3"
      },
      "source": [
        "### Capa de salida\n",
        "\n",
        "La capa de salida tiene 3 unidades, una para cada clase del dataset.\n",
        "\n",
        "La salida de la capa previa a<sub>2</sub> tiene 4 features, entonces la matriz de pesos de la capa de salida tiene 4x3 = 12 parámetros.  "
      ]
    },
    {
      "cell_type": "code",
      "execution_count": 83,
      "id": "15ee46b6-67d9-4f2f-a58e-fbee3fc35f4d",
      "metadata": {
        "id": "15ee46b6-67d9-4f2f-a58e-fbee3fc35f4d",
        "outputId": "d104b4f2-c982-48ce-8c2d-e5773e6647de",
        "colab": {
          "base_uri": "https://localhost:8080/"
        }
      },
      "outputs": [
        {
          "output_type": "execute_result",
          "data": {
            "text/plain": [
              "array([[0.7425, 0.6302, 0.5818],\n",
              "       [0.0204, 0.2100, 0.5447],\n",
              "       [0.7691, 0.2507, 0.2859],\n",
              "       [0.8524, 0.9750, 0.8849]])"
            ]
          },
          "metadata": {},
          "execution_count": 83
        }
      ],
      "source": [
        "num_output = 3\n",
        "\n",
        "W_3 = np.random.rand(a2.shape[1], num_output)\n",
        "W_3"
      ]
    },
    {
      "cell_type": "markdown",
      "id": "6bd65cb4-a9e7-44c3-b6cd-24b71f66e238",
      "metadata": {
        "id": "6bd65cb4-a9e7-44c3-b6cd-24b71f66e238"
      },
      "source": [
        "Calculamos el valor de las neuronas de salida antes de la capa 3.\n",
        "\n",
        "Esta es equivalente a la capa \"Linear\" y para algunos problemas es una forma correcta de terminar el output final de la red."
      ]
    },
    {
      "cell_type": "code",
      "execution_count": 84,
      "id": "9fd2d7be-2ad1-43d6-8c1a-eadfe3fd5133",
      "metadata": {
        "id": "9fd2d7be-2ad1-43d6-8c1a-eadfe3fd5133",
        "outputId": "67cffca5-5912-4c17-c231-89ab5f9cbdd4",
        "colab": {
          "base_uri": "https://localhost:8080/"
        }
      },
      "outputs": [
        {
          "output_type": "execute_result",
          "data": {
            "text/plain": [
              "array([[24.7393, 21.7666, 23.2694],\n",
              "       [22.8500, 20.1555, 21.6088]])"
            ]
          },
          "metadata": {},
          "execution_count": 84
        }
      ],
      "source": [
        "h3 = a2@W_3\n",
        "h3"
      ]
    },
    {
      "cell_type": "markdown",
      "id": "f9de0f87-dfc9-4c96-9b45-ef69d512c93e",
      "metadata": {
        "id": "f9de0f87-dfc9-4c96-9b45-ef69d512c93e"
      },
      "source": [
        "A continuación puedes ver la operación anterior expresada de forma compacta como una *composición de funciones*, que es una multiplicación sucesiva del input por sus pesos con una función no-lineal entre cada una de las operaciones. Como puedes ver, las variables h<sub>1</sub>, h<sub>2</sub> y a<sub>1</sub>, a<sub>2</sub> no son realmente necesarias para la implementación, sino que se agregan con fines didácticos."
      ]
    },
    {
      "cell_type": "code",
      "execution_count": 85,
      "id": "406aec24-7eb9-4dca-84cf-26fd590c2b12",
      "metadata": {
        "id": "406aec24-7eb9-4dca-84cf-26fd590c2b12",
        "outputId": "2dfe62e9-2e39-4ac3-9488-8053f7579649",
        "colab": {
          "base_uri": "https://localhost:8080/"
        }
      },
      "outputs": [
        {
          "output_type": "execute_result",
          "data": {
            "text/plain": [
              "array([[24.7393, 21.7666, 23.2694],\n",
              "       [22.8500, 20.1555, 21.6088]])"
            ]
          },
          "metadata": {},
          "execution_count": 85
        }
      ],
      "source": [
        "np.maximum(np.maximum(x@W_1,0)@W_2,0)@W_3"
      ]
    },
    {
      "cell_type": "markdown",
      "id": "6544ed46-9374-4c3a-8712-08fddee92bee",
      "metadata": {
        "id": "6544ed46-9374-4c3a-8712-08fddee92bee"
      },
      "source": [
        "#### Función de activación de la última capa (Softmax)\n",
        "\n",
        "En este caso, ya que deseamos implementar una red neuronal para clasificación multi-clase, calcularemos la función softmax. Recordemos que la activación de la última capa está determinada por la tarea que vamos a resolver en la red.\n",
        "\n",
        "Entonces, el resultado de la función softmax representará la probabilidad de que nuestro input (x<sub>i</sub>) pertenezca a cada una de las clases del dataset Iris.  Cada clase está representada por una columna y corresponde a las unidades de la capa de salida de la red.\n"
      ]
    },
    {
      "cell_type": "markdown",
      "id": "1150435b-4175-4d8c-8314-ab8ae8ffd450",
      "metadata": {
        "id": "1150435b-4175-4d8c-8314-ab8ae8ffd450"
      },
      "source": [
        "A continuación ejecutamos la función softmax que será el resultado final de nuestro \"forward pass\" de la red. Dado que nuestro minibatch es de tamaño 2, cada renglón del output es una clasificación completa realizada por la red.\n",
        "\n",
        "Recuerda que estos resultados son completamente aleatorios, en este momento únicamente nos interesa validar que nuestra red tenga la arquitectura y dimensiones correctas.\n"
      ]
    },
    {
      "cell_type": "code",
      "execution_count": 86,
      "id": "28e162b1-202a-49d5-80d6-faf54748d60b",
      "metadata": {
        "id": "28e162b1-202a-49d5-80d6-faf54748d60b",
        "outputId": "ff496df2-d34e-4b57-d86e-50b21428acc6",
        "colab": {
          "base_uri": "https://localhost:8080/"
        }
      },
      "outputs": [
        {
          "output_type": "execute_result",
          "data": {
            "text/plain": [
              "array([[0.7806, 0.0399, 0.1795],\n",
              "       [0.7371, 0.0498, 0.2131]])"
            ]
          },
          "metadata": {},
          "execution_count": 86
        }
      ],
      "source": [
        "output = np.exp(h3)/(np.sum(np.exp(h3), axis = 1)).reshape(-1,1)\n",
        "output"
      ]
    },
    {
      "cell_type": "markdown",
      "id": "1c3b54e4-23aa-465a-b649-bd650fb4ec35",
      "metadata": {
        "id": "1c3b54e4-23aa-465a-b649-bd650fb4ec35"
      },
      "source": [
        "A continuación podemos verificar que la suma de cada renglon es 1."
      ]
    },
    {
      "cell_type": "code",
      "execution_count": 87,
      "id": "b95008bf-75f5-471a-a070-09c88a0e2beb",
      "metadata": {
        "id": "b95008bf-75f5-471a-a070-09c88a0e2beb",
        "outputId": "74c105bf-a3ee-407f-ef0c-d75e20c1c8eb",
        "colab": {
          "base_uri": "https://localhost:8080/"
        }
      },
      "outputs": [
        {
          "output_type": "execute_result",
          "data": {
            "text/plain": [
              "array([[1.0000],\n",
              "       [1.0000]])"
            ]
          },
          "metadata": {},
          "execution_count": 87
        }
      ],
      "source": [
        "np.sum(output, axis=1).reshape(-1,1)"
      ]
    },
    {
      "cell_type": "markdown",
      "id": "1dd7d738-d19a-4241-95b5-81cdf8a92892",
      "metadata": {
        "id": "1dd7d738-d19a-4241-95b5-81cdf8a92892"
      },
      "source": [
        "**Nota:** Numéricamente, la función softmax es propensa a *overflow* o *underflow*. Para evitar este problema, se utiliza una \"truco\" para hacerla [numéricamente estable](https://stackoverflow.com/questions/42599498/numerically-stable-softmax) que consiste en restar a cada renglón el valor máximo antes de realizar las operaciones de exponenciación en el numerador y el denominador. A continuacion puedes ver cómo se implementa Softmax con ajuste para overflow, pero por simplicidad omitiremos este paso en el resto del tutorial."
      ]
    },
    {
      "cell_type": "code",
      "execution_count": 88,
      "id": "7b348ad4-037c-479b-b456-21994d132c2d",
      "metadata": {
        "id": "7b348ad4-037c-479b-b456-21994d132c2d",
        "outputId": "6a24d004-e531-499e-ea6f-edc6e6363327",
        "colab": {
          "base_uri": "https://localhost:8080/"
        }
      },
      "outputs": [
        {
          "output_type": "execute_result",
          "data": {
            "text/plain": [
              "array([[0.7806, 0.0399, 0.1795],\n",
              "       [0.7371, 0.0498, 0.2131]])"
            ]
          },
          "metadata": {},
          "execution_count": 88
        }
      ],
      "source": [
        "# Primero calculamos el maximo de cada renglon\n",
        "maxes= np.max(h3,1).reshape(-1,1)\n",
        "output = np.exp(h3 - maxes)/(np.sum(np.exp(h3 - maxes), axis = 1)).reshape(-1,1)\n",
        "output"
      ]
    },
    {
      "cell_type": "markdown",
      "id": "4800dd62-e913-4c4f-be3f-f220ee9a04b8",
      "metadata": {
        "id": "4800dd62-e913-4c4f-be3f-f220ee9a04b8"
      },
      "source": [
        "## Resumen del forward pass\n",
        "\n",
        "Finalmente podemos expresar **todo** el forward pass de la red de la siguiente forma en las siguientes 2 líneas. Toma nota de ellas, ya que en los siguientes pasos utilizaremos esta notación compacta. Dejo comentadas las inicializaciones de los parámetros para que puedas comprobar el resultado anterior."
      ]
    },
    {
      "cell_type": "code",
      "execution_count": 90,
      "id": "1e42836f-f23e-43f1-956f-385e20dc0f81",
      "metadata": {
        "id": "1e42836f-f23e-43f1-956f-385e20dc0f81",
        "outputId": "783f50d9-be09-401c-811e-0a665fdee1e5",
        "colab": {
          "base_uri": "https://localhost:8080/"
        }
      },
      "outputs": [
        {
          "output_type": "execute_result",
          "data": {
            "text/plain": [
              "array([[0.7806, 0.0399, 0.1795],\n",
              "       [0.7371, 0.0498, 0.2131]])"
            ]
          },
          "metadata": {},
          "execution_count": 90
        }
      ],
      "source": [
        "#Obtener datos\n",
        "#x = X[:2]\n",
        "\n",
        "#Inicializar arreglos de parametros con valores aleatorios\n",
        "#W_1 = np.random.rand(x.shape[1], 5)\n",
        "#W_2 = np.random.rand(a1.shape[1], 4 )\n",
        "#W_3 = np.random.rand(a2.shape[1], 3)\n",
        "\n",
        "# Forward pass, ejecutamos las 2 capas ocultas ReLU y la capa de salida lineal\n",
        "h3 = np.maximum(np.maximum(x@W_1,0)@W_2,0)@W_3\n",
        "\n",
        "# Función de activación softmax para la última capa\n",
        "output = np.exp(h3)/(np.sum(np.exp(h3), axis = 1)).reshape(-1,1)\n",
        "output"
      ]
    },
    {
      "cell_type": "code",
      "source": [],
      "metadata": {
        "id": "_n4bM1RH1bdv"
      },
      "id": "_n4bM1RH1bdv",
      "execution_count": 89,
      "outputs": []
    }
  ],
  "metadata": {
    "kernelspec": {
      "display_name": "pytorch",
      "language": "python",
      "name": "pytorch"
    },
    "language_info": {
      "codemirror_mode": {
        "name": "ipython",
        "version": 3
      },
      "file_extension": ".py",
      "mimetype": "text/x-python",
      "name": "python",
      "nbconvert_exporter": "python",
      "pygments_lexer": "ipython3",
      "version": "3.11.2"
    },
    "colab": {
      "provenance": []
    }
  },
  "nbformat": 4,
  "nbformat_minor": 5
}
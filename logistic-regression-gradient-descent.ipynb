{
  "cells": [
    {
      "cell_type": "markdown",
      "metadata": {
        "id": "view-in-github",
        "colab_type": "text"
      },
      "source": [
        "<a href=\"https://colab.research.google.com/github/tozanni/Deep_Learning_Notebooks/blob/main/logistic-regression-gradient-descent.ipynb\" target=\"_parent\"><img src=\"https://colab.research.google.com/assets/colab-badge.svg\" alt=\"Open In Colab\"/></a>"
      ]
    },
    {
      "cell_type": "code",
      "execution_count": 1,
      "metadata": {
        "id": "z8B_brdPlVT5"
      },
      "outputs": [],
      "source": [
        "import numpy as np\n",
        "import matplotlib.pyplot as plt\n",
        "import pandas as pd\n",
        "import math"
      ],
      "id": "z8B_brdPlVT5"
    },
    {
      "cell_type": "markdown",
      "metadata": {
        "id": "J0FvKFbjlVT6"
      },
      "source": [
        "# Read the dataset"
      ],
      "id": "J0FvKFbjlVT6"
    },
    {
      "cell_type": "code",
      "execution_count": 2,
      "metadata": {
        "id": "VgJ_FXA_lVT7",
        "outputId": "94fc70cd-e43e-4df3-a9ea-b3304ca192fa",
        "colab": {
          "base_uri": "https://localhost:8080/",
          "height": 206
        }
      },
      "outputs": [
        {
          "output_type": "execute_result",
          "data": {
            "text/plain": [
              "    Area  MajorAxisLength  MinorAxisLength  Eccentricity  ConvexArea  \\\n",
              "0  87524       442.246011       253.291155      0.819738       90546   \n",
              "1  75166       406.690687       243.032436      0.801805       78789   \n",
              "2  90856       442.267048       266.328318      0.798354       93717   \n",
              "3  45928       286.540559       208.760042      0.684989       47336   \n",
              "4  79408       352.190770       290.827533      0.564011       81463   \n",
              "\n",
              "     Extent  Perimeter    Class  \n",
              "0  0.758651   1184.040  Kecimen  \n",
              "1  0.684130   1121.786  Kecimen  \n",
              "2  0.637613   1208.575  Kecimen  \n",
              "3  0.699599    844.162  Kecimen  \n",
              "4  0.792772   1073.251  Kecimen  "
            ],
            "text/html": [
              "\n",
              "  <div id=\"df-0c12cf04-e776-48be-b019-d0db95ecc69c\" class=\"colab-df-container\">\n",
              "    <div>\n",
              "<style scoped>\n",
              "    .dataframe tbody tr th:only-of-type {\n",
              "        vertical-align: middle;\n",
              "    }\n",
              "\n",
              "    .dataframe tbody tr th {\n",
              "        vertical-align: top;\n",
              "    }\n",
              "\n",
              "    .dataframe thead th {\n",
              "        text-align: right;\n",
              "    }\n",
              "</style>\n",
              "<table border=\"1\" class=\"dataframe\">\n",
              "  <thead>\n",
              "    <tr style=\"text-align: right;\">\n",
              "      <th></th>\n",
              "      <th>Area</th>\n",
              "      <th>MajorAxisLength</th>\n",
              "      <th>MinorAxisLength</th>\n",
              "      <th>Eccentricity</th>\n",
              "      <th>ConvexArea</th>\n",
              "      <th>Extent</th>\n",
              "      <th>Perimeter</th>\n",
              "      <th>Class</th>\n",
              "    </tr>\n",
              "  </thead>\n",
              "  <tbody>\n",
              "    <tr>\n",
              "      <th>0</th>\n",
              "      <td>87524</td>\n",
              "      <td>442.246011</td>\n",
              "      <td>253.291155</td>\n",
              "      <td>0.819738</td>\n",
              "      <td>90546</td>\n",
              "      <td>0.758651</td>\n",
              "      <td>1184.040</td>\n",
              "      <td>Kecimen</td>\n",
              "    </tr>\n",
              "    <tr>\n",
              "      <th>1</th>\n",
              "      <td>75166</td>\n",
              "      <td>406.690687</td>\n",
              "      <td>243.032436</td>\n",
              "      <td>0.801805</td>\n",
              "      <td>78789</td>\n",
              "      <td>0.684130</td>\n",
              "      <td>1121.786</td>\n",
              "      <td>Kecimen</td>\n",
              "    </tr>\n",
              "    <tr>\n",
              "      <th>2</th>\n",
              "      <td>90856</td>\n",
              "      <td>442.267048</td>\n",
              "      <td>266.328318</td>\n",
              "      <td>0.798354</td>\n",
              "      <td>93717</td>\n",
              "      <td>0.637613</td>\n",
              "      <td>1208.575</td>\n",
              "      <td>Kecimen</td>\n",
              "    </tr>\n",
              "    <tr>\n",
              "      <th>3</th>\n",
              "      <td>45928</td>\n",
              "      <td>286.540559</td>\n",
              "      <td>208.760042</td>\n",
              "      <td>0.684989</td>\n",
              "      <td>47336</td>\n",
              "      <td>0.699599</td>\n",
              "      <td>844.162</td>\n",
              "      <td>Kecimen</td>\n",
              "    </tr>\n",
              "    <tr>\n",
              "      <th>4</th>\n",
              "      <td>79408</td>\n",
              "      <td>352.190770</td>\n",
              "      <td>290.827533</td>\n",
              "      <td>0.564011</td>\n",
              "      <td>81463</td>\n",
              "      <td>0.792772</td>\n",
              "      <td>1073.251</td>\n",
              "      <td>Kecimen</td>\n",
              "    </tr>\n",
              "  </tbody>\n",
              "</table>\n",
              "</div>\n",
              "    <div class=\"colab-df-buttons\">\n",
              "\n",
              "  <div class=\"colab-df-container\">\n",
              "    <button class=\"colab-df-convert\" onclick=\"convertToInteractive('df-0c12cf04-e776-48be-b019-d0db95ecc69c')\"\n",
              "            title=\"Convert this dataframe to an interactive table.\"\n",
              "            style=\"display:none;\">\n",
              "\n",
              "  <svg xmlns=\"http://www.w3.org/2000/svg\" height=\"24px\" viewBox=\"0 -960 960 960\">\n",
              "    <path d=\"M120-120v-720h720v720H120Zm60-500h600v-160H180v160Zm220 220h160v-160H400v160Zm0 220h160v-160H400v160ZM180-400h160v-160H180v160Zm440 0h160v-160H620v160ZM180-180h160v-160H180v160Zm440 0h160v-160H620v160Z\"/>\n",
              "  </svg>\n",
              "    </button>\n",
              "\n",
              "  <style>\n",
              "    .colab-df-container {\n",
              "      display:flex;\n",
              "      gap: 12px;\n",
              "    }\n",
              "\n",
              "    .colab-df-convert {\n",
              "      background-color: #E8F0FE;\n",
              "      border: none;\n",
              "      border-radius: 50%;\n",
              "      cursor: pointer;\n",
              "      display: none;\n",
              "      fill: #1967D2;\n",
              "      height: 32px;\n",
              "      padding: 0 0 0 0;\n",
              "      width: 32px;\n",
              "    }\n",
              "\n",
              "    .colab-df-convert:hover {\n",
              "      background-color: #E2EBFA;\n",
              "      box-shadow: 0px 1px 2px rgba(60, 64, 67, 0.3), 0px 1px 3px 1px rgba(60, 64, 67, 0.15);\n",
              "      fill: #174EA6;\n",
              "    }\n",
              "\n",
              "    .colab-df-buttons div {\n",
              "      margin-bottom: 4px;\n",
              "    }\n",
              "\n",
              "    [theme=dark] .colab-df-convert {\n",
              "      background-color: #3B4455;\n",
              "      fill: #D2E3FC;\n",
              "    }\n",
              "\n",
              "    [theme=dark] .colab-df-convert:hover {\n",
              "      background-color: #434B5C;\n",
              "      box-shadow: 0px 1px 3px 1px rgba(0, 0, 0, 0.15);\n",
              "      filter: drop-shadow(0px 1px 2px rgba(0, 0, 0, 0.3));\n",
              "      fill: #FFFFFF;\n",
              "    }\n",
              "  </style>\n",
              "\n",
              "    <script>\n",
              "      const buttonEl =\n",
              "        document.querySelector('#df-0c12cf04-e776-48be-b019-d0db95ecc69c button.colab-df-convert');\n",
              "      buttonEl.style.display =\n",
              "        google.colab.kernel.accessAllowed ? 'block' : 'none';\n",
              "\n",
              "      async function convertToInteractive(key) {\n",
              "        const element = document.querySelector('#df-0c12cf04-e776-48be-b019-d0db95ecc69c');\n",
              "        const dataTable =\n",
              "          await google.colab.kernel.invokeFunction('convertToInteractive',\n",
              "                                                    [key], {});\n",
              "        if (!dataTable) return;\n",
              "\n",
              "        const docLinkHtml = 'Like what you see? Visit the ' +\n",
              "          '<a target=\"_blank\" href=https://colab.research.google.com/notebooks/data_table.ipynb>data table notebook</a>'\n",
              "          + ' to learn more about interactive tables.';\n",
              "        element.innerHTML = '';\n",
              "        dataTable['output_type'] = 'display_data';\n",
              "        await google.colab.output.renderOutput(dataTable, element);\n",
              "        const docLink = document.createElement('div');\n",
              "        docLink.innerHTML = docLinkHtml;\n",
              "        element.appendChild(docLink);\n",
              "      }\n",
              "    </script>\n",
              "  </div>\n",
              "\n",
              "\n",
              "<div id=\"df-2c7f5a2c-1639-4d59-b0fa-08c396242826\">\n",
              "  <button class=\"colab-df-quickchart\" onclick=\"quickchart('df-2c7f5a2c-1639-4d59-b0fa-08c396242826')\"\n",
              "            title=\"Suggest charts\"\n",
              "            style=\"display:none;\">\n",
              "\n",
              "<svg xmlns=\"http://www.w3.org/2000/svg\" height=\"24px\"viewBox=\"0 0 24 24\"\n",
              "     width=\"24px\">\n",
              "    <g>\n",
              "        <path d=\"M19 3H5c-1.1 0-2 .9-2 2v14c0 1.1.9 2 2 2h14c1.1 0 2-.9 2-2V5c0-1.1-.9-2-2-2zM9 17H7v-7h2v7zm4 0h-2V7h2v10zm4 0h-2v-4h2v4z\"/>\n",
              "    </g>\n",
              "</svg>\n",
              "  </button>\n",
              "\n",
              "<style>\n",
              "  .colab-df-quickchart {\n",
              "      --bg-color: #E8F0FE;\n",
              "      --fill-color: #1967D2;\n",
              "      --hover-bg-color: #E2EBFA;\n",
              "      --hover-fill-color: #174EA6;\n",
              "      --disabled-fill-color: #AAA;\n",
              "      --disabled-bg-color: #DDD;\n",
              "  }\n",
              "\n",
              "  [theme=dark] .colab-df-quickchart {\n",
              "      --bg-color: #3B4455;\n",
              "      --fill-color: #D2E3FC;\n",
              "      --hover-bg-color: #434B5C;\n",
              "      --hover-fill-color: #FFFFFF;\n",
              "      --disabled-bg-color: #3B4455;\n",
              "      --disabled-fill-color: #666;\n",
              "  }\n",
              "\n",
              "  .colab-df-quickchart {\n",
              "    background-color: var(--bg-color);\n",
              "    border: none;\n",
              "    border-radius: 50%;\n",
              "    cursor: pointer;\n",
              "    display: none;\n",
              "    fill: var(--fill-color);\n",
              "    height: 32px;\n",
              "    padding: 0;\n",
              "    width: 32px;\n",
              "  }\n",
              "\n",
              "  .colab-df-quickchart:hover {\n",
              "    background-color: var(--hover-bg-color);\n",
              "    box-shadow: 0 1px 2px rgba(60, 64, 67, 0.3), 0 1px 3px 1px rgba(60, 64, 67, 0.15);\n",
              "    fill: var(--button-hover-fill-color);\n",
              "  }\n",
              "\n",
              "  .colab-df-quickchart-complete:disabled,\n",
              "  .colab-df-quickchart-complete:disabled:hover {\n",
              "    background-color: var(--disabled-bg-color);\n",
              "    fill: var(--disabled-fill-color);\n",
              "    box-shadow: none;\n",
              "  }\n",
              "\n",
              "  .colab-df-spinner {\n",
              "    border: 2px solid var(--fill-color);\n",
              "    border-color: transparent;\n",
              "    border-bottom-color: var(--fill-color);\n",
              "    animation:\n",
              "      spin 1s steps(1) infinite;\n",
              "  }\n",
              "\n",
              "  @keyframes spin {\n",
              "    0% {\n",
              "      border-color: transparent;\n",
              "      border-bottom-color: var(--fill-color);\n",
              "      border-left-color: var(--fill-color);\n",
              "    }\n",
              "    20% {\n",
              "      border-color: transparent;\n",
              "      border-left-color: var(--fill-color);\n",
              "      border-top-color: var(--fill-color);\n",
              "    }\n",
              "    30% {\n",
              "      border-color: transparent;\n",
              "      border-left-color: var(--fill-color);\n",
              "      border-top-color: var(--fill-color);\n",
              "      border-right-color: var(--fill-color);\n",
              "    }\n",
              "    40% {\n",
              "      border-color: transparent;\n",
              "      border-right-color: var(--fill-color);\n",
              "      border-top-color: var(--fill-color);\n",
              "    }\n",
              "    60% {\n",
              "      border-color: transparent;\n",
              "      border-right-color: var(--fill-color);\n",
              "    }\n",
              "    80% {\n",
              "      border-color: transparent;\n",
              "      border-right-color: var(--fill-color);\n",
              "      border-bottom-color: var(--fill-color);\n",
              "    }\n",
              "    90% {\n",
              "      border-color: transparent;\n",
              "      border-bottom-color: var(--fill-color);\n",
              "    }\n",
              "  }\n",
              "</style>\n",
              "\n",
              "  <script>\n",
              "    async function quickchart(key) {\n",
              "      const quickchartButtonEl =\n",
              "        document.querySelector('#' + key + ' button');\n",
              "      quickchartButtonEl.disabled = true;  // To prevent multiple clicks.\n",
              "      quickchartButtonEl.classList.add('colab-df-spinner');\n",
              "      try {\n",
              "        const charts = await google.colab.kernel.invokeFunction(\n",
              "            'suggestCharts', [key], {});\n",
              "      } catch (error) {\n",
              "        console.error('Error during call to suggestCharts:', error);\n",
              "      }\n",
              "      quickchartButtonEl.classList.remove('colab-df-spinner');\n",
              "      quickchartButtonEl.classList.add('colab-df-quickchart-complete');\n",
              "    }\n",
              "    (() => {\n",
              "      let quickchartButtonEl =\n",
              "        document.querySelector('#df-2c7f5a2c-1639-4d59-b0fa-08c396242826 button');\n",
              "      quickchartButtonEl.style.display =\n",
              "        google.colab.kernel.accessAllowed ? 'block' : 'none';\n",
              "    })();\n",
              "  </script>\n",
              "</div>\n",
              "\n",
              "    </div>\n",
              "  </div>\n"
            ],
            "application/vnd.google.colaboratory.intrinsic+json": {
              "type": "dataframe",
              "variable_name": "df",
              "summary": "{\n  \"name\": \"df\",\n  \"rows\": 900,\n  \"fields\": [\n    {\n      \"column\": \"Area\",\n      \"properties\": {\n        \"dtype\": \"number\",\n        \"std\": 39002,\n        \"min\": 25387,\n        \"max\": 235047,\n        \"num_unique_values\": 900,\n        \"samples\": [\n          95347,\n          61861,\n          52693\n        ],\n        \"semantic_type\": \"\",\n        \"description\": \"\"\n      }\n    },\n    {\n      \"column\": \"MajorAxisLength\",\n      \"properties\": {\n        \"dtype\": \"number\",\n        \"std\": 116.03512062468943,\n        \"min\": 225.629541,\n        \"max\": 997.2919406,\n        \"num_unique_values\": 900,\n        \"samples\": [\n          451.5261542,\n          345.9436498,\n          283.5042387\n        ],\n        \"semantic_type\": \"\",\n        \"description\": \"\"\n      }\n    },\n    {\n      \"column\": \"MinorAxisLength\",\n      \"properties\": {\n        \"dtype\": \"number\",\n        \"std\": 49.98890170571764,\n        \"min\": 143.7108718,\n        \"max\": 492.2752785,\n        \"num_unique_values\": 900,\n        \"samples\": [\n          280.2261534,\n          235.4304678,\n          242.1139544\n        ],\n        \"semantic_type\": \"\",\n        \"description\": \"\"\n      }\n    },\n    {\n      \"column\": \"Eccentricity\",\n      \"properties\": {\n        \"dtype\": \"number\",\n        \"std\": 0.09031840993160666,\n        \"min\": 0.348729642,\n        \"max\": 0.96212444,\n        \"num_unique_values\": 900,\n        \"samples\": [\n          0.784111496,\n          0.732705625,\n          0.520265279\n        ],\n        \"semantic_type\": \"\",\n        \"description\": \"\"\n      }\n    },\n    {\n      \"column\": \"ConvexArea\",\n      \"properties\": {\n        \"dtype\": \"number\",\n        \"std\": 40769,\n        \"min\": 26139,\n        \"max\": 278217,\n        \"num_unique_values\": 896,\n        \"samples\": [\n          89794,\n          71336,\n          120657\n        ],\n        \"semantic_type\": \"\",\n        \"description\": \"\"\n      }\n    },\n    {\n      \"column\": \"Extent\",\n      \"properties\": {\n        \"dtype\": \"number\",\n        \"std\": 0.053468200288159295,\n        \"min\": 0.379856115,\n        \"max\": 0.835454545,\n        \"num_unique_values\": 900,\n        \"samples\": [\n          0.674956111,\n          0.70227959,\n          0.737749216\n        ],\n        \"semantic_type\": \"\",\n        \"description\": \"\"\n      }\n    },\n    {\n      \"column\": \"Perimeter\",\n      \"properties\": {\n        \"dtype\": \"number\",\n        \"std\": 273.7643154160196,\n        \"min\": 619.074,\n        \"max\": 2697.753,\n        \"num_unique_values\": 900,\n        \"samples\": [\n          1255.245,\n          1063.621,\n          895.745\n        ],\n        \"semantic_type\": \"\",\n        \"description\": \"\"\n      }\n    },\n    {\n      \"column\": \"Class\",\n      \"properties\": {\n        \"dtype\": \"category\",\n        \"num_unique_values\": 2,\n        \"samples\": [\n          \"Besni\",\n          \"Kecimen\"\n        ],\n        \"semantic_type\": \"\",\n        \"description\": \"\"\n      }\n    }\n  ]\n}"
            }
          },
          "metadata": {},
          "execution_count": 2
        }
      ],
      "source": [
        "df = pd.read_excel(\"/content/Raisin_Dataset.xlsx\")\n",
        "df.head()"
      ],
      "id": "VgJ_FXA_lVT7"
    },
    {
      "cell_type": "markdown",
      "metadata": {
        "id": "Y-HzFU3ClVT7"
      },
      "source": [
        "### Check the classes\n",
        "\n",
        "We have 2 classes."
      ],
      "id": "Y-HzFU3ClVT7"
    },
    {
      "cell_type": "code",
      "execution_count": 3,
      "metadata": {
        "id": "RuTFwCwXlVT7",
        "outputId": "0d672e28-38b7-4290-bf05-c6cec01f086b",
        "colab": {
          "base_uri": "https://localhost:8080/"
        }
      },
      "outputs": [
        {
          "output_type": "execute_result",
          "data": {
            "text/plain": [
              "array(['Kecimen', 'Besni'], dtype=object)"
            ]
          },
          "metadata": {},
          "execution_count": 3
        }
      ],
      "source": [
        "df[\"Class\"].unique()"
      ],
      "id": "RuTFwCwXlVT7"
    },
    {
      "cell_type": "markdown",
      "metadata": {
        "id": "1glqtUYwlVT8"
      },
      "source": [
        "## Separate two classes"
      ],
      "id": "1glqtUYwlVT8"
    },
    {
      "cell_type": "code",
      "execution_count": 4,
      "metadata": {
        "id": "pOrqDn7rlVT8"
      },
      "outputs": [],
      "source": [
        "dfs = [x for _, x in df.groupby('Class')]\n",
        "df0 = dfs[1].reset_index(drop=True)\n",
        "df1 = dfs[0].drop(columns=[\"Class\"]).reset_index(drop=True)"
      ],
      "id": "pOrqDn7rlVT8"
    },
    {
      "cell_type": "code",
      "execution_count": 5,
      "metadata": {
        "id": "Q6JyM3yplVT8",
        "outputId": "1a255d70-3332-4a8d-c660-98489c215af5",
        "colab": {
          "base_uri": "https://localhost:8080/",
          "height": 206
        }
      },
      "outputs": [
        {
          "output_type": "execute_result",
          "data": {
            "text/plain": [
              "    Area  MajorAxisLength  MinorAxisLength  Eccentricity  ConvexArea  \\\n",
              "0  87524       442.246011       253.291155      0.819738       90546   \n",
              "1  75166       406.690687       243.032436      0.801805       78789   \n",
              "2  90856       442.267048       266.328318      0.798354       93717   \n",
              "3  45928       286.540559       208.760042      0.684989       47336   \n",
              "4  79408       352.190770       290.827533      0.564011       81463   \n",
              "\n",
              "     Extent  Perimeter    Class  \n",
              "0  0.758651   1184.040  Kecimen  \n",
              "1  0.684130   1121.786  Kecimen  \n",
              "2  0.637613   1208.575  Kecimen  \n",
              "3  0.699599    844.162  Kecimen  \n",
              "4  0.792772   1073.251  Kecimen  "
            ],
            "text/html": [
              "\n",
              "  <div id=\"df-fafcf27a-2391-4282-94f8-0825a3839c3f\" class=\"colab-df-container\">\n",
              "    <div>\n",
              "<style scoped>\n",
              "    .dataframe tbody tr th:only-of-type {\n",
              "        vertical-align: middle;\n",
              "    }\n",
              "\n",
              "    .dataframe tbody tr th {\n",
              "        vertical-align: top;\n",
              "    }\n",
              "\n",
              "    .dataframe thead th {\n",
              "        text-align: right;\n",
              "    }\n",
              "</style>\n",
              "<table border=\"1\" class=\"dataframe\">\n",
              "  <thead>\n",
              "    <tr style=\"text-align: right;\">\n",
              "      <th></th>\n",
              "      <th>Area</th>\n",
              "      <th>MajorAxisLength</th>\n",
              "      <th>MinorAxisLength</th>\n",
              "      <th>Eccentricity</th>\n",
              "      <th>ConvexArea</th>\n",
              "      <th>Extent</th>\n",
              "      <th>Perimeter</th>\n",
              "      <th>Class</th>\n",
              "    </tr>\n",
              "  </thead>\n",
              "  <tbody>\n",
              "    <tr>\n",
              "      <th>0</th>\n",
              "      <td>87524</td>\n",
              "      <td>442.246011</td>\n",
              "      <td>253.291155</td>\n",
              "      <td>0.819738</td>\n",
              "      <td>90546</td>\n",
              "      <td>0.758651</td>\n",
              "      <td>1184.040</td>\n",
              "      <td>Kecimen</td>\n",
              "    </tr>\n",
              "    <tr>\n",
              "      <th>1</th>\n",
              "      <td>75166</td>\n",
              "      <td>406.690687</td>\n",
              "      <td>243.032436</td>\n",
              "      <td>0.801805</td>\n",
              "      <td>78789</td>\n",
              "      <td>0.684130</td>\n",
              "      <td>1121.786</td>\n",
              "      <td>Kecimen</td>\n",
              "    </tr>\n",
              "    <tr>\n",
              "      <th>2</th>\n",
              "      <td>90856</td>\n",
              "      <td>442.267048</td>\n",
              "      <td>266.328318</td>\n",
              "      <td>0.798354</td>\n",
              "      <td>93717</td>\n",
              "      <td>0.637613</td>\n",
              "      <td>1208.575</td>\n",
              "      <td>Kecimen</td>\n",
              "    </tr>\n",
              "    <tr>\n",
              "      <th>3</th>\n",
              "      <td>45928</td>\n",
              "      <td>286.540559</td>\n",
              "      <td>208.760042</td>\n",
              "      <td>0.684989</td>\n",
              "      <td>47336</td>\n",
              "      <td>0.699599</td>\n",
              "      <td>844.162</td>\n",
              "      <td>Kecimen</td>\n",
              "    </tr>\n",
              "    <tr>\n",
              "      <th>4</th>\n",
              "      <td>79408</td>\n",
              "      <td>352.190770</td>\n",
              "      <td>290.827533</td>\n",
              "      <td>0.564011</td>\n",
              "      <td>81463</td>\n",
              "      <td>0.792772</td>\n",
              "      <td>1073.251</td>\n",
              "      <td>Kecimen</td>\n",
              "    </tr>\n",
              "  </tbody>\n",
              "</table>\n",
              "</div>\n",
              "    <div class=\"colab-df-buttons\">\n",
              "\n",
              "  <div class=\"colab-df-container\">\n",
              "    <button class=\"colab-df-convert\" onclick=\"convertToInteractive('df-fafcf27a-2391-4282-94f8-0825a3839c3f')\"\n",
              "            title=\"Convert this dataframe to an interactive table.\"\n",
              "            style=\"display:none;\">\n",
              "\n",
              "  <svg xmlns=\"http://www.w3.org/2000/svg\" height=\"24px\" viewBox=\"0 -960 960 960\">\n",
              "    <path d=\"M120-120v-720h720v720H120Zm60-500h600v-160H180v160Zm220 220h160v-160H400v160Zm0 220h160v-160H400v160ZM180-400h160v-160H180v160Zm440 0h160v-160H620v160ZM180-180h160v-160H180v160Zm440 0h160v-160H620v160Z\"/>\n",
              "  </svg>\n",
              "    </button>\n",
              "\n",
              "  <style>\n",
              "    .colab-df-container {\n",
              "      display:flex;\n",
              "      gap: 12px;\n",
              "    }\n",
              "\n",
              "    .colab-df-convert {\n",
              "      background-color: #E8F0FE;\n",
              "      border: none;\n",
              "      border-radius: 50%;\n",
              "      cursor: pointer;\n",
              "      display: none;\n",
              "      fill: #1967D2;\n",
              "      height: 32px;\n",
              "      padding: 0 0 0 0;\n",
              "      width: 32px;\n",
              "    }\n",
              "\n",
              "    .colab-df-convert:hover {\n",
              "      background-color: #E2EBFA;\n",
              "      box-shadow: 0px 1px 2px rgba(60, 64, 67, 0.3), 0px 1px 3px 1px rgba(60, 64, 67, 0.15);\n",
              "      fill: #174EA6;\n",
              "    }\n",
              "\n",
              "    .colab-df-buttons div {\n",
              "      margin-bottom: 4px;\n",
              "    }\n",
              "\n",
              "    [theme=dark] .colab-df-convert {\n",
              "      background-color: #3B4455;\n",
              "      fill: #D2E3FC;\n",
              "    }\n",
              "\n",
              "    [theme=dark] .colab-df-convert:hover {\n",
              "      background-color: #434B5C;\n",
              "      box-shadow: 0px 1px 3px 1px rgba(0, 0, 0, 0.15);\n",
              "      filter: drop-shadow(0px 1px 2px rgba(0, 0, 0, 0.3));\n",
              "      fill: #FFFFFF;\n",
              "    }\n",
              "  </style>\n",
              "\n",
              "    <script>\n",
              "      const buttonEl =\n",
              "        document.querySelector('#df-fafcf27a-2391-4282-94f8-0825a3839c3f button.colab-df-convert');\n",
              "      buttonEl.style.display =\n",
              "        google.colab.kernel.accessAllowed ? 'block' : 'none';\n",
              "\n",
              "      async function convertToInteractive(key) {\n",
              "        const element = document.querySelector('#df-fafcf27a-2391-4282-94f8-0825a3839c3f');\n",
              "        const dataTable =\n",
              "          await google.colab.kernel.invokeFunction('convertToInteractive',\n",
              "                                                    [key], {});\n",
              "        if (!dataTable) return;\n",
              "\n",
              "        const docLinkHtml = 'Like what you see? Visit the ' +\n",
              "          '<a target=\"_blank\" href=https://colab.research.google.com/notebooks/data_table.ipynb>data table notebook</a>'\n",
              "          + ' to learn more about interactive tables.';\n",
              "        element.innerHTML = '';\n",
              "        dataTable['output_type'] = 'display_data';\n",
              "        await google.colab.output.renderOutput(dataTable, element);\n",
              "        const docLink = document.createElement('div');\n",
              "        docLink.innerHTML = docLinkHtml;\n",
              "        element.appendChild(docLink);\n",
              "      }\n",
              "    </script>\n",
              "  </div>\n",
              "\n",
              "\n",
              "<div id=\"df-20cc1ffc-6785-4abd-a95e-0f0de74a371c\">\n",
              "  <button class=\"colab-df-quickchart\" onclick=\"quickchart('df-20cc1ffc-6785-4abd-a95e-0f0de74a371c')\"\n",
              "            title=\"Suggest charts\"\n",
              "            style=\"display:none;\">\n",
              "\n",
              "<svg xmlns=\"http://www.w3.org/2000/svg\" height=\"24px\"viewBox=\"0 0 24 24\"\n",
              "     width=\"24px\">\n",
              "    <g>\n",
              "        <path d=\"M19 3H5c-1.1 0-2 .9-2 2v14c0 1.1.9 2 2 2h14c1.1 0 2-.9 2-2V5c0-1.1-.9-2-2-2zM9 17H7v-7h2v7zm4 0h-2V7h2v10zm4 0h-2v-4h2v4z\"/>\n",
              "    </g>\n",
              "</svg>\n",
              "  </button>\n",
              "\n",
              "<style>\n",
              "  .colab-df-quickchart {\n",
              "      --bg-color: #E8F0FE;\n",
              "      --fill-color: #1967D2;\n",
              "      --hover-bg-color: #E2EBFA;\n",
              "      --hover-fill-color: #174EA6;\n",
              "      --disabled-fill-color: #AAA;\n",
              "      --disabled-bg-color: #DDD;\n",
              "  }\n",
              "\n",
              "  [theme=dark] .colab-df-quickchart {\n",
              "      --bg-color: #3B4455;\n",
              "      --fill-color: #D2E3FC;\n",
              "      --hover-bg-color: #434B5C;\n",
              "      --hover-fill-color: #FFFFFF;\n",
              "      --disabled-bg-color: #3B4455;\n",
              "      --disabled-fill-color: #666;\n",
              "  }\n",
              "\n",
              "  .colab-df-quickchart {\n",
              "    background-color: var(--bg-color);\n",
              "    border: none;\n",
              "    border-radius: 50%;\n",
              "    cursor: pointer;\n",
              "    display: none;\n",
              "    fill: var(--fill-color);\n",
              "    height: 32px;\n",
              "    padding: 0;\n",
              "    width: 32px;\n",
              "  }\n",
              "\n",
              "  .colab-df-quickchart:hover {\n",
              "    background-color: var(--hover-bg-color);\n",
              "    box-shadow: 0 1px 2px rgba(60, 64, 67, 0.3), 0 1px 3px 1px rgba(60, 64, 67, 0.15);\n",
              "    fill: var(--button-hover-fill-color);\n",
              "  }\n",
              "\n",
              "  .colab-df-quickchart-complete:disabled,\n",
              "  .colab-df-quickchart-complete:disabled:hover {\n",
              "    background-color: var(--disabled-bg-color);\n",
              "    fill: var(--disabled-fill-color);\n",
              "    box-shadow: none;\n",
              "  }\n",
              "\n",
              "  .colab-df-spinner {\n",
              "    border: 2px solid var(--fill-color);\n",
              "    border-color: transparent;\n",
              "    border-bottom-color: var(--fill-color);\n",
              "    animation:\n",
              "      spin 1s steps(1) infinite;\n",
              "  }\n",
              "\n",
              "  @keyframes spin {\n",
              "    0% {\n",
              "      border-color: transparent;\n",
              "      border-bottom-color: var(--fill-color);\n",
              "      border-left-color: var(--fill-color);\n",
              "    }\n",
              "    20% {\n",
              "      border-color: transparent;\n",
              "      border-left-color: var(--fill-color);\n",
              "      border-top-color: var(--fill-color);\n",
              "    }\n",
              "    30% {\n",
              "      border-color: transparent;\n",
              "      border-left-color: var(--fill-color);\n",
              "      border-top-color: var(--fill-color);\n",
              "      border-right-color: var(--fill-color);\n",
              "    }\n",
              "    40% {\n",
              "      border-color: transparent;\n",
              "      border-right-color: var(--fill-color);\n",
              "      border-top-color: var(--fill-color);\n",
              "    }\n",
              "    60% {\n",
              "      border-color: transparent;\n",
              "      border-right-color: var(--fill-color);\n",
              "    }\n",
              "    80% {\n",
              "      border-color: transparent;\n",
              "      border-right-color: var(--fill-color);\n",
              "      border-bottom-color: var(--fill-color);\n",
              "    }\n",
              "    90% {\n",
              "      border-color: transparent;\n",
              "      border-bottom-color: var(--fill-color);\n",
              "    }\n",
              "  }\n",
              "</style>\n",
              "\n",
              "  <script>\n",
              "    async function quickchart(key) {\n",
              "      const quickchartButtonEl =\n",
              "        document.querySelector('#' + key + ' button');\n",
              "      quickchartButtonEl.disabled = true;  // To prevent multiple clicks.\n",
              "      quickchartButtonEl.classList.add('colab-df-spinner');\n",
              "      try {\n",
              "        const charts = await google.colab.kernel.invokeFunction(\n",
              "            'suggestCharts', [key], {});\n",
              "      } catch (error) {\n",
              "        console.error('Error during call to suggestCharts:', error);\n",
              "      }\n",
              "      quickchartButtonEl.classList.remove('colab-df-spinner');\n",
              "      quickchartButtonEl.classList.add('colab-df-quickchart-complete');\n",
              "    }\n",
              "    (() => {\n",
              "      let quickchartButtonEl =\n",
              "        document.querySelector('#df-20cc1ffc-6785-4abd-a95e-0f0de74a371c button');\n",
              "      quickchartButtonEl.style.display =\n",
              "        google.colab.kernel.accessAllowed ? 'block' : 'none';\n",
              "    })();\n",
              "  </script>\n",
              "</div>\n",
              "\n",
              "    </div>\n",
              "  </div>\n"
            ],
            "application/vnd.google.colaboratory.intrinsic+json": {
              "type": "dataframe",
              "variable_name": "df0",
              "summary": "{\n  \"name\": \"df0\",\n  \"rows\": 450,\n  \"fields\": [\n    {\n      \"column\": \"Area\",\n      \"properties\": {\n        \"dtype\": \"number\",\n        \"std\": 17727,\n        \"min\": 25387,\n        \"max\": 180898,\n        \"num_unique_values\": 450,\n        \"samples\": [\n          73311,\n          67874,\n          90176\n        ],\n        \"semantic_type\": \"\",\n        \"description\": \"\"\n      }\n    },\n    {\n      \"column\": \"MajorAxisLength\",\n      \"properties\": {\n        \"dtype\": \"number\",\n        \"std\": 59.61149355578842,\n        \"min\": 225.629541,\n        \"max\": 843.9566534,\n        \"num_unique_values\": 450,\n        \"samples\": [\n          391.8675067,\n          360.0234655,\n          390.207341\n        ],\n        \"semantic_type\": \"\",\n        \"description\": \"\"\n      }\n    },\n    {\n      \"column\": \"MinorAxisLength\",\n      \"properties\": {\n        \"dtype\": \"number\",\n        \"std\": 34.058657169114454,\n        \"min\": 143.7108718,\n        \"max\": 326.8987235,\n        \"num_unique_values\": 450,\n        \"samples\": [\n          239.6017637,\n          243.2719738,\n          294.7622385\n        ],\n        \"semantic_type\": \"\",\n        \"description\": \"\"\n      }\n    },\n    {\n      \"column\": \"Eccentricity\",\n      \"properties\": {\n        \"dtype\": \"number\",\n        \"std\": 0.09236172917880658,\n        \"min\": 0.348729642,\n        \"max\": 0.923770364,\n        \"num_unique_values\": 450,\n        \"samples\": [\n          0.791294159,\n          0.737166231,\n          0.65526509\n        ],\n        \"semantic_type\": \"\",\n        \"description\": \"\"\n      }\n    },\n    {\n      \"column\": \"ConvexArea\",\n      \"properties\": {\n        \"dtype\": \"number\",\n        \"std\": 19005,\n        \"min\": 26139,\n        \"max\": 221396,\n        \"num_unique_values\": 447,\n        \"samples\": [\n          96072,\n          84531,\n          91793\n        ],\n        \"semantic_type\": \"\",\n        \"description\": \"\"\n      }\n    },\n    {\n      \"column\": \"Extent\",\n      \"properties\": {\n        \"dtype\": \"number\",\n        \"std\": 0.04344223016498103,\n        \"min\": 0.454188929,\n        \"max\": 0.835454545,\n        \"num_unique_values\": 450,\n        \"samples\": [\n          0.689966401,\n          0.678319442,\n          0.762549046\n        ],\n        \"semantic_type\": \"\",\n        \"description\": \"\"\n      }\n    },\n    {\n      \"column\": \"Perimeter\",\n      \"properties\": {\n        \"dtype\": \"number\",\n        \"std\": 150.305531290128,\n        \"min\": 619.074,\n        \"max\": 2253.557,\n        \"num_unique_values\": 450,\n        \"samples\": [\n          1046.52,\n          1035.277,\n          1136.669\n        ],\n        \"semantic_type\": \"\",\n        \"description\": \"\"\n      }\n    },\n    {\n      \"column\": \"Class\",\n      \"properties\": {\n        \"dtype\": \"category\",\n        \"num_unique_values\": 1,\n        \"samples\": [\n          \"Kecimen\"\n        ],\n        \"semantic_type\": \"\",\n        \"description\": \"\"\n      }\n    }\n  ]\n}"
            }
          },
          "metadata": {},
          "execution_count": 5
        }
      ],
      "source": [
        "df0.head()"
      ],
      "id": "Q6JyM3yplVT8"
    },
    {
      "cell_type": "markdown",
      "metadata": {
        "id": "SYxxaJWqlVT8"
      },
      "source": [
        "### Assign class  number to each class"
      ],
      "id": "SYxxaJWqlVT8"
    },
    {
      "cell_type": "code",
      "execution_count": 6,
      "metadata": {
        "id": "2Pb7Oc0slVT8"
      },
      "outputs": [],
      "source": [
        "df0[\"Class\"] = 0\n",
        "df1[\"Class\"] = 1"
      ],
      "id": "2Pb7Oc0slVT8"
    },
    {
      "cell_type": "markdown",
      "metadata": {
        "id": "KEH1OCnBlVT8"
      },
      "source": [
        "# Prepare train and test sets\n",
        "\n",
        "80\\% in train and 20\\% in test"
      ],
      "id": "KEH1OCnBlVT8"
    },
    {
      "cell_type": "code",
      "execution_count": 7,
      "metadata": {
        "id": "AhkHhQhklVT8"
      },
      "outputs": [],
      "source": [
        "train_df0 = df0.iloc[0: int(len(df0)*0.8)]\n",
        "train_df1 = df1.iloc[0: int(len(df1)*0.8)]"
      ],
      "id": "AhkHhQhklVT8"
    },
    {
      "cell_type": "code",
      "execution_count": 8,
      "metadata": {
        "id": "_mxneWKolVT8",
        "outputId": "83ebebf5-4ad7-4dde-c2ca-6f40324b381b",
        "colab": {
          "base_uri": "https://localhost:8080/",
          "height": 423
        }
      },
      "outputs": [
        {
          "output_type": "execute_result",
          "data": {
            "text/plain": [
              "       Area  MajorAxisLength  MinorAxisLength  Eccentricity  ConvexArea  \\\n",
              "0     87524       442.246011       253.291155      0.819738       90546   \n",
              "1     75166       406.690687       243.032436      0.801805       78789   \n",
              "2     90856       442.267048       266.328318      0.798354       93717   \n",
              "3     45928       286.540559       208.760042      0.684989       47336   \n",
              "4     79408       352.190770       290.827533      0.564011       81463   \n",
              "..      ...              ...              ...           ...         ...   \n",
              "715   56244       398.802452       182.844046      0.888703       58530   \n",
              "716  142239       614.834478       297.735347      0.874928      148078   \n",
              "717   78632       407.940329       245.821198      0.798050       79715   \n",
              "718   93430       467.637119       258.947168      0.832693       98337   \n",
              "719   97583       522.786556       241.940773      0.886468      101231   \n",
              "\n",
              "       Extent  Perimeter  \n",
              "0    0.758651   1184.040  \n",
              "1    0.684130   1121.786  \n",
              "2    0.637613   1208.575  \n",
              "3    0.699599    844.162  \n",
              "4    0.792772   1073.251  \n",
              "..        ...        ...  \n",
              "715  0.656366   1008.134  \n",
              "716  0.643516   1553.114  \n",
              "717  0.689011   1068.727  \n",
              "718  0.712988   1258.966  \n",
              "719  0.725983   1298.731  \n",
              "\n",
              "[720 rows x 7 columns]"
            ],
            "text/html": [
              "\n",
              "  <div id=\"df-f7736e3e-aae0-4271-b0e6-c9c65902ad67\" class=\"colab-df-container\">\n",
              "    <div>\n",
              "<style scoped>\n",
              "    .dataframe tbody tr th:only-of-type {\n",
              "        vertical-align: middle;\n",
              "    }\n",
              "\n",
              "    .dataframe tbody tr th {\n",
              "        vertical-align: top;\n",
              "    }\n",
              "\n",
              "    .dataframe thead th {\n",
              "        text-align: right;\n",
              "    }\n",
              "</style>\n",
              "<table border=\"1\" class=\"dataframe\">\n",
              "  <thead>\n",
              "    <tr style=\"text-align: right;\">\n",
              "      <th></th>\n",
              "      <th>Area</th>\n",
              "      <th>MajorAxisLength</th>\n",
              "      <th>MinorAxisLength</th>\n",
              "      <th>Eccentricity</th>\n",
              "      <th>ConvexArea</th>\n",
              "      <th>Extent</th>\n",
              "      <th>Perimeter</th>\n",
              "    </tr>\n",
              "  </thead>\n",
              "  <tbody>\n",
              "    <tr>\n",
              "      <th>0</th>\n",
              "      <td>87524</td>\n",
              "      <td>442.246011</td>\n",
              "      <td>253.291155</td>\n",
              "      <td>0.819738</td>\n",
              "      <td>90546</td>\n",
              "      <td>0.758651</td>\n",
              "      <td>1184.040</td>\n",
              "    </tr>\n",
              "    <tr>\n",
              "      <th>1</th>\n",
              "      <td>75166</td>\n",
              "      <td>406.690687</td>\n",
              "      <td>243.032436</td>\n",
              "      <td>0.801805</td>\n",
              "      <td>78789</td>\n",
              "      <td>0.684130</td>\n",
              "      <td>1121.786</td>\n",
              "    </tr>\n",
              "    <tr>\n",
              "      <th>2</th>\n",
              "      <td>90856</td>\n",
              "      <td>442.267048</td>\n",
              "      <td>266.328318</td>\n",
              "      <td>0.798354</td>\n",
              "      <td>93717</td>\n",
              "      <td>0.637613</td>\n",
              "      <td>1208.575</td>\n",
              "    </tr>\n",
              "    <tr>\n",
              "      <th>3</th>\n",
              "      <td>45928</td>\n",
              "      <td>286.540559</td>\n",
              "      <td>208.760042</td>\n",
              "      <td>0.684989</td>\n",
              "      <td>47336</td>\n",
              "      <td>0.699599</td>\n",
              "      <td>844.162</td>\n",
              "    </tr>\n",
              "    <tr>\n",
              "      <th>4</th>\n",
              "      <td>79408</td>\n",
              "      <td>352.190770</td>\n",
              "      <td>290.827533</td>\n",
              "      <td>0.564011</td>\n",
              "      <td>81463</td>\n",
              "      <td>0.792772</td>\n",
              "      <td>1073.251</td>\n",
              "    </tr>\n",
              "    <tr>\n",
              "      <th>...</th>\n",
              "      <td>...</td>\n",
              "      <td>...</td>\n",
              "      <td>...</td>\n",
              "      <td>...</td>\n",
              "      <td>...</td>\n",
              "      <td>...</td>\n",
              "      <td>...</td>\n",
              "    </tr>\n",
              "    <tr>\n",
              "      <th>715</th>\n",
              "      <td>56244</td>\n",
              "      <td>398.802452</td>\n",
              "      <td>182.844046</td>\n",
              "      <td>0.888703</td>\n",
              "      <td>58530</td>\n",
              "      <td>0.656366</td>\n",
              "      <td>1008.134</td>\n",
              "    </tr>\n",
              "    <tr>\n",
              "      <th>716</th>\n",
              "      <td>142239</td>\n",
              "      <td>614.834478</td>\n",
              "      <td>297.735347</td>\n",
              "      <td>0.874928</td>\n",
              "      <td>148078</td>\n",
              "      <td>0.643516</td>\n",
              "      <td>1553.114</td>\n",
              "    </tr>\n",
              "    <tr>\n",
              "      <th>717</th>\n",
              "      <td>78632</td>\n",
              "      <td>407.940329</td>\n",
              "      <td>245.821198</td>\n",
              "      <td>0.798050</td>\n",
              "      <td>79715</td>\n",
              "      <td>0.689011</td>\n",
              "      <td>1068.727</td>\n",
              "    </tr>\n",
              "    <tr>\n",
              "      <th>718</th>\n",
              "      <td>93430</td>\n",
              "      <td>467.637119</td>\n",
              "      <td>258.947168</td>\n",
              "      <td>0.832693</td>\n",
              "      <td>98337</td>\n",
              "      <td>0.712988</td>\n",
              "      <td>1258.966</td>\n",
              "    </tr>\n",
              "    <tr>\n",
              "      <th>719</th>\n",
              "      <td>97583</td>\n",
              "      <td>522.786556</td>\n",
              "      <td>241.940773</td>\n",
              "      <td>0.886468</td>\n",
              "      <td>101231</td>\n",
              "      <td>0.725983</td>\n",
              "      <td>1298.731</td>\n",
              "    </tr>\n",
              "  </tbody>\n",
              "</table>\n",
              "<p>720 rows × 7 columns</p>\n",
              "</div>\n",
              "    <div class=\"colab-df-buttons\">\n",
              "\n",
              "  <div class=\"colab-df-container\">\n",
              "    <button class=\"colab-df-convert\" onclick=\"convertToInteractive('df-f7736e3e-aae0-4271-b0e6-c9c65902ad67')\"\n",
              "            title=\"Convert this dataframe to an interactive table.\"\n",
              "            style=\"display:none;\">\n",
              "\n",
              "  <svg xmlns=\"http://www.w3.org/2000/svg\" height=\"24px\" viewBox=\"0 -960 960 960\">\n",
              "    <path d=\"M120-120v-720h720v720H120Zm60-500h600v-160H180v160Zm220 220h160v-160H400v160Zm0 220h160v-160H400v160ZM180-400h160v-160H180v160Zm440 0h160v-160H620v160ZM180-180h160v-160H180v160Zm440 0h160v-160H620v160Z\"/>\n",
              "  </svg>\n",
              "    </button>\n",
              "\n",
              "  <style>\n",
              "    .colab-df-container {\n",
              "      display:flex;\n",
              "      gap: 12px;\n",
              "    }\n",
              "\n",
              "    .colab-df-convert {\n",
              "      background-color: #E8F0FE;\n",
              "      border: none;\n",
              "      border-radius: 50%;\n",
              "      cursor: pointer;\n",
              "      display: none;\n",
              "      fill: #1967D2;\n",
              "      height: 32px;\n",
              "      padding: 0 0 0 0;\n",
              "      width: 32px;\n",
              "    }\n",
              "\n",
              "    .colab-df-convert:hover {\n",
              "      background-color: #E2EBFA;\n",
              "      box-shadow: 0px 1px 2px rgba(60, 64, 67, 0.3), 0px 1px 3px 1px rgba(60, 64, 67, 0.15);\n",
              "      fill: #174EA6;\n",
              "    }\n",
              "\n",
              "    .colab-df-buttons div {\n",
              "      margin-bottom: 4px;\n",
              "    }\n",
              "\n",
              "    [theme=dark] .colab-df-convert {\n",
              "      background-color: #3B4455;\n",
              "      fill: #D2E3FC;\n",
              "    }\n",
              "\n",
              "    [theme=dark] .colab-df-convert:hover {\n",
              "      background-color: #434B5C;\n",
              "      box-shadow: 0px 1px 3px 1px rgba(0, 0, 0, 0.15);\n",
              "      filter: drop-shadow(0px 1px 2px rgba(0, 0, 0, 0.3));\n",
              "      fill: #FFFFFF;\n",
              "    }\n",
              "  </style>\n",
              "\n",
              "    <script>\n",
              "      const buttonEl =\n",
              "        document.querySelector('#df-f7736e3e-aae0-4271-b0e6-c9c65902ad67 button.colab-df-convert');\n",
              "      buttonEl.style.display =\n",
              "        google.colab.kernel.accessAllowed ? 'block' : 'none';\n",
              "\n",
              "      async function convertToInteractive(key) {\n",
              "        const element = document.querySelector('#df-f7736e3e-aae0-4271-b0e6-c9c65902ad67');\n",
              "        const dataTable =\n",
              "          await google.colab.kernel.invokeFunction('convertToInteractive',\n",
              "                                                    [key], {});\n",
              "        if (!dataTable) return;\n",
              "\n",
              "        const docLinkHtml = 'Like what you see? Visit the ' +\n",
              "          '<a target=\"_blank\" href=https://colab.research.google.com/notebooks/data_table.ipynb>data table notebook</a>'\n",
              "          + ' to learn more about interactive tables.';\n",
              "        element.innerHTML = '';\n",
              "        dataTable['output_type'] = 'display_data';\n",
              "        await google.colab.output.renderOutput(dataTable, element);\n",
              "        const docLink = document.createElement('div');\n",
              "        docLink.innerHTML = docLinkHtml;\n",
              "        element.appendChild(docLink);\n",
              "      }\n",
              "    </script>\n",
              "  </div>\n",
              "\n",
              "\n",
              "<div id=\"df-e27841c4-4ec3-4be4-8560-0cf40ba437e5\">\n",
              "  <button class=\"colab-df-quickchart\" onclick=\"quickchart('df-e27841c4-4ec3-4be4-8560-0cf40ba437e5')\"\n",
              "            title=\"Suggest charts\"\n",
              "            style=\"display:none;\">\n",
              "\n",
              "<svg xmlns=\"http://www.w3.org/2000/svg\" height=\"24px\"viewBox=\"0 0 24 24\"\n",
              "     width=\"24px\">\n",
              "    <g>\n",
              "        <path d=\"M19 3H5c-1.1 0-2 .9-2 2v14c0 1.1.9 2 2 2h14c1.1 0 2-.9 2-2V5c0-1.1-.9-2-2-2zM9 17H7v-7h2v7zm4 0h-2V7h2v10zm4 0h-2v-4h2v4z\"/>\n",
              "    </g>\n",
              "</svg>\n",
              "  </button>\n",
              "\n",
              "<style>\n",
              "  .colab-df-quickchart {\n",
              "      --bg-color: #E8F0FE;\n",
              "      --fill-color: #1967D2;\n",
              "      --hover-bg-color: #E2EBFA;\n",
              "      --hover-fill-color: #174EA6;\n",
              "      --disabled-fill-color: #AAA;\n",
              "      --disabled-bg-color: #DDD;\n",
              "  }\n",
              "\n",
              "  [theme=dark] .colab-df-quickchart {\n",
              "      --bg-color: #3B4455;\n",
              "      --fill-color: #D2E3FC;\n",
              "      --hover-bg-color: #434B5C;\n",
              "      --hover-fill-color: #FFFFFF;\n",
              "      --disabled-bg-color: #3B4455;\n",
              "      --disabled-fill-color: #666;\n",
              "  }\n",
              "\n",
              "  .colab-df-quickchart {\n",
              "    background-color: var(--bg-color);\n",
              "    border: none;\n",
              "    border-radius: 50%;\n",
              "    cursor: pointer;\n",
              "    display: none;\n",
              "    fill: var(--fill-color);\n",
              "    height: 32px;\n",
              "    padding: 0;\n",
              "    width: 32px;\n",
              "  }\n",
              "\n",
              "  .colab-df-quickchart:hover {\n",
              "    background-color: var(--hover-bg-color);\n",
              "    box-shadow: 0 1px 2px rgba(60, 64, 67, 0.3), 0 1px 3px 1px rgba(60, 64, 67, 0.15);\n",
              "    fill: var(--button-hover-fill-color);\n",
              "  }\n",
              "\n",
              "  .colab-df-quickchart-complete:disabled,\n",
              "  .colab-df-quickchart-complete:disabled:hover {\n",
              "    background-color: var(--disabled-bg-color);\n",
              "    fill: var(--disabled-fill-color);\n",
              "    box-shadow: none;\n",
              "  }\n",
              "\n",
              "  .colab-df-spinner {\n",
              "    border: 2px solid var(--fill-color);\n",
              "    border-color: transparent;\n",
              "    border-bottom-color: var(--fill-color);\n",
              "    animation:\n",
              "      spin 1s steps(1) infinite;\n",
              "  }\n",
              "\n",
              "  @keyframes spin {\n",
              "    0% {\n",
              "      border-color: transparent;\n",
              "      border-bottom-color: var(--fill-color);\n",
              "      border-left-color: var(--fill-color);\n",
              "    }\n",
              "    20% {\n",
              "      border-color: transparent;\n",
              "      border-left-color: var(--fill-color);\n",
              "      border-top-color: var(--fill-color);\n",
              "    }\n",
              "    30% {\n",
              "      border-color: transparent;\n",
              "      border-left-color: var(--fill-color);\n",
              "      border-top-color: var(--fill-color);\n",
              "      border-right-color: var(--fill-color);\n",
              "    }\n",
              "    40% {\n",
              "      border-color: transparent;\n",
              "      border-right-color: var(--fill-color);\n",
              "      border-top-color: var(--fill-color);\n",
              "    }\n",
              "    60% {\n",
              "      border-color: transparent;\n",
              "      border-right-color: var(--fill-color);\n",
              "    }\n",
              "    80% {\n",
              "      border-color: transparent;\n",
              "      border-right-color: var(--fill-color);\n",
              "      border-bottom-color: var(--fill-color);\n",
              "    }\n",
              "    90% {\n",
              "      border-color: transparent;\n",
              "      border-bottom-color: var(--fill-color);\n",
              "    }\n",
              "  }\n",
              "</style>\n",
              "\n",
              "  <script>\n",
              "    async function quickchart(key) {\n",
              "      const quickchartButtonEl =\n",
              "        document.querySelector('#' + key + ' button');\n",
              "      quickchartButtonEl.disabled = true;  // To prevent multiple clicks.\n",
              "      quickchartButtonEl.classList.add('colab-df-spinner');\n",
              "      try {\n",
              "        const charts = await google.colab.kernel.invokeFunction(\n",
              "            'suggestCharts', [key], {});\n",
              "      } catch (error) {\n",
              "        console.error('Error during call to suggestCharts:', error);\n",
              "      }\n",
              "      quickchartButtonEl.classList.remove('colab-df-spinner');\n",
              "      quickchartButtonEl.classList.add('colab-df-quickchart-complete');\n",
              "    }\n",
              "    (() => {\n",
              "      let quickchartButtonEl =\n",
              "        document.querySelector('#df-e27841c4-4ec3-4be4-8560-0cf40ba437e5 button');\n",
              "      quickchartButtonEl.style.display =\n",
              "        google.colab.kernel.accessAllowed ? 'block' : 'none';\n",
              "    })();\n",
              "  </script>\n",
              "</div>\n",
              "\n",
              "  <div id=\"id_9a98f255-867f-403d-9d94-fcce9f3f41cd\">\n",
              "    <style>\n",
              "      .colab-df-generate {\n",
              "        background-color: #E8F0FE;\n",
              "        border: none;\n",
              "        border-radius: 50%;\n",
              "        cursor: pointer;\n",
              "        display: none;\n",
              "        fill: #1967D2;\n",
              "        height: 32px;\n",
              "        padding: 0 0 0 0;\n",
              "        width: 32px;\n",
              "      }\n",
              "\n",
              "      .colab-df-generate:hover {\n",
              "        background-color: #E2EBFA;\n",
              "        box-shadow: 0px 1px 2px rgba(60, 64, 67, 0.3), 0px 1px 3px 1px rgba(60, 64, 67, 0.15);\n",
              "        fill: #174EA6;\n",
              "      }\n",
              "\n",
              "      [theme=dark] .colab-df-generate {\n",
              "        background-color: #3B4455;\n",
              "        fill: #D2E3FC;\n",
              "      }\n",
              "\n",
              "      [theme=dark] .colab-df-generate:hover {\n",
              "        background-color: #434B5C;\n",
              "        box-shadow: 0px 1px 3px 1px rgba(0, 0, 0, 0.15);\n",
              "        filter: drop-shadow(0px 1px 2px rgba(0, 0, 0, 0.3));\n",
              "        fill: #FFFFFF;\n",
              "      }\n",
              "    </style>\n",
              "    <button class=\"colab-df-generate\" onclick=\"generateWithVariable('X_train_data')\"\n",
              "            title=\"Generate code using this dataframe.\"\n",
              "            style=\"display:none;\">\n",
              "\n",
              "  <svg xmlns=\"http://www.w3.org/2000/svg\" height=\"24px\"viewBox=\"0 0 24 24\"\n",
              "       width=\"24px\">\n",
              "    <path d=\"M7,19H8.4L18.45,9,17,7.55,7,17.6ZM5,21V16.75L18.45,3.32a2,2,0,0,1,2.83,0l1.4,1.43a1.91,1.91,0,0,1,.58,1.4,1.91,1.91,0,0,1-.58,1.4L9.25,21ZM18.45,9,17,7.55Zm-12,3A5.31,5.31,0,0,0,4.9,8.1,5.31,5.31,0,0,0,1,6.5,5.31,5.31,0,0,0,4.9,4.9,5.31,5.31,0,0,0,6.5,1,5.31,5.31,0,0,0,8.1,4.9,5.31,5.31,0,0,0,12,6.5,5.46,5.46,0,0,0,6.5,12Z\"/>\n",
              "  </svg>\n",
              "    </button>\n",
              "    <script>\n",
              "      (() => {\n",
              "      const buttonEl =\n",
              "        document.querySelector('#id_9a98f255-867f-403d-9d94-fcce9f3f41cd button.colab-df-generate');\n",
              "      buttonEl.style.display =\n",
              "        google.colab.kernel.accessAllowed ? 'block' : 'none';\n",
              "\n",
              "      buttonEl.onclick = () => {\n",
              "        google.colab.notebook.generateWithVariable('X_train_data');\n",
              "      }\n",
              "      })();\n",
              "    </script>\n",
              "  </div>\n",
              "\n",
              "    </div>\n",
              "  </div>\n"
            ],
            "application/vnd.google.colaboratory.intrinsic+json": {
              "type": "dataframe",
              "variable_name": "X_train_data",
              "summary": "{\n  \"name\": \"X_train_data\",\n  \"rows\": 720,\n  \"fields\": [\n    {\n      \"column\": \"Area\",\n      \"properties\": {\n        \"dtype\": \"number\",\n        \"std\": 38921,\n        \"min\": 25387,\n        \"max\": 223075,\n        \"num_unique_values\": 720,\n        \"samples\": [\n          39724,\n          136340,\n          111450\n        ],\n        \"semantic_type\": \"\",\n        \"description\": \"\"\n      }\n    },\n    {\n      \"column\": \"MajorAxisLength\",\n      \"properties\": {\n        \"dtype\": \"number\",\n        \"std\": 117.01963217861893,\n        \"min\": 225.629541,\n        \"max\": 997.2919406,\n        \"num_unique_values\": 720,\n        \"samples\": [\n          271.6656922,\n          722.8539172,\n          478.3109708\n        ],\n        \"semantic_type\": \"\",\n        \"description\": \"\"\n      }\n    },\n    {\n      \"column\": \"MinorAxisLength\",\n      \"properties\": {\n        \"dtype\": \"number\",\n        \"std\": 49.30838486164842,\n        \"min\": 144.618672,\n        \"max\": 440.4971275,\n        \"num_unique_values\": 720,\n        \"samples\": [\n          189.484632,\n          311.3413551,\n          298.630592\n        ],\n        \"semantic_type\": \"\",\n        \"description\": \"\"\n      }\n    },\n    {\n      \"column\": \"Eccentricity\",\n      \"properties\": {\n        \"dtype\": \"number\",\n        \"std\": 0.09335524261850119,\n        \"min\": 0.348729642,\n        \"max\": 0.96212444,\n        \"num_unique_values\": 720,\n        \"samples\": [\n          0.716592623,\n          0.902489762,\n          0.781149506\n        ],\n        \"semantic_type\": \"\",\n        \"description\": \"\"\n      }\n    },\n    {\n      \"column\": \"ConvexArea\",\n      \"properties\": {\n        \"dtype\": \"number\",\n        \"std\": 40763,\n        \"min\": 26139,\n        \"max\": 278217,\n        \"num_unique_values\": 716,\n        \"samples\": [\n          71843,\n          62130,\n          50880\n        ],\n        \"semantic_type\": \"\",\n        \"description\": \"\"\n      }\n    },\n    {\n      \"column\": \"Extent\",\n      \"properties\": {\n        \"dtype\": \"number\",\n        \"std\": 0.054117242772257504,\n        \"min\": 0.379856115,\n        \"max\": 0.835454545,\n        \"num_unique_values\": 720,\n        \"samples\": [\n          0.724282537,\n          0.529774048,\n          0.690092879\n        ],\n        \"semantic_type\": \"\",\n        \"description\": \"\"\n      }\n    },\n    {\n      \"column\": \"Perimeter\",\n      \"properties\": {\n        \"dtype\": \"number\",\n        \"std\": 274.7487461054546,\n        \"min\": 619.074,\n        \"max\": 2697.753,\n        \"num_unique_values\": 720,\n        \"samples\": [\n          781.97,\n          2098.263,\n          1298.188\n        ],\n        \"semantic_type\": \"\",\n        \"description\": \"\"\n      }\n    }\n  ]\n}"
            }
          },
          "metadata": {},
          "execution_count": 8
        }
      ],
      "source": [
        "X_train_data = pd.concat([train_df0.drop(columns=[\"Class\"]), train_df1.drop(columns=[\"Class\"])]).reset_index(drop=True)\n",
        "X_train_data"
      ],
      "id": "_mxneWKolVT8"
    },
    {
      "cell_type": "code",
      "execution_count": 9,
      "metadata": {
        "id": "hO-Xlm9AlVT8",
        "outputId": "78eb24b6-f4db-49f4-e187-9240350e9f3a",
        "colab": {
          "base_uri": "https://localhost:8080/"
        }
      },
      "outputs": [
        {
          "output_type": "execute_result",
          "data": {
            "text/plain": [
              "array([0, 0, 0, 0, 0, 0, 0, 0, 0, 0, 0, 0, 0, 0, 0, 0, 0, 0, 0, 0, 0, 0,\n",
              "       0, 0, 0, 0, 0, 0, 0, 0, 0, 0, 0, 0, 0, 0, 0, 0, 0, 0, 0, 0, 0, 0,\n",
              "       0, 0, 0, 0, 0, 0, 0, 0, 0, 0, 0, 0, 0, 0, 0, 0, 0, 0, 0, 0, 0, 0,\n",
              "       0, 0, 0, 0, 0, 0, 0, 0, 0, 0, 0, 0, 0, 0, 0, 0, 0, 0, 0, 0, 0, 0,\n",
              "       0, 0, 0, 0, 0, 0, 0, 0, 0, 0, 0, 0, 0, 0, 0, 0, 0, 0, 0, 0, 0, 0,\n",
              "       0, 0, 0, 0, 0, 0, 0, 0, 0, 0, 0, 0, 0, 0, 0, 0, 0, 0, 0, 0, 0, 0,\n",
              "       0, 0, 0, 0, 0, 0, 0, 0, 0, 0, 0, 0, 0, 0, 0, 0, 0, 0, 0, 0, 0, 0,\n",
              "       0, 0, 0, 0, 0, 0, 0, 0, 0, 0, 0, 0, 0, 0, 0, 0, 0, 0, 0, 0, 0, 0,\n",
              "       0, 0, 0, 0, 0, 0, 0, 0, 0, 0, 0, 0, 0, 0, 0, 0, 0, 0, 0, 0, 0, 0,\n",
              "       0, 0, 0, 0, 0, 0, 0, 0, 0, 0, 0, 0, 0, 0, 0, 0, 0, 0, 0, 0, 0, 0,\n",
              "       0, 0, 0, 0, 0, 0, 0, 0, 0, 0, 0, 0, 0, 0, 0, 0, 0, 0, 0, 0, 0, 0,\n",
              "       0, 0, 0, 0, 0, 0, 0, 0, 0, 0, 0, 0, 0, 0, 0, 0, 0, 0, 0, 0, 0, 0,\n",
              "       0, 0, 0, 0, 0, 0, 0, 0, 0, 0, 0, 0, 0, 0, 0, 0, 0, 0, 0, 0, 0, 0,\n",
              "       0, 0, 0, 0, 0, 0, 0, 0, 0, 0, 0, 0, 0, 0, 0, 0, 0, 0, 0, 0, 0, 0,\n",
              "       0, 0, 0, 0, 0, 0, 0, 0, 0, 0, 0, 0, 0, 0, 0, 0, 0, 0, 0, 0, 0, 0,\n",
              "       0, 0, 0, 0, 0, 0, 0, 0, 0, 0, 0, 0, 0, 0, 0, 0, 0, 0, 0, 0, 0, 0,\n",
              "       0, 0, 0, 0, 0, 0, 0, 0, 1, 1, 1, 1, 1, 1, 1, 1, 1, 1, 1, 1, 1, 1,\n",
              "       1, 1, 1, 1, 1, 1, 1, 1, 1, 1, 1, 1, 1, 1, 1, 1, 1, 1, 1, 1, 1, 1,\n",
              "       1, 1, 1, 1, 1, 1, 1, 1, 1, 1, 1, 1, 1, 1, 1, 1, 1, 1, 1, 1, 1, 1,\n",
              "       1, 1, 1, 1, 1, 1, 1, 1, 1, 1, 1, 1, 1, 1, 1, 1, 1, 1, 1, 1, 1, 1,\n",
              "       1, 1, 1, 1, 1, 1, 1, 1, 1, 1, 1, 1, 1, 1, 1, 1, 1, 1, 1, 1, 1, 1,\n",
              "       1, 1, 1, 1, 1, 1, 1, 1, 1, 1, 1, 1, 1, 1, 1, 1, 1, 1, 1, 1, 1, 1,\n",
              "       1, 1, 1, 1, 1, 1, 1, 1, 1, 1, 1, 1, 1, 1, 1, 1, 1, 1, 1, 1, 1, 1,\n",
              "       1, 1, 1, 1, 1, 1, 1, 1, 1, 1, 1, 1, 1, 1, 1, 1, 1, 1, 1, 1, 1, 1,\n",
              "       1, 1, 1, 1, 1, 1, 1, 1, 1, 1, 1, 1, 1, 1, 1, 1, 1, 1, 1, 1, 1, 1,\n",
              "       1, 1, 1, 1, 1, 1, 1, 1, 1, 1, 1, 1, 1, 1, 1, 1, 1, 1, 1, 1, 1, 1,\n",
              "       1, 1, 1, 1, 1, 1, 1, 1, 1, 1, 1, 1, 1, 1, 1, 1, 1, 1, 1, 1, 1, 1,\n",
              "       1, 1, 1, 1, 1, 1, 1, 1, 1, 1, 1, 1, 1, 1, 1, 1, 1, 1, 1, 1, 1, 1,\n",
              "       1, 1, 1, 1, 1, 1, 1, 1, 1, 1, 1, 1, 1, 1, 1, 1, 1, 1, 1, 1, 1, 1,\n",
              "       1, 1, 1, 1, 1, 1, 1, 1, 1, 1, 1, 1, 1, 1, 1, 1, 1, 1, 1, 1, 1, 1,\n",
              "       1, 1, 1, 1, 1, 1, 1, 1, 1, 1, 1, 1, 1, 1, 1, 1, 1, 1, 1, 1, 1, 1,\n",
              "       1, 1, 1, 1, 1, 1, 1, 1, 1, 1, 1, 1, 1, 1, 1, 1, 1, 1, 1, 1, 1, 1,\n",
              "       1, 1, 1, 1, 1, 1, 1, 1, 1, 1, 1, 1, 1, 1, 1, 1])"
            ]
          },
          "metadata": {},
          "execution_count": 9
        }
      ],
      "source": [
        "y_train = pd.concat([train_df0[\"Class\"], train_df1[\"Class\"]]).to_numpy()\n",
        "y_train"
      ],
      "id": "hO-Xlm9AlVT8"
    },
    {
      "cell_type": "code",
      "execution_count": 10,
      "metadata": {
        "id": "YFdmPvIalVT9"
      },
      "outputs": [],
      "source": [
        "test_df0 = df0.iloc[int(len(df0)*0.8):]\n",
        "test_df1 = df1.iloc[int(len(df1)*0.8):]"
      ],
      "id": "YFdmPvIalVT9"
    },
    {
      "cell_type": "code",
      "execution_count": 19,
      "metadata": {
        "id": "5lV1wRtflVT9"
      },
      "outputs": [],
      "source": [
        "X_test_data = pd.concat([test_df0.drop(columns=[\"Class\"]), test_df1.drop(columns=[\"Class\"])]).reset_index(drop=True)\n",
        "y_test = pd.concat([test_df0[\"Class\"], test_df1[\"Class\"]]).to_numpy()"
      ],
      "id": "5lV1wRtflVT9"
    },
    {
      "cell_type": "markdown",
      "metadata": {
        "id": "oAuUK-NClVT9"
      },
      "source": [
        "# Standardize the dataset\n",
        "\n",
        "Before preparing the model, the entire dataset need to be standardized. Only train set mean and standard deviation are used to standardize the dataset to avoid potential bias. Each feature/attribute $(X_i)$ is subtracted by its mean $\\mu$ and divided by its standard deviation $\\sigma$.\n",
        "\n",
        "$\\mu = \\frac{1}{N} * X_i$\\\n",
        "$X_i = (X_i - \\mu) / \\sigma$"
      ],
      "id": "oAuUK-NClVT9"
    },
    {
      "cell_type": "code",
      "execution_count": 11,
      "metadata": {
        "id": "vp7USqcTlVT9"
      },
      "outputs": [],
      "source": [
        "mean_train = X_train_data.mean()\n",
        "std_train = X_train_data.std()"
      ],
      "id": "vp7USqcTlVT9"
    },
    {
      "cell_type": "code",
      "execution_count": 12,
      "metadata": {
        "id": "V2PPkqsylVT9",
        "outputId": "cf3c116f-e30e-4aed-ce3a-457b42fe3dec",
        "colab": {
          "base_uri": "https://localhost:8080/"
        }
      },
      "outputs": [
        {
          "output_type": "execute_result",
          "data": {
            "text/plain": [
              "Area               88043.401389\n",
              "MajorAxisLength      432.215772\n",
              "MinorAxisLength      254.705362\n",
              "Eccentricity           0.780984\n",
              "ConvexArea         91495.638889\n",
              "Extent                 0.698941\n",
              "Perimeter           1169.716692\n",
              "dtype: float64"
            ]
          },
          "metadata": {},
          "execution_count": 12
        }
      ],
      "source": [
        "mean_train"
      ],
      "id": "V2PPkqsylVT9"
    },
    {
      "cell_type": "code",
      "execution_count": 13,
      "metadata": {
        "id": "CWnUI6lSlVT9",
        "outputId": "5de72ba0-eb80-41e1-c79f-5c20b5a1f5f3",
        "colab": {
          "base_uri": "https://localhost:8080/"
        }
      },
      "outputs": [
        {
          "output_type": "execute_result",
          "data": {
            "text/plain": [
              "Area               38921.340363\n",
              "MajorAxisLength      117.019632\n",
              "MinorAxisLength       49.308385\n",
              "Eccentricity           0.093355\n",
              "ConvexArea         40763.058741\n",
              "Extent                 0.054117\n",
              "Perimeter            274.748746\n",
              "dtype: float64"
            ]
          },
          "metadata": {},
          "execution_count": 13
        }
      ],
      "source": [
        "std_train"
      ],
      "id": "CWnUI6lSlVT9"
    },
    {
      "cell_type": "code",
      "execution_count": 14,
      "metadata": {
        "id": "FsRYp3BglVT9",
        "outputId": "44ff21fb-a69f-4773-e7a4-70d823166b8e",
        "colab": {
          "base_uri": "https://localhost:8080/",
          "height": 206
        }
      },
      "outputs": [
        {
          "output_type": "execute_result",
          "data": {
            "text/plain": [
              "       Area  MajorAxisLength  MinorAxisLength  Eccentricity  ConvexArea  \\\n",
              "0 -0.013345         0.085714        -0.028681      0.415126   -0.023297   \n",
              "1 -0.330857        -0.218127        -0.236733      0.223030   -0.311719   \n",
              "2  0.072264         0.085894         0.235720      0.186058    0.054494   \n",
              "3 -1.082065        -1.244878        -0.931795     -1.028276   -1.083325   \n",
              "4 -0.221868        -0.683860         0.732577     -2.324163   -0.246121   \n",
              "\n",
              "     Extent  Perimeter  \n",
              "0  1.103335   0.052132  \n",
              "1 -0.273694  -0.174453  \n",
              "2 -1.133249   0.141432  \n",
              "3  0.012163  -1.184918  \n",
              "4  1.733843  -0.351105  "
            ],
            "text/html": [
              "\n",
              "  <div id=\"df-12d532f2-7bee-40bc-b87e-035ae1dcfbf2\" class=\"colab-df-container\">\n",
              "    <div>\n",
              "<style scoped>\n",
              "    .dataframe tbody tr th:only-of-type {\n",
              "        vertical-align: middle;\n",
              "    }\n",
              "\n",
              "    .dataframe tbody tr th {\n",
              "        vertical-align: top;\n",
              "    }\n",
              "\n",
              "    .dataframe thead th {\n",
              "        text-align: right;\n",
              "    }\n",
              "</style>\n",
              "<table border=\"1\" class=\"dataframe\">\n",
              "  <thead>\n",
              "    <tr style=\"text-align: right;\">\n",
              "      <th></th>\n",
              "      <th>Area</th>\n",
              "      <th>MajorAxisLength</th>\n",
              "      <th>MinorAxisLength</th>\n",
              "      <th>Eccentricity</th>\n",
              "      <th>ConvexArea</th>\n",
              "      <th>Extent</th>\n",
              "      <th>Perimeter</th>\n",
              "    </tr>\n",
              "  </thead>\n",
              "  <tbody>\n",
              "    <tr>\n",
              "      <th>0</th>\n",
              "      <td>-0.013345</td>\n",
              "      <td>0.085714</td>\n",
              "      <td>-0.028681</td>\n",
              "      <td>0.415126</td>\n",
              "      <td>-0.023297</td>\n",
              "      <td>1.103335</td>\n",
              "      <td>0.052132</td>\n",
              "    </tr>\n",
              "    <tr>\n",
              "      <th>1</th>\n",
              "      <td>-0.330857</td>\n",
              "      <td>-0.218127</td>\n",
              "      <td>-0.236733</td>\n",
              "      <td>0.223030</td>\n",
              "      <td>-0.311719</td>\n",
              "      <td>-0.273694</td>\n",
              "      <td>-0.174453</td>\n",
              "    </tr>\n",
              "    <tr>\n",
              "      <th>2</th>\n",
              "      <td>0.072264</td>\n",
              "      <td>0.085894</td>\n",
              "      <td>0.235720</td>\n",
              "      <td>0.186058</td>\n",
              "      <td>0.054494</td>\n",
              "      <td>-1.133249</td>\n",
              "      <td>0.141432</td>\n",
              "    </tr>\n",
              "    <tr>\n",
              "      <th>3</th>\n",
              "      <td>-1.082065</td>\n",
              "      <td>-1.244878</td>\n",
              "      <td>-0.931795</td>\n",
              "      <td>-1.028276</td>\n",
              "      <td>-1.083325</td>\n",
              "      <td>0.012163</td>\n",
              "      <td>-1.184918</td>\n",
              "    </tr>\n",
              "    <tr>\n",
              "      <th>4</th>\n",
              "      <td>-0.221868</td>\n",
              "      <td>-0.683860</td>\n",
              "      <td>0.732577</td>\n",
              "      <td>-2.324163</td>\n",
              "      <td>-0.246121</td>\n",
              "      <td>1.733843</td>\n",
              "      <td>-0.351105</td>\n",
              "    </tr>\n",
              "  </tbody>\n",
              "</table>\n",
              "</div>\n",
              "    <div class=\"colab-df-buttons\">\n",
              "\n",
              "  <div class=\"colab-df-container\">\n",
              "    <button class=\"colab-df-convert\" onclick=\"convertToInteractive('df-12d532f2-7bee-40bc-b87e-035ae1dcfbf2')\"\n",
              "            title=\"Convert this dataframe to an interactive table.\"\n",
              "            style=\"display:none;\">\n",
              "\n",
              "  <svg xmlns=\"http://www.w3.org/2000/svg\" height=\"24px\" viewBox=\"0 -960 960 960\">\n",
              "    <path d=\"M120-120v-720h720v720H120Zm60-500h600v-160H180v160Zm220 220h160v-160H400v160Zm0 220h160v-160H400v160ZM180-400h160v-160H180v160Zm440 0h160v-160H620v160ZM180-180h160v-160H180v160Zm440 0h160v-160H620v160Z\"/>\n",
              "  </svg>\n",
              "    </button>\n",
              "\n",
              "  <style>\n",
              "    .colab-df-container {\n",
              "      display:flex;\n",
              "      gap: 12px;\n",
              "    }\n",
              "\n",
              "    .colab-df-convert {\n",
              "      background-color: #E8F0FE;\n",
              "      border: none;\n",
              "      border-radius: 50%;\n",
              "      cursor: pointer;\n",
              "      display: none;\n",
              "      fill: #1967D2;\n",
              "      height: 32px;\n",
              "      padding: 0 0 0 0;\n",
              "      width: 32px;\n",
              "    }\n",
              "\n",
              "    .colab-df-convert:hover {\n",
              "      background-color: #E2EBFA;\n",
              "      box-shadow: 0px 1px 2px rgba(60, 64, 67, 0.3), 0px 1px 3px 1px rgba(60, 64, 67, 0.15);\n",
              "      fill: #174EA6;\n",
              "    }\n",
              "\n",
              "    .colab-df-buttons div {\n",
              "      margin-bottom: 4px;\n",
              "    }\n",
              "\n",
              "    [theme=dark] .colab-df-convert {\n",
              "      background-color: #3B4455;\n",
              "      fill: #D2E3FC;\n",
              "    }\n",
              "\n",
              "    [theme=dark] .colab-df-convert:hover {\n",
              "      background-color: #434B5C;\n",
              "      box-shadow: 0px 1px 3px 1px rgba(0, 0, 0, 0.15);\n",
              "      filter: drop-shadow(0px 1px 2px rgba(0, 0, 0, 0.3));\n",
              "      fill: #FFFFFF;\n",
              "    }\n",
              "  </style>\n",
              "\n",
              "    <script>\n",
              "      const buttonEl =\n",
              "        document.querySelector('#df-12d532f2-7bee-40bc-b87e-035ae1dcfbf2 button.colab-df-convert');\n",
              "      buttonEl.style.display =\n",
              "        google.colab.kernel.accessAllowed ? 'block' : 'none';\n",
              "\n",
              "      async function convertToInteractive(key) {\n",
              "        const element = document.querySelector('#df-12d532f2-7bee-40bc-b87e-035ae1dcfbf2');\n",
              "        const dataTable =\n",
              "          await google.colab.kernel.invokeFunction('convertToInteractive',\n",
              "                                                    [key], {});\n",
              "        if (!dataTable) return;\n",
              "\n",
              "        const docLinkHtml = 'Like what you see? Visit the ' +\n",
              "          '<a target=\"_blank\" href=https://colab.research.google.com/notebooks/data_table.ipynb>data table notebook</a>'\n",
              "          + ' to learn more about interactive tables.';\n",
              "        element.innerHTML = '';\n",
              "        dataTable['output_type'] = 'display_data';\n",
              "        await google.colab.output.renderOutput(dataTable, element);\n",
              "        const docLink = document.createElement('div');\n",
              "        docLink.innerHTML = docLinkHtml;\n",
              "        element.appendChild(docLink);\n",
              "      }\n",
              "    </script>\n",
              "  </div>\n",
              "\n",
              "\n",
              "<div id=\"df-6a42b52f-0a99-4d47-92ba-e5e0a8e10af2\">\n",
              "  <button class=\"colab-df-quickchart\" onclick=\"quickchart('df-6a42b52f-0a99-4d47-92ba-e5e0a8e10af2')\"\n",
              "            title=\"Suggest charts\"\n",
              "            style=\"display:none;\">\n",
              "\n",
              "<svg xmlns=\"http://www.w3.org/2000/svg\" height=\"24px\"viewBox=\"0 0 24 24\"\n",
              "     width=\"24px\">\n",
              "    <g>\n",
              "        <path d=\"M19 3H5c-1.1 0-2 .9-2 2v14c0 1.1.9 2 2 2h14c1.1 0 2-.9 2-2V5c0-1.1-.9-2-2-2zM9 17H7v-7h2v7zm4 0h-2V7h2v10zm4 0h-2v-4h2v4z\"/>\n",
              "    </g>\n",
              "</svg>\n",
              "  </button>\n",
              "\n",
              "<style>\n",
              "  .colab-df-quickchart {\n",
              "      --bg-color: #E8F0FE;\n",
              "      --fill-color: #1967D2;\n",
              "      --hover-bg-color: #E2EBFA;\n",
              "      --hover-fill-color: #174EA6;\n",
              "      --disabled-fill-color: #AAA;\n",
              "      --disabled-bg-color: #DDD;\n",
              "  }\n",
              "\n",
              "  [theme=dark] .colab-df-quickchart {\n",
              "      --bg-color: #3B4455;\n",
              "      --fill-color: #D2E3FC;\n",
              "      --hover-bg-color: #434B5C;\n",
              "      --hover-fill-color: #FFFFFF;\n",
              "      --disabled-bg-color: #3B4455;\n",
              "      --disabled-fill-color: #666;\n",
              "  }\n",
              "\n",
              "  .colab-df-quickchart {\n",
              "    background-color: var(--bg-color);\n",
              "    border: none;\n",
              "    border-radius: 50%;\n",
              "    cursor: pointer;\n",
              "    display: none;\n",
              "    fill: var(--fill-color);\n",
              "    height: 32px;\n",
              "    padding: 0;\n",
              "    width: 32px;\n",
              "  }\n",
              "\n",
              "  .colab-df-quickchart:hover {\n",
              "    background-color: var(--hover-bg-color);\n",
              "    box-shadow: 0 1px 2px rgba(60, 64, 67, 0.3), 0 1px 3px 1px rgba(60, 64, 67, 0.15);\n",
              "    fill: var(--button-hover-fill-color);\n",
              "  }\n",
              "\n",
              "  .colab-df-quickchart-complete:disabled,\n",
              "  .colab-df-quickchart-complete:disabled:hover {\n",
              "    background-color: var(--disabled-bg-color);\n",
              "    fill: var(--disabled-fill-color);\n",
              "    box-shadow: none;\n",
              "  }\n",
              "\n",
              "  .colab-df-spinner {\n",
              "    border: 2px solid var(--fill-color);\n",
              "    border-color: transparent;\n",
              "    border-bottom-color: var(--fill-color);\n",
              "    animation:\n",
              "      spin 1s steps(1) infinite;\n",
              "  }\n",
              "\n",
              "  @keyframes spin {\n",
              "    0% {\n",
              "      border-color: transparent;\n",
              "      border-bottom-color: var(--fill-color);\n",
              "      border-left-color: var(--fill-color);\n",
              "    }\n",
              "    20% {\n",
              "      border-color: transparent;\n",
              "      border-left-color: var(--fill-color);\n",
              "      border-top-color: var(--fill-color);\n",
              "    }\n",
              "    30% {\n",
              "      border-color: transparent;\n",
              "      border-left-color: var(--fill-color);\n",
              "      border-top-color: var(--fill-color);\n",
              "      border-right-color: var(--fill-color);\n",
              "    }\n",
              "    40% {\n",
              "      border-color: transparent;\n",
              "      border-right-color: var(--fill-color);\n",
              "      border-top-color: var(--fill-color);\n",
              "    }\n",
              "    60% {\n",
              "      border-color: transparent;\n",
              "      border-right-color: var(--fill-color);\n",
              "    }\n",
              "    80% {\n",
              "      border-color: transparent;\n",
              "      border-right-color: var(--fill-color);\n",
              "      border-bottom-color: var(--fill-color);\n",
              "    }\n",
              "    90% {\n",
              "      border-color: transparent;\n",
              "      border-bottom-color: var(--fill-color);\n",
              "    }\n",
              "  }\n",
              "</style>\n",
              "\n",
              "  <script>\n",
              "    async function quickchart(key) {\n",
              "      const quickchartButtonEl =\n",
              "        document.querySelector('#' + key + ' button');\n",
              "      quickchartButtonEl.disabled = true;  // To prevent multiple clicks.\n",
              "      quickchartButtonEl.classList.add('colab-df-spinner');\n",
              "      try {\n",
              "        const charts = await google.colab.kernel.invokeFunction(\n",
              "            'suggestCharts', [key], {});\n",
              "      } catch (error) {\n",
              "        console.error('Error during call to suggestCharts:', error);\n",
              "      }\n",
              "      quickchartButtonEl.classList.remove('colab-df-spinner');\n",
              "      quickchartButtonEl.classList.add('colab-df-quickchart-complete');\n",
              "    }\n",
              "    (() => {\n",
              "      let quickchartButtonEl =\n",
              "        document.querySelector('#df-6a42b52f-0a99-4d47-92ba-e5e0a8e10af2 button');\n",
              "      quickchartButtonEl.style.display =\n",
              "        google.colab.kernel.accessAllowed ? 'block' : 'none';\n",
              "    })();\n",
              "  </script>\n",
              "</div>\n",
              "\n",
              "    </div>\n",
              "  </div>\n"
            ],
            "application/vnd.google.colaboratory.intrinsic+json": {
              "type": "dataframe",
              "variable_name": "X_train_standard",
              "summary": "{\n  \"name\": \"X_train_standard\",\n  \"rows\": 720,\n  \"fields\": [\n    {\n      \"column\": \"Area\",\n      \"properties\": {\n        \"dtype\": \"number\",\n        \"std\": 1.0,\n        \"min\": -1.609821265250347,\n        \"max\": 3.4693460541362047,\n        \"num_unique_values\": 720,\n        \"samples\": [\n          -1.2414629336467848,\n          1.2408770653913515,\n          0.6013821310527407\n        ],\n        \"semantic_type\": \"\",\n        \"description\": \"\"\n      }\n    },\n    {\n      \"column\": \"MajorAxisLength\",\n      \"properties\": {\n        \"dtype\": \"number\",\n        \"std\": 1.0,\n        \"min\": -1.7653980521780206,\n        \"max\": 4.828900573048671,\n        \"num_unique_values\": 720,\n        \"samples\": [\n          -1.3719926864037513,\n          2.4836699626747007,\n          0.3939099638846749\n        ],\n        \"semantic_type\": \"\",\n        \"description\": \"\"\n      }\n    },\n    {\n      \"column\": \"MinorAxisLength\",\n      \"properties\": {\n        \"dtype\": \"number\",\n        \"std\": 1.0,\n        \"min\": -2.2326160248938587,\n        \"max\": 3.7679547974964596,\n        \"num_unique_values\": 720,\n        \"samples\": [\n          -1.322710739496926,\n          1.1486077480566779,\n          0.890826781682208\n        ],\n        \"semantic_type\": \"\",\n        \"description\": \"\"\n      }\n    },\n    {\n      \"column\": \"Eccentricity\",\n      \"properties\": {\n        \"dtype\": \"number\",\n        \"std\": 1.0,\n        \"min\": -4.6302116442759305,\n        \"max\": 1.9403330920990258,\n        \"num_unique_values\": 720,\n        \"samples\": [\n          -0.6897475558981369,\n          1.3015400652981766,\n          0.0017710047017585589\n        ],\n        \"semantic_type\": \"\",\n        \"description\": \"\"\n      }\n    },\n    {\n      \"column\": \"ConvexArea\",\n      \"properties\": {\n        \"dtype\": \"number\",\n        \"std\": 1.0,\n        \"min\": -1.6033300961206742,\n        \"max\": 4.580651376014335,\n        \"num_unique_values\": 716,\n        \"samples\": [\n          -0.4821188472117712,\n          -0.7203983164191091,\n          -0.996383493870211\n        ],\n        \"semantic_type\": \"\",\n        \"description\": \"\"\n      }\n    },\n    {\n      \"column\": \"Extent\",\n      \"properties\": {\n        \"dtype\": \"number\",\n        \"std\": 1.0,\n        \"min\": -5.896180215734562,\n        \"max\": 2.522549317795122,\n        \"num_unique_values\": 720,\n        \"samples\": [\n          0.4682686060477207,\n          -3.1259368455964673,\n          -0.16350153316430208\n        ],\n        \"semantic_type\": \"\",\n        \"description\": \"\"\n      }\n    },\n    {\n      \"column\": \"Perimeter\",\n      \"properties\": {\n        \"dtype\": \"number\",\n        \"std\": 1.0,\n        \"min\": -2.0041681699079277,\n        \"max\": 5.5615770044200294,\n        \"num_unique_values\": 720,\n        \"samples\": [\n          -1.4112773840206756,\n          3.3796198217295474,\n          0.46759561291691304\n        ],\n        \"semantic_type\": \"\",\n        \"description\": \"\"\n      }\n    }\n  ]\n}"
            }
          },
          "metadata": {},
          "execution_count": 14
        }
      ],
      "source": [
        "X_train_standard = (X_train_data - mean_train)/ std_train\n",
        "X_train_standard.head()"
      ],
      "id": "FsRYp3BglVT9"
    },
    {
      "cell_type": "code",
      "execution_count": 15,
      "metadata": {
        "id": "ro5ffG6alVT9",
        "outputId": "74f63c4c-f6d8-4e28-b5cb-ed0e18638845",
        "colab": {
          "base_uri": "https://localhost:8080/"
        }
      },
      "outputs": [
        {
          "output_type": "execute_result",
          "data": {
            "text/plain": [
              "(720, 7)"
            ]
          },
          "metadata": {},
          "execution_count": 15
        }
      ],
      "source": [
        "X_train_standard = X_train_standard.to_numpy()\n",
        "X_train_standard.shape"
      ],
      "id": "ro5ffG6alVT9"
    },
    {
      "cell_type": "code",
      "execution_count": 16,
      "metadata": {
        "id": "zd_S9kgglVT9",
        "outputId": "ecb4c41c-d141-4995-eac1-7594f6fbb122",
        "colab": {
          "base_uri": "https://localhost:8080/"
        }
      },
      "outputs": [
        {
          "output_type": "execute_result",
          "data": {
            "text/plain": [
              "(720, 8)"
            ]
          },
          "metadata": {},
          "execution_count": 16
        }
      ],
      "source": [
        "X_train = np.hstack([np.ones((X_train_standard.shape[0],1)), X_train_standard]) # add bias term\n",
        "X_train.shape"
      ],
      "id": "zd_S9kgglVT9"
    },
    {
      "cell_type": "code",
      "execution_count": 20,
      "metadata": {
        "id": "24eeiRVQlVT9",
        "outputId": "40ed89e3-8878-4107-c545-7cdff87a3dc7",
        "colab": {
          "base_uri": "https://localhost:8080/",
          "height": 206
        }
      },
      "outputs": [
        {
          "output_type": "execute_result",
          "data": {
            "text/plain": [
              "       Area  MajorAxisLength  MinorAxisLength  Eccentricity  ConvexArea  \\\n",
              "0 -1.008043        -0.854138        -1.305133      0.413987   -0.972661   \n",
              "1 -1.002134        -1.254607        -0.687215     -1.579456   -0.996408   \n",
              "2 -0.600555        -0.577963        -0.525359     -0.025955   -0.588073   \n",
              "3  0.393964         0.243161         0.675094     -0.005231    0.345248   \n",
              "4 -0.361534        -0.623341         0.174981     -1.078837   -0.396011   \n",
              "\n",
              "     Extent  Perimeter  \n",
              "0 -0.694778  -0.879715  \n",
              "1  0.292508  -1.194003  \n",
              "2 -0.796336  -0.633396  \n",
              "3  0.517888   0.220261  \n",
              "4  1.031061  -0.553115  "
            ],
            "text/html": [
              "\n",
              "  <div id=\"df-4eb69b19-9798-45eb-86fb-9a54f569990b\" class=\"colab-df-container\">\n",
              "    <div>\n",
              "<style scoped>\n",
              "    .dataframe tbody tr th:only-of-type {\n",
              "        vertical-align: middle;\n",
              "    }\n",
              "\n",
              "    .dataframe tbody tr th {\n",
              "        vertical-align: top;\n",
              "    }\n",
              "\n",
              "    .dataframe thead th {\n",
              "        text-align: right;\n",
              "    }\n",
              "</style>\n",
              "<table border=\"1\" class=\"dataframe\">\n",
              "  <thead>\n",
              "    <tr style=\"text-align: right;\">\n",
              "      <th></th>\n",
              "      <th>Area</th>\n",
              "      <th>MajorAxisLength</th>\n",
              "      <th>MinorAxisLength</th>\n",
              "      <th>Eccentricity</th>\n",
              "      <th>ConvexArea</th>\n",
              "      <th>Extent</th>\n",
              "      <th>Perimeter</th>\n",
              "    </tr>\n",
              "  </thead>\n",
              "  <tbody>\n",
              "    <tr>\n",
              "      <th>0</th>\n",
              "      <td>-1.008043</td>\n",
              "      <td>-0.854138</td>\n",
              "      <td>-1.305133</td>\n",
              "      <td>0.413987</td>\n",
              "      <td>-0.972661</td>\n",
              "      <td>-0.694778</td>\n",
              "      <td>-0.879715</td>\n",
              "    </tr>\n",
              "    <tr>\n",
              "      <th>1</th>\n",
              "      <td>-1.002134</td>\n",
              "      <td>-1.254607</td>\n",
              "      <td>-0.687215</td>\n",
              "      <td>-1.579456</td>\n",
              "      <td>-0.996408</td>\n",
              "      <td>0.292508</td>\n",
              "      <td>-1.194003</td>\n",
              "    </tr>\n",
              "    <tr>\n",
              "      <th>2</th>\n",
              "      <td>-0.600555</td>\n",
              "      <td>-0.577963</td>\n",
              "      <td>-0.525359</td>\n",
              "      <td>-0.025955</td>\n",
              "      <td>-0.588073</td>\n",
              "      <td>-0.796336</td>\n",
              "      <td>-0.633396</td>\n",
              "    </tr>\n",
              "    <tr>\n",
              "      <th>3</th>\n",
              "      <td>0.393964</td>\n",
              "      <td>0.243161</td>\n",
              "      <td>0.675094</td>\n",
              "      <td>-0.005231</td>\n",
              "      <td>0.345248</td>\n",
              "      <td>0.517888</td>\n",
              "      <td>0.220261</td>\n",
              "    </tr>\n",
              "    <tr>\n",
              "      <th>4</th>\n",
              "      <td>-0.361534</td>\n",
              "      <td>-0.623341</td>\n",
              "      <td>0.174981</td>\n",
              "      <td>-1.078837</td>\n",
              "      <td>-0.396011</td>\n",
              "      <td>1.031061</td>\n",
              "      <td>-0.553115</td>\n",
              "    </tr>\n",
              "  </tbody>\n",
              "</table>\n",
              "</div>\n",
              "    <div class=\"colab-df-buttons\">\n",
              "\n",
              "  <div class=\"colab-df-container\">\n",
              "    <button class=\"colab-df-convert\" onclick=\"convertToInteractive('df-4eb69b19-9798-45eb-86fb-9a54f569990b')\"\n",
              "            title=\"Convert this dataframe to an interactive table.\"\n",
              "            style=\"display:none;\">\n",
              "\n",
              "  <svg xmlns=\"http://www.w3.org/2000/svg\" height=\"24px\" viewBox=\"0 -960 960 960\">\n",
              "    <path d=\"M120-120v-720h720v720H120Zm60-500h600v-160H180v160Zm220 220h160v-160H400v160Zm0 220h160v-160H400v160ZM180-400h160v-160H180v160Zm440 0h160v-160H620v160ZM180-180h160v-160H180v160Zm440 0h160v-160H620v160Z\"/>\n",
              "  </svg>\n",
              "    </button>\n",
              "\n",
              "  <style>\n",
              "    .colab-df-container {\n",
              "      display:flex;\n",
              "      gap: 12px;\n",
              "    }\n",
              "\n",
              "    .colab-df-convert {\n",
              "      background-color: #E8F0FE;\n",
              "      border: none;\n",
              "      border-radius: 50%;\n",
              "      cursor: pointer;\n",
              "      display: none;\n",
              "      fill: #1967D2;\n",
              "      height: 32px;\n",
              "      padding: 0 0 0 0;\n",
              "      width: 32px;\n",
              "    }\n",
              "\n",
              "    .colab-df-convert:hover {\n",
              "      background-color: #E2EBFA;\n",
              "      box-shadow: 0px 1px 2px rgba(60, 64, 67, 0.3), 0px 1px 3px 1px rgba(60, 64, 67, 0.15);\n",
              "      fill: #174EA6;\n",
              "    }\n",
              "\n",
              "    .colab-df-buttons div {\n",
              "      margin-bottom: 4px;\n",
              "    }\n",
              "\n",
              "    [theme=dark] .colab-df-convert {\n",
              "      background-color: #3B4455;\n",
              "      fill: #D2E3FC;\n",
              "    }\n",
              "\n",
              "    [theme=dark] .colab-df-convert:hover {\n",
              "      background-color: #434B5C;\n",
              "      box-shadow: 0px 1px 3px 1px rgba(0, 0, 0, 0.15);\n",
              "      filter: drop-shadow(0px 1px 2px rgba(0, 0, 0, 0.3));\n",
              "      fill: #FFFFFF;\n",
              "    }\n",
              "  </style>\n",
              "\n",
              "    <script>\n",
              "      const buttonEl =\n",
              "        document.querySelector('#df-4eb69b19-9798-45eb-86fb-9a54f569990b button.colab-df-convert');\n",
              "      buttonEl.style.display =\n",
              "        google.colab.kernel.accessAllowed ? 'block' : 'none';\n",
              "\n",
              "      async function convertToInteractive(key) {\n",
              "        const element = document.querySelector('#df-4eb69b19-9798-45eb-86fb-9a54f569990b');\n",
              "        const dataTable =\n",
              "          await google.colab.kernel.invokeFunction('convertToInteractive',\n",
              "                                                    [key], {});\n",
              "        if (!dataTable) return;\n",
              "\n",
              "        const docLinkHtml = 'Like what you see? Visit the ' +\n",
              "          '<a target=\"_blank\" href=https://colab.research.google.com/notebooks/data_table.ipynb>data table notebook</a>'\n",
              "          + ' to learn more about interactive tables.';\n",
              "        element.innerHTML = '';\n",
              "        dataTable['output_type'] = 'display_data';\n",
              "        await google.colab.output.renderOutput(dataTable, element);\n",
              "        const docLink = document.createElement('div');\n",
              "        docLink.innerHTML = docLinkHtml;\n",
              "        element.appendChild(docLink);\n",
              "      }\n",
              "    </script>\n",
              "  </div>\n",
              "\n",
              "\n",
              "<div id=\"df-422da1da-e5a3-4a09-ba03-d9999ca79754\">\n",
              "  <button class=\"colab-df-quickchart\" onclick=\"quickchart('df-422da1da-e5a3-4a09-ba03-d9999ca79754')\"\n",
              "            title=\"Suggest charts\"\n",
              "            style=\"display:none;\">\n",
              "\n",
              "<svg xmlns=\"http://www.w3.org/2000/svg\" height=\"24px\"viewBox=\"0 0 24 24\"\n",
              "     width=\"24px\">\n",
              "    <g>\n",
              "        <path d=\"M19 3H5c-1.1 0-2 .9-2 2v14c0 1.1.9 2 2 2h14c1.1 0 2-.9 2-2V5c0-1.1-.9-2-2-2zM9 17H7v-7h2v7zm4 0h-2V7h2v10zm4 0h-2v-4h2v4z\"/>\n",
              "    </g>\n",
              "</svg>\n",
              "  </button>\n",
              "\n",
              "<style>\n",
              "  .colab-df-quickchart {\n",
              "      --bg-color: #E8F0FE;\n",
              "      --fill-color: #1967D2;\n",
              "      --hover-bg-color: #E2EBFA;\n",
              "      --hover-fill-color: #174EA6;\n",
              "      --disabled-fill-color: #AAA;\n",
              "      --disabled-bg-color: #DDD;\n",
              "  }\n",
              "\n",
              "  [theme=dark] .colab-df-quickchart {\n",
              "      --bg-color: #3B4455;\n",
              "      --fill-color: #D2E3FC;\n",
              "      --hover-bg-color: #434B5C;\n",
              "      --hover-fill-color: #FFFFFF;\n",
              "      --disabled-bg-color: #3B4455;\n",
              "      --disabled-fill-color: #666;\n",
              "  }\n",
              "\n",
              "  .colab-df-quickchart {\n",
              "    background-color: var(--bg-color);\n",
              "    border: none;\n",
              "    border-radius: 50%;\n",
              "    cursor: pointer;\n",
              "    display: none;\n",
              "    fill: var(--fill-color);\n",
              "    height: 32px;\n",
              "    padding: 0;\n",
              "    width: 32px;\n",
              "  }\n",
              "\n",
              "  .colab-df-quickchart:hover {\n",
              "    background-color: var(--hover-bg-color);\n",
              "    box-shadow: 0 1px 2px rgba(60, 64, 67, 0.3), 0 1px 3px 1px rgba(60, 64, 67, 0.15);\n",
              "    fill: var(--button-hover-fill-color);\n",
              "  }\n",
              "\n",
              "  .colab-df-quickchart-complete:disabled,\n",
              "  .colab-df-quickchart-complete:disabled:hover {\n",
              "    background-color: var(--disabled-bg-color);\n",
              "    fill: var(--disabled-fill-color);\n",
              "    box-shadow: none;\n",
              "  }\n",
              "\n",
              "  .colab-df-spinner {\n",
              "    border: 2px solid var(--fill-color);\n",
              "    border-color: transparent;\n",
              "    border-bottom-color: var(--fill-color);\n",
              "    animation:\n",
              "      spin 1s steps(1) infinite;\n",
              "  }\n",
              "\n",
              "  @keyframes spin {\n",
              "    0% {\n",
              "      border-color: transparent;\n",
              "      border-bottom-color: var(--fill-color);\n",
              "      border-left-color: var(--fill-color);\n",
              "    }\n",
              "    20% {\n",
              "      border-color: transparent;\n",
              "      border-left-color: var(--fill-color);\n",
              "      border-top-color: var(--fill-color);\n",
              "    }\n",
              "    30% {\n",
              "      border-color: transparent;\n",
              "      border-left-color: var(--fill-color);\n",
              "      border-top-color: var(--fill-color);\n",
              "      border-right-color: var(--fill-color);\n",
              "    }\n",
              "    40% {\n",
              "      border-color: transparent;\n",
              "      border-right-color: var(--fill-color);\n",
              "      border-top-color: var(--fill-color);\n",
              "    }\n",
              "    60% {\n",
              "      border-color: transparent;\n",
              "      border-right-color: var(--fill-color);\n",
              "    }\n",
              "    80% {\n",
              "      border-color: transparent;\n",
              "      border-right-color: var(--fill-color);\n",
              "      border-bottom-color: var(--fill-color);\n",
              "    }\n",
              "    90% {\n",
              "      border-color: transparent;\n",
              "      border-bottom-color: var(--fill-color);\n",
              "    }\n",
              "  }\n",
              "</style>\n",
              "\n",
              "  <script>\n",
              "    async function quickchart(key) {\n",
              "      const quickchartButtonEl =\n",
              "        document.querySelector('#' + key + ' button');\n",
              "      quickchartButtonEl.disabled = true;  // To prevent multiple clicks.\n",
              "      quickchartButtonEl.classList.add('colab-df-spinner');\n",
              "      try {\n",
              "        const charts = await google.colab.kernel.invokeFunction(\n",
              "            'suggestCharts', [key], {});\n",
              "      } catch (error) {\n",
              "        console.error('Error during call to suggestCharts:', error);\n",
              "      }\n",
              "      quickchartButtonEl.classList.remove('colab-df-spinner');\n",
              "      quickchartButtonEl.classList.add('colab-df-quickchart-complete');\n",
              "    }\n",
              "    (() => {\n",
              "      let quickchartButtonEl =\n",
              "        document.querySelector('#df-422da1da-e5a3-4a09-ba03-d9999ca79754 button');\n",
              "      quickchartButtonEl.style.display =\n",
              "        google.colab.kernel.accessAllowed ? 'block' : 'none';\n",
              "    })();\n",
              "  </script>\n",
              "</div>\n",
              "\n",
              "    </div>\n",
              "  </div>\n"
            ],
            "application/vnd.google.colaboratory.intrinsic+json": {
              "type": "dataframe",
              "variable_name": "X_test_standard",
              "summary": "{\n  \"name\": \"X_test_standard\",\n  \"rows\": 180,\n  \"fields\": [\n    {\n      \"column\": \"Area\",\n      \"properties\": {\n        \"dtype\": \"number\",\n        \"std\": 1.0127651542229141,\n        \"min\": -1.5707424466433149,\n        \"max\": 3.7769408051969457,\n        \"num_unique_values\": 180,\n        \"samples\": [\n          -0.22978143366618478,\n          -0.9439397781770736,\n          0.24281277373535823\n        ],\n        \"semantic_type\": \"\",\n        \"description\": \"\"\n      }\n    },\n    {\n      \"column\": \"MajorAxisLength\",\n      \"properties\": {\n        \"dtype\": \"number\",\n        \"std\": 0.9586478273564378,\n        \"min\": -1.59643705450696,\n        \"max\": 4.421881101928658,\n        \"num_unique_values\": 180,\n        \"samples\": [\n          -0.15996808369854512,\n          -0.7022171278857976,\n          0.16721121337495443\n        ],\n        \"semantic_type\": \"\",\n        \"description\": \"\"\n      }\n    },\n    {\n      \"column\": \"MinorAxisLength\",\n      \"properties\": {\n        \"dtype\": \"number\",\n        \"std\": 1.0699449011361306,\n        \"min\": -2.251026690798798,\n        \"max\": 4.818042954820642,\n        \"num_unique_values\": 180,\n        \"samples\": [\n          -0.168341662924883,\n          -1.317015846005933,\n          0.4781062239697513\n        ],\n        \"semantic_type\": \"\",\n        \"description\": \"\"\n      }\n    },\n    {\n      \"column\": \"Eccentricity\",\n      \"properties\": {\n        \"dtype\": \"number\",\n        \"std\": 0.8266984436665562,\n        \"min\": -2.930230030511174,\n        \"max\": 1.8220516149127444,\n        \"num_unique_values\": 180,\n        \"samples\": [\n          0.23641398120299267,\n          0.6353821586218649,\n          0.07276974900459254\n        ],\n        \"semantic_type\": \"\",\n        \"description\": \"\"\n      }\n    },\n    {\n      \"column\": \"ConvexArea\",\n      \"properties\": {\n        \"dtype\": \"number\",\n        \"std\": 1.0029767946948605,\n        \"min\": -1.5427850811918458,\n        \"max\": 3.6208607908946098,\n        \"num_unique_values\": 180,\n        \"samples\": [\n          -0.2368968175405521,\n          -0.9456267532349817,\n          0.2547002465432372\n        ],\n        \"semantic_type\": \"\",\n        \"description\": \"\"\n      }\n    },\n    {\n      \"column\": \"Extent\",\n      \"properties\": {\n        \"dtype\": \"number\",\n        \"std\": 0.9400181914273081,\n        \"min\": -5.262414871399942,\n        \"max\": 1.7092318288530663,\n        \"num_unique_values\": 180,\n        \"samples\": [\n          -0.8092191309188183,\n          -0.7011332658533017,\n          -0.1708413934316047\n        ],\n        \"semantic_type\": \"\",\n        \"description\": \"\"\n      }\n    },\n    {\n      \"column\": \"Perimeter\",\n      \"properties\": {\n        \"dtype\": \"number\",\n        \"std\": 0.9827477424258186,\n        \"min\": -1.7867295069592342,\n        \"max\": 4.3032491506968915,\n        \"num_unique_values\": 180,\n        \"samples\": [\n          -0.20422182980638845,\n          -0.9921999482466599,\n          0.3095129988352842\n        ],\n        \"semantic_type\": \"\",\n        \"description\": \"\"\n      }\n    }\n  ]\n}"
            }
          },
          "metadata": {},
          "execution_count": 20
        }
      ],
      "source": [
        "X_test_standard = (X_test_data - mean_train)/ std_train\n",
        "X_test_standard.head()"
      ],
      "id": "24eeiRVQlVT9"
    },
    {
      "cell_type": "code",
      "execution_count": 21,
      "metadata": {
        "id": "myzW2XHKlVT-",
        "outputId": "a224532c-2195-4f5d-a4de-ca7fbd92328e",
        "colab": {
          "base_uri": "https://localhost:8080/"
        }
      },
      "outputs": [
        {
          "output_type": "execute_result",
          "data": {
            "text/plain": [
              "(180, 7)"
            ]
          },
          "metadata": {},
          "execution_count": 21
        }
      ],
      "source": [
        "X_test_standard = X_test_standard.to_numpy()\n",
        "X_test_standard.shape"
      ],
      "id": "myzW2XHKlVT-"
    },
    {
      "cell_type": "code",
      "execution_count": 22,
      "metadata": {
        "id": "BDoQukCTlVT-",
        "outputId": "95a691b5-bd3f-481e-b2dd-9b72f3c15559",
        "colab": {
          "base_uri": "https://localhost:8080/"
        }
      },
      "outputs": [
        {
          "output_type": "execute_result",
          "data": {
            "text/plain": [
              "(180, 8)"
            ]
          },
          "metadata": {},
          "execution_count": 22
        }
      ],
      "source": [
        "X_test = np.hstack([np.ones((X_test_standard.shape[0],1)), X_test_standard]) # add bias term\n",
        "X_test.shape"
      ],
      "id": "BDoQukCTlVT-"
    },
    {
      "cell_type": "markdown",
      "metadata": {
        "id": "D_DS4i42lVT-"
      },
      "source": [
        "# Prepare the Logistic Regression algorithm\n",
        "\n",
        "Steps to follow:\n",
        "\n",
        "* Initialize the weights\n",
        "* Make prediction using current weights\n",
        "* Calculate gradient of the weights and update the weights\n",
        "* Calculate cost function\n",
        "* Repeat steps 2-4 until convergence\n",
        "\n",
        "All of the above steps must be done only for train set. Read bellow cells to understand each step."
      ],
      "id": "D_DS4i42lVT-"
    },
    {
      "cell_type": "markdown",
      "metadata": {
        "id": "M4MiAOzLlVT-"
      },
      "source": [
        "## Sigmoid function\n",
        "$$sigmoid(x) = \\frac {1} {1+exp(-x)} $$"
      ],
      "id": "M4MiAOzLlVT-"
    },
    {
      "cell_type": "code",
      "execution_count": 23,
      "metadata": {
        "id": "CjQ0QZaSlVT-"
      },
      "outputs": [],
      "source": [
        "def sigmoid(x):\n",
        "    return 1/(1 + np.exp(-x))"
      ],
      "id": "CjQ0QZaSlVT-"
    },
    {
      "cell_type": "markdown",
      "metadata": {
        "id": "Gzv5So17lVT-"
      },
      "source": [
        "## Cost Function\n",
        "\n",
        " $$ cost = - y*log(\\hat{y}) - (1 - y) * log(1-\\hat{y}) $$"
      ],
      "id": "Gzv5So17lVT-"
    },
    {
      "cell_type": "code",
      "execution_count": 24,
      "metadata": {
        "id": "uWA7Qu-xlVT-"
      },
      "outputs": [],
      "source": [
        "def cost(y_truth, y_proba):\n",
        "    loss = - y_truth*np.log(y_proba) - (1- y_truth)*np.log(1 - y_proba)\n",
        "    return loss"
      ],
      "id": "uWA7Qu-xlVT-"
    },
    {
      "cell_type": "markdown",
      "metadata": {
        "id": "5YVgG2G4lVT-"
      },
      "source": [
        "## Compute Gradient\n",
        "For Logistic Regression, the gradient of the weight is :\n",
        "$$ gradient(w) = (\\hat{y} - y)*X $$"
      ],
      "id": "5YVgG2G4lVT-"
    },
    {
      "cell_type": "code",
      "execution_count": 25,
      "metadata": {
        "id": "XrAoXNGQlVT-"
      },
      "outputs": [],
      "source": [
        "def gradient_compute(X, y, y_proba):\n",
        "    '''\n",
        "    X: Input Feature Array of NxD shape\n",
        "    y: ground truth output of N shape\n",
        "    y_proba: probability of N shape\n",
        "    '''\n",
        "    assert y.ndim == 1, \"y should be one dimensional\"\n",
        "    return np.dot((y_proba - y), X)"
      ],
      "id": "XrAoXNGQlVT-"
    },
    {
      "cell_type": "markdown",
      "metadata": {
        "id": "T0nBJTMIlVT-"
      },
      "source": [
        "## Probability prediction\n",
        "$$\\hat{y} = sigmoid(w^T . x)$$"
      ],
      "id": "T0nBJTMIlVT-"
    },
    {
      "cell_type": "code",
      "execution_count": 26,
      "metadata": {
        "id": "wpJq7v_LlVT-"
      },
      "outputs": [],
      "source": [
        "def probability(w, X):\n",
        "    y_proba = np.array([])\n",
        "    for i in range(len(X)):\n",
        "        proba = sigmoid(np.dot(w, X[i]))\n",
        "        y_proba = np.append(y_proba, proba)\n",
        "    return y_proba"
      ],
      "id": "wpJq7v_LlVT-"
    },
    {
      "cell_type": "markdown",
      "metadata": {
        "id": "7om-jBYIlVT-"
      },
      "source": [
        "## Label Prediction\n",
        "\n",
        "After computing necessary parameters, each instance x is tested.\n",
        "\n",
        "$$ probability = sigmoid(w^T.x) $$\n",
        "\n",
        "This equation gives the probability between 0 and 1. Then, if it is greater than 0.5, it will be defined as class 1, and if it is less than 0.5, it will be defined as class 0."
      ],
      "id": "7om-jBYIlVT-"
    },
    {
      "cell_type": "code",
      "execution_count": 27,
      "metadata": {
        "id": "67nm5rMclVT-"
      },
      "outputs": [],
      "source": [
        "def prediction(y_proba):\n",
        "    y_pred = np.array([], dtype=np.int16)\n",
        "\n",
        "    for i in range(len(y_proba)):\n",
        "        if y_proba[i] > 0.5:\n",
        "            pred = 1\n",
        "        else:\n",
        "            pred = 0\n",
        "        y_pred =np.append(y_pred, pred)\n",
        "    return y_pred"
      ],
      "id": "67nm5rMclVT-"
    },
    {
      "cell_type": "markdown",
      "metadata": {
        "id": "NN1I_nKNlVT_"
      },
      "source": [
        "# Offline Training Gradient Descent\n",
        "\n",
        "In offline training, we use the entire dataset at every iteration. After one forward pass using the entire training data, the weights get updated.\n",
        "$$ w = w - learning\\_rate*gradient(w) $$"
      ],
      "id": "NN1I_nKNlVT_"
    },
    {
      "cell_type": "code",
      "execution_count": 28,
      "metadata": {
        "scrolled": false,
        "id": "w9Fo0JR_lVT_"
      },
      "outputs": [],
      "source": [
        "def fit(X, y, epochs=10, learning_rate=0.01):\n",
        "    N = X.shape[0]                     # number of training samples\n",
        "    w = np.ones((1, X_train.shape[1])) # initialize the weights\n",
        "    cost_list = []\n",
        "    old_cost = 100\n",
        "    for k in range(epochs):\n",
        "        y_proba = probability(w, X)\n",
        "        w = w - learning_rate* gradient_compute(X, y, y_proba) # update the weights after one epoch\n",
        "\n",
        "        loss = 0\n",
        "        total_cost = 0\n",
        "        for i in range(N):\n",
        "            loss += cost(y[i], y_proba[i])\n",
        "        total_cost = loss / N\n",
        "        cost_list.append(total_cost)\n",
        "    return w, cost_list"
      ],
      "id": "w9Fo0JR_lVT_"
    },
    {
      "cell_type": "markdown",
      "metadata": {
        "id": "HYvGEiX1lVUC"
      },
      "source": [
        "## Training"
      ],
      "id": "HYvGEiX1lVUC"
    },
    {
      "cell_type": "code",
      "execution_count": 30,
      "metadata": {
        "id": "zFjUcbNGlVUC",
        "outputId": "9535d845-4bca-46c6-d4ad-80a4d6151439",
        "colab": {
          "base_uri": "https://localhost:8080/",
          "height": 503
        }
      },
      "outputs": [
        {
          "output_type": "stream",
          "name": "stdout",
          "text": [
            "Weights: [[0.89611438 0.84515787 0.93287493 0.70083817 1.17278336 0.85362574\n",
            "  0.51847841 0.90790042]]\n"
          ]
        },
        {
          "output_type": "execute_result",
          "data": {
            "text/plain": [
              "Text(0, 0.5, 'Loss')"
            ]
          },
          "metadata": {},
          "execution_count": 30
        },
        {
          "output_type": "display_data",
          "data": {
            "text/plain": [
              "<Figure size 640x480 with 1 Axes>"
            ],
            "image/png": "[encoded data removed]"
          },
          "metadata": {}
        }
      ],
      "source": [
        "epochs = 10\n",
        "learning_rate = 0.001\n",
        "w_offline, cost_list_offline = fit(X_train, y_train, epochs = epochs, learning_rate = learning_rate)\n",
        "print(f\"Weights: {w_offline}\")\n",
        "plt.plot(cost_list_offline)\n",
        "plt.xlabel(\"Iterations\")\n",
        "plt.ylabel(\"Loss\")"
      ],
      "id": "zFjUcbNGlVUC"
    },
    {
      "cell_type": "markdown",
      "metadata": {
        "id": "4-D3TNC1lVUC"
      },
      "source": [
        "# Mini batch Gradient Descent\n",
        "In mini batch gradient descent, we create batches of the training data and use one batch at a time. After one forward pass using one batch, the weight gets update. That means, we update the weights more frequently than offline learning."
      ],
      "id": "4-D3TNC1lVUC"
    },
    {
      "cell_type": "code",
      "execution_count": 31,
      "metadata": {
        "id": "rmUz3O0ulVUC"
      },
      "outputs": [],
      "source": [
        "def create_mini_batches(X, y, batch_size):\n",
        "    mini_batches = []\n",
        "    data = np.hstack((X, y))\n",
        "    np.random.shuffle(data)\n",
        "    n_minibatches = data.shape[0] // batch_size\n",
        "    i = 0\n",
        "\n",
        "    for i in range(n_minibatches):\n",
        "        mini_batch = data[i * batch_size:(i + 1)*batch_size, :]\n",
        "        X_mini = mini_batch[:, :-1]\n",
        "        Y_mini = mini_batch[:, -1].reshape((-1, 1))\n",
        "        mini_batches.append((X_mini, Y_mini))\n",
        "    if data.shape[0] % batch_size != 0:\n",
        "        mini_batch = data[i * batch_size:data.shape[0]]\n",
        "        X_mini = mini_batch[:, :-1]\n",
        "        Y_mini = mini_batch[:, -1].reshape((-1, 1))\n",
        "        mini_batches.append((X_mini, Y_mini))\n",
        "    return mini_batches"
      ],
      "id": "rmUz3O0ulVUC"
    },
    {
      "cell_type": "code",
      "execution_count": 32,
      "metadata": {
        "id": "W4uxmh5KlVUC"
      },
      "outputs": [],
      "source": [
        "def fit_mini(X, y, batch_size = 10, epochs=10, learning_rate=0.01):\n",
        "    N = X.shape[0]\n",
        "    w = np.ones((1, X_train.shape[1]))\n",
        "    cost_list = []\n",
        "    number_of_batch = N // batch_size\n",
        "    old_cost = 100\n",
        "    for k in range(epochs):\n",
        "        mini_batches = create_mini_batches(X, y.reshape(len(y),1), batch_size)\n",
        "        for mini_batch in mini_batches:\n",
        "            X_mini, y_mini = mini_batch\n",
        "            y_proba = probability(w, X_mini)\n",
        "            w = w - learning_rate* gradient_compute(X_mini, np.squeeze(y_mini), y_proba)\n",
        "\n",
        "            loss = 0\n",
        "            total_cost = 0\n",
        "            for i in range(len(y_mini)):\n",
        "                loss += cost(y_mini[i], y_proba[i])\n",
        "            total_cost = loss / len(y_mini)\n",
        "            cost_list.append(total_cost)\n",
        "    return w, cost_list"
      ],
      "id": "W4uxmh5KlVUC"
    },
    {
      "cell_type": "markdown",
      "metadata": {
        "id": "O4tRp5lelVUC"
      },
      "source": [
        "## Training"
      ],
      "id": "O4tRp5lelVUC"
    },
    {
      "cell_type": "code",
      "execution_count": 33,
      "metadata": {
        "id": "7Tg0O2zAlVUC",
        "outputId": "c488c04d-f8cf-4244-eb7f-bb4fa2cec288",
        "colab": {
          "base_uri": "https://localhost:8080/",
          "height": 503
        }
      },
      "outputs": [
        {
          "output_type": "stream",
          "name": "stdout",
          "text": [
            "Weights: [[ 0.38242286  0.56155263  0.60911049  0.18712201  0.7779222   0.50989362\n",
            "  -0.21995754  1.14895773]]\n"
          ]
        },
        {
          "output_type": "execute_result",
          "data": {
            "text/plain": [
              "Text(0, 0.5, 'Loss')"
            ]
          },
          "metadata": {},
          "execution_count": 33
        },
        {
          "output_type": "display_data",
          "data": {
            "text/plain": [
              "<Figure size 640x480 with 1 Axes>"
            ],
            "image/png": "[encoded data removed]"
          },
          "metadata": {}
        }
      ],
      "source": [
        "epochs = 30\n",
        "learning_rate = 0.01\n",
        "w_mini, cost_list_mini = fit_mini(X_train, y_train, epochs = epochs, learning_rate = learning_rate)\n",
        "print(f\"Weights: {w_mini}\")\n",
        "plt.plot(cost_list_mini)\n",
        "plt.xlabel(\"Iterations\")\n",
        "plt.ylabel(\"Loss\")"
      ],
      "id": "7Tg0O2zAlVUC"
    },
    {
      "cell_type": "markdown",
      "metadata": {
        "id": "tHWs6zYelVUC"
      },
      "source": [
        "# Evaluation Metrics\n",
        "\n",
        "The following evaluation metrics are used to evaluate the LDA model:\n",
        "* accuracy = (TN + TP)/ N\n",
        "* sensitivity = TP / (TP + FN)\n",
        "* specificity = TN / (TN + FP)\n",
        "* precision = TP / (TP + FP)\n",
        "* f1-score = $2*\\frac{precision * sensitivity} {precision + sensitivity}$\n",
        "* log loss = $- \\frac{1}{N} * \\sum_{i}^{N} [y_i*ln(p_i) + (1-y_i)*ln(1-p_i)]$\n",
        "\n",
        "Here,\n",
        "\n",
        "TP= True Positive\\\n",
        "TN= True Negative\\\n",
        "FP= False Positive\\\n",
        "FN= False Negative\\\n",
        "$y_i$ = ground truth of instance i\\\n",
        "$p_i$ = probability of instance of i"
      ],
      "id": "tHWs6zYelVUC"
    },
    {
      "cell_type": "code",
      "execution_count": 34,
      "metadata": {
        "id": "KJusWRrClVUD"
      },
      "outputs": [],
      "source": [
        "def compute_confusion_matrix(true, pred):\n",
        "    '''Computes a confusion matrix using numpy.'''\n",
        "\n",
        "    K = len(np.unique(true)) # Number of classes\n",
        "    result = np.zeros((K, K))\n",
        "\n",
        "    for i in range(len(true)):\n",
        "        result[true[i]][pred[i]] += 1\n",
        "\n",
        "    return result"
      ],
      "id": "KJusWRrClVUD"
    },
    {
      "cell_type": "code",
      "execution_count": 35,
      "metadata": {
        "id": "j_5wohsrlVUD"
      },
      "outputs": [],
      "source": [
        "def accuracy(conf_matrix):\n",
        "    tn, fp, fn, tp = conf_matrix.ravel()\n",
        "    return (tp+tn)/(tp+tn+fp+fn)"
      ],
      "id": "j_5wohsrlVUD"
    },
    {
      "cell_type": "code",
      "execution_count": 36,
      "metadata": {
        "id": "tla6lqKulVUD"
      },
      "outputs": [],
      "source": [
        "def sensitivity(conf_matrix):\n",
        "    tn, fp, fn, tp = conf_matrix.ravel()\n",
        "    return tp/(tp+fn)"
      ],
      "id": "tla6lqKulVUD"
    },
    {
      "cell_type": "code",
      "execution_count": 37,
      "metadata": {
        "id": "5JU47l5KlVUD"
      },
      "outputs": [],
      "source": [
        "def specificity(conf_matrix):\n",
        "    tn, fp, fn, tp = conf_matrix.ravel()\n",
        "    return tn/(tn+fp)"
      ],
      "id": "5JU47l5KlVUD"
    },
    {
      "cell_type": "code",
      "execution_count": 38,
      "metadata": {
        "id": "TqqRNVUTlVUD"
      },
      "outputs": [],
      "source": [
        "def precision(conf_matrix):\n",
        "    tn, fp, fn, tp = conf_matrix.ravel()\n",
        "    return tp/(tp+fp)"
      ],
      "id": "TqqRNVUTlVUD"
    },
    {
      "cell_type": "code",
      "execution_count": 39,
      "metadata": {
        "id": "Shg8xnvSlVUD"
      },
      "outputs": [],
      "source": [
        "def f1_score(conf_matrix):\n",
        "    tn, fp, fn, tp = conf_matrix.ravel()\n",
        "    precision = tp/(tp+fp)\n",
        "    recall = tp/(tp+fn)\n",
        "    f1_score = 2 * (precision * recall)/(precision + recall)\n",
        "    return f1_score"
      ],
      "id": "Shg8xnvSlVUD"
    },
    {
      "cell_type": "code",
      "execution_count": 40,
      "metadata": {
        "id": "jlqwpQr9lVUD"
      },
      "outputs": [],
      "source": [
        "def log_loss(ground_truth, y_proba):\n",
        "    log_loss = -((ground_truth * np.log(y_proba)) + ((1-ground_truth) * np.log(1-y_proba))).mean()\n",
        "    return log_loss"
      ],
      "id": "jlqwpQr9lVUD"
    },
    {
      "cell_type": "markdown",
      "metadata": {
        "id": "UynF04LulVUD"
      },
      "source": [
        "# Evaluating Offline Model"
      ],
      "id": "UynF04LulVUD"
    },
    {
      "cell_type": "markdown",
      "metadata": {
        "id": "MH_bIS27lVUD"
      },
      "source": [
        "## Evaluation metrics for train set"
      ],
      "id": "MH_bIS27lVUD"
    },
    {
      "cell_type": "code",
      "execution_count": 41,
      "metadata": {
        "id": "MtRE-IlBlVUD",
        "outputId": "56d89b90-0393-4ae5-ced5-d23e94c3d7e4",
        "colab": {
          "base_uri": "https://localhost:8080/"
        }
      },
      "outputs": [
        {
          "output_type": "execute_result",
          "data": {
            "text/plain": [
              "array([[298.,  62.],\n",
              "       [ 53., 307.]])"
            ]
          },
          "metadata": {},
          "execution_count": 41
        }
      ],
      "source": [
        "y_train_proba = probability(w_offline, X_train)\n",
        "y_train_pred = prediction(y_train_proba)\n",
        "\n",
        "conf_matrix_train = compute_confusion_matrix(y_train, y_train_pred)\n",
        "conf_matrix_train"
      ],
      "id": "MtRE-IlBlVUD"
    },
    {
      "cell_type": "code",
      "execution_count": 42,
      "metadata": {
        "id": "5aX6fDCPlVUD",
        "outputId": "dcc56200-84ba-4442-d397-19db05900e25",
        "colab": {
          "base_uri": "https://localhost:8080/"
        }
      },
      "outputs": [
        {
          "output_type": "execute_result",
          "data": {
            "text/plain": [
              "0.8402777777777778"
            ]
          },
          "metadata": {},
          "execution_count": 42
        }
      ],
      "source": [
        "accuracy(conf_matrix_train)"
      ],
      "id": "5aX6fDCPlVUD"
    },
    {
      "cell_type": "code",
      "execution_count": 43,
      "metadata": {
        "id": "xYb5itCklVUE",
        "outputId": "062e8aa7-9bcd-461e-be02-44c69324d4cc",
        "colab": {
          "base_uri": "https://localhost:8080/"
        }
      },
      "outputs": [
        {
          "output_type": "execute_result",
          "data": {
            "text/plain": [
              "0.8527777777777777"
            ]
          },
          "metadata": {},
          "execution_count": 43
        }
      ],
      "source": [
        "# Recall\n",
        "sensitivity(conf_matrix_train)"
      ],
      "id": "xYb5itCklVUE"
    },
    {
      "cell_type": "code",
      "execution_count": 44,
      "metadata": {
        "id": "1VHdLjSIlVUE",
        "outputId": "59219f54-49d7-4ac5-aec1-a03e0c81c927",
        "colab": {
          "base_uri": "https://localhost:8080/"
        }
      },
      "outputs": [
        {
          "output_type": "execute_result",
          "data": {
            "text/plain": [
              "0.8277777777777777"
            ]
          },
          "metadata": {},
          "execution_count": 44
        }
      ],
      "source": [
        "# Negative recall\n",
        "specificity(conf_matrix_train)"
      ],
      "id": "1VHdLjSIlVUE"
    },
    {
      "cell_type": "code",
      "execution_count": 45,
      "metadata": {
        "id": "1644AK7KlVUE",
        "outputId": "c455c34c-9be3-4da9-bedf-365a8a4d0877",
        "colab": {
          "base_uri": "https://localhost:8080/"
        }
      },
      "outputs": [
        {
          "output_type": "execute_result",
          "data": {
            "text/plain": [
              "0.842249657064472"
            ]
          },
          "metadata": {},
          "execution_count": 45
        }
      ],
      "source": [
        "f1_score(conf_matrix_train)"
      ],
      "id": "1644AK7KlVUE"
    },
    {
      "cell_type": "code",
      "execution_count": 46,
      "metadata": {
        "id": "WV3P8ImelVUE",
        "outputId": "6aa5b5d2-f6f6-4abf-b050-24cf969da6a8",
        "colab": {
          "base_uri": "https://localhost:8080/"
        }
      },
      "outputs": [
        {
          "output_type": "execute_result",
          "data": {
            "text/plain": [
              "0.3793508241902827"
            ]
          },
          "metadata": {},
          "execution_count": 46
        }
      ],
      "source": [
        "log_loss(y_train, y_train_proba)"
      ],
      "id": "WV3P8ImelVUE"
    },
    {
      "cell_type": "markdown",
      "metadata": {
        "id": "DNxxFpvqlVUE"
      },
      "source": [
        "## Evaluation metrics for test set"
      ],
      "id": "DNxxFpvqlVUE"
    },
    {
      "cell_type": "code",
      "execution_count": null,
      "metadata": {
        "id": "_bZ6K7mUlVUE",
        "outputId": "db41caba-4e38-4291-b440-fe454baae178"
      },
      "outputs": [
        {
          "data": {
            "text/plain": [
              "array([[80., 10.],\n",
              "       [18., 72.]])"
            ]
          },
          "execution_count": 44,
          "metadata": {},
          "output_type": "execute_result"
        }
      ],
      "source": [
        "y_test_proba = probability(w_offline, X_test)\n",
        "y_test_pred = prediction(y_test_proba)\n",
        "\n",
        "conf_matrix_test = compute_confusion_matrix(y_test, y_test_pred)\n",
        "conf_matrix_test"
      ],
      "id": "_bZ6K7mUlVUE"
    },
    {
      "cell_type": "code",
      "execution_count": null,
      "metadata": {
        "id": "gLHv3IIAlVUE",
        "outputId": "c1bd490a-638e-4955-9e52-b0d7fe6ad892"
      },
      "outputs": [
        {
          "data": {
            "text/plain": [
              "0.8444444444444444"
            ]
          },
          "execution_count": 45,
          "metadata": {},
          "output_type": "execute_result"
        }
      ],
      "source": [
        "accuracy(conf_matrix_test)"
      ],
      "id": "gLHv3IIAlVUE"
    },
    {
      "cell_type": "code",
      "execution_count": null,
      "metadata": {
        "id": "FNJ7e8qKlVUE",
        "outputId": "ae95ccff-6884-43cb-92f7-fcbd02f07592"
      },
      "outputs": [
        {
          "data": {
            "text/plain": [
              "0.8"
            ]
          },
          "execution_count": 46,
          "metadata": {},
          "output_type": "execute_result"
        }
      ],
      "source": [
        "sensitivity(conf_matrix_test)"
      ],
      "id": "FNJ7e8qKlVUE"
    },
    {
      "cell_type": "code",
      "execution_count": null,
      "metadata": {
        "id": "lqM8ZD2TlVUE",
        "outputId": "f3cc6416-7259-4dd6-bc79-111c43761653"
      },
      "outputs": [
        {
          "data": {
            "text/plain": [
              "0.8888888888888888"
            ]
          },
          "execution_count": 47,
          "metadata": {},
          "output_type": "execute_result"
        }
      ],
      "source": [
        "specificity(conf_matrix_test)"
      ],
      "id": "lqM8ZD2TlVUE"
    },
    {
      "cell_type": "code",
      "execution_count": null,
      "metadata": {
        "id": "YGnN74p1lVUE",
        "outputId": "bd323641-4fc2-4951-c0a0-9329c1b81f4a"
      },
      "outputs": [
        {
          "data": {
            "text/plain": [
              "0.8372093023255814"
            ]
          },
          "execution_count": 48,
          "metadata": {},
          "output_type": "execute_result"
        }
      ],
      "source": [
        "f1_score(conf_matrix_test)"
      ],
      "id": "YGnN74p1lVUE"
    },
    {
      "cell_type": "markdown",
      "metadata": {
        "id": "rH4aI-jClVUF"
      },
      "source": [
        "# Evaluating Mini batch Gradient Descent Model"
      ],
      "id": "rH4aI-jClVUF"
    },
    {
      "cell_type": "markdown",
      "metadata": {
        "id": "3M7U_qRulVUF"
      },
      "source": [
        "## Evaluation metrics for train set"
      ],
      "id": "3M7U_qRulVUF"
    },
    {
      "cell_type": "code",
      "execution_count": null,
      "metadata": {
        "id": "m7wCHByDlVUF",
        "outputId": "b1d366f2-1252-4146-93ce-ce204e494687"
      },
      "outputs": [
        {
          "data": {
            "text/plain": [
              "array([[320.,  40.],\n",
              "       [ 51., 309.]])"
            ]
          },
          "execution_count": 49,
          "metadata": {},
          "output_type": "execute_result"
        }
      ],
      "source": [
        "y_train_proba = probability(w_mini, X_train)\n",
        "y_train_pred = prediction(y_train_proba)\n",
        "\n",
        "conf_matrix_train = compute_confusion_matrix(y_train, y_train_pred)\n",
        "conf_matrix_train"
      ],
      "id": "m7wCHByDlVUF"
    },
    {
      "cell_type": "code",
      "execution_count": null,
      "metadata": {
        "id": "V5POTVholVUF",
        "outputId": "222fd55f-49a2-417c-bf64-d84f7d2e0dfb"
      },
      "outputs": [
        {
          "data": {
            "text/plain": [
              "0.8736111111111111"
            ]
          },
          "execution_count": 50,
          "metadata": {},
          "output_type": "execute_result"
        }
      ],
      "source": [
        "accuracy(conf_matrix_train)"
      ],
      "id": "V5POTVholVUF"
    },
    {
      "cell_type": "code",
      "execution_count": null,
      "metadata": {
        "id": "gsqJUwj6lVUF",
        "outputId": "280d2844-a083-4fa5-fa70-da4b63f4f629"
      },
      "outputs": [
        {
          "data": {
            "text/plain": [
              "0.8583333333333333"
            ]
          },
          "execution_count": 51,
          "metadata": {},
          "output_type": "execute_result"
        }
      ],
      "source": [
        "sensitivity(conf_matrix_train)"
      ],
      "id": "gsqJUwj6lVUF"
    },
    {
      "cell_type": "code",
      "execution_count": null,
      "metadata": {
        "id": "P38piZ6YlVUF",
        "outputId": "3e5d7b0a-293c-4581-845a-d1d2e77bcda9"
      },
      "outputs": [
        {
          "data": {
            "text/plain": [
              "0.8888888888888888"
            ]
          },
          "execution_count": 52,
          "metadata": {},
          "output_type": "execute_result"
        }
      ],
      "source": [
        "specificity(conf_matrix_train)"
      ],
      "id": "P38piZ6YlVUF"
    },
    {
      "cell_type": "code",
      "execution_count": null,
      "metadata": {
        "id": "5HIfLtlslVUG",
        "outputId": "4bbdcaae-a32c-4d61-a553-c68213334ab8"
      },
      "outputs": [
        {
          "data": {
            "text/plain": [
              "0.8716502115655854"
            ]
          },
          "execution_count": 53,
          "metadata": {},
          "output_type": "execute_result"
        }
      ],
      "source": [
        "f1_score(conf_matrix_train)"
      ],
      "id": "5HIfLtlslVUG"
    },
    {
      "cell_type": "code",
      "execution_count": null,
      "metadata": {
        "id": "TflYPB0BlVUG",
        "outputId": "92752341-f1df-4430-c57b-f9b945d051e5"
      },
      "outputs": [
        {
          "data": {
            "text/plain": [
              "0.34093795760947293"
            ]
          },
          "execution_count": 54,
          "metadata": {},
          "output_type": "execute_result"
        }
      ],
      "source": [
        "log_loss(y_train, y_train_proba)"
      ],
      "id": "TflYPB0BlVUG"
    },
    {
      "cell_type": "markdown",
      "metadata": {
        "id": "QJFSsOWrlVUG"
      },
      "source": [
        "## Evaluation metrics for test set"
      ],
      "id": "QJFSsOWrlVUG"
    },
    {
      "cell_type": "code",
      "execution_count": null,
      "metadata": {
        "id": "I2v03towlVUG",
        "outputId": "f99a2317-91e2-45fa-d208-9fea56f83c75"
      },
      "outputs": [
        {
          "data": {
            "text/plain": [
              "array([[80., 10.],\n",
              "       [18., 72.]])"
            ]
          },
          "execution_count": 55,
          "metadata": {},
          "output_type": "execute_result"
        }
      ],
      "source": [
        "y_test_proba = probability(w_mini, X_test)\n",
        "y_test_pred = prediction(y_test_proba)\n",
        "\n",
        "conf_matrix_test = compute_confusion_matrix(y_test, y_test_pred)\n",
        "conf_matrix_test"
      ],
      "id": "I2v03towlVUG"
    },
    {
      "cell_type": "code",
      "execution_count": null,
      "metadata": {
        "id": "0EtrNT5vlVUG",
        "outputId": "34ddc7c3-c2ef-4bb0-916a-f0f0932fd1b2"
      },
      "outputs": [
        {
          "data": {
            "text/plain": [
              "0.8444444444444444"
            ]
          },
          "execution_count": 56,
          "metadata": {},
          "output_type": "execute_result"
        }
      ],
      "source": [
        "accuracy(conf_matrix_test)"
      ],
      "id": "0EtrNT5vlVUG"
    },
    {
      "cell_type": "code",
      "execution_count": null,
      "metadata": {
        "id": "WWR8dpVnlVUG",
        "outputId": "b236caa9-44c2-4f48-e077-9d36eef6ac56"
      },
      "outputs": [
        {
          "data": {
            "text/plain": [
              "0.8"
            ]
          },
          "execution_count": 57,
          "metadata": {},
          "output_type": "execute_result"
        }
      ],
      "source": [
        "sensitivity(conf_matrix_test)"
      ],
      "id": "WWR8dpVnlVUG"
    },
    {
      "cell_type": "code",
      "execution_count": null,
      "metadata": {
        "id": "k8cvS7-KlVUG",
        "outputId": "4eaa4b8e-1829-44d6-b206-cf3b4e075e6b"
      },
      "outputs": [
        {
          "data": {
            "text/plain": [
              "0.8888888888888888"
            ]
          },
          "execution_count": 58,
          "metadata": {},
          "output_type": "execute_result"
        }
      ],
      "source": [
        "specificity(conf_matrix_test)"
      ],
      "id": "k8cvS7-KlVUG"
    },
    {
      "cell_type": "code",
      "execution_count": null,
      "metadata": {
        "id": "_CY2dVgmlVUG",
        "outputId": "8c55feb5-70e5-4ebc-a53b-050f3e10b15b"
      },
      "outputs": [
        {
          "data": {
            "text/plain": [
              "0.8372093023255814"
            ]
          },
          "execution_count": 59,
          "metadata": {},
          "output_type": "execute_result"
        }
      ],
      "source": [
        "f1_score(conf_matrix_test)"
      ],
      "id": "_CY2dVgmlVUG"
    },
    {
      "cell_type": "code",
      "execution_count": null,
      "metadata": {
        "id": "K-cHrPbclVUG",
        "outputId": "40159232-d52c-4659-ce72-d57969450574"
      },
      "outputs": [
        {
          "data": {
            "text/plain": [
              "0.4085944927842661"
            ]
          },
          "execution_count": 60,
          "metadata": {},
          "output_type": "execute_result"
        }
      ],
      "source": [
        "log_loss(y_test, y_test_proba)"
      ],
      "id": "K-cHrPbclVUG"
    },
    {
      "cell_type": "code",
      "execution_count": null,
      "metadata": {
        "id": "vWiTFtPslVUG",
        "outputId": "edbf19e4-5322-4af9-8e10-57a839f60650"
      },
      "outputs": [
        {
          "data": {
            "text/plain": [
              "0.4085944927842661"
            ]
          },
          "execution_count": 61,
          "metadata": {},
          "output_type": "execute_result"
        }
      ],
      "source": [
        "log_loss(y_test, y_test_proba)"
      ],
      "id": "vWiTFtPslVUG"
    }
  ],
  "metadata": {
    "kernelspec": {
      "display_name": "Python 3",
      "language": "python",
      "name": "python3"
    },
    "language_info": {
      "codemirror_mode": {
        "name": "ipython",
        "version": 3
      },
      "file_extension": ".py",
      "mimetype": "text/x-python",
      "name": "python",
      "nbconvert_exporter": "python",
      "pygments_lexer": "ipython3",
      "version": "3.7.4"
    },
    "colab": {
      "provenance": [],
      "include_colab_link": true
    }
  },
  "nbformat": 4,
  "nbformat_minor": 5
}
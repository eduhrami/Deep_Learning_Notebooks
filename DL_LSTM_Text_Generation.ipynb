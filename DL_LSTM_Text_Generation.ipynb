{
  "nbformat": 4,
  "nbformat_minor": 0,
  "metadata": {
    "colab": {
      "name": "DL LSTM Text Generation.ipynb",
      "provenance": [],
      "authorship_tag": "ABX9TyOyCUiy4inZUYfUhbWs5N9A",
      "include_colab_link": true
    },
    "kernelspec": {
      "name": "python3",
      "display_name": "Python 3"
    },
    "language_info": {
      "name": "python"
    }
  },
  "cells": [
    {
      "cell_type": "markdown",
      "metadata": {
        "id": "view-in-github",
        "colab_type": "text"
      },
      "source": [
        "<a href=\"https://colab.research.google.com/github/tozanni/Deep_Learning_Notebooks/blob/main/DL_LSTM_Text_Generation.ipynb\" target=\"_parent\"><img src=\"https://colab.research.google.com/assets/colab-badge.svg\" alt=\"Open In Colab\"/></a>"
      ]
    },
    {
      "cell_type": "markdown",
      "source": [
        "## Generación de texto sintético con una red LSTM\n",
        "\n",
        "Referencia: https://gist.github.com/maxim5/c35ef2238ae708ccb0e55624e9e0252b\n"
      ],
      "metadata": {
        "id": "Abew8EitiUux"
      }
    },
    {
      "cell_type": "code",
      "execution_count": 30,
      "metadata": {
        "id": "pZJRGBSLiFu7"
      },
      "outputs": [],
      "source": [
        "from __future__ import print_function\n",
        "import numpy as np\n",
        "import gensim\n",
        "import string\n",
        "\n",
        "from keras.callbacks import LambdaCallback\n",
        "from keras.layers import LSTM\n",
        "from keras.layers import Embedding\n",
        "from keras.layers import Dense, Activation\n",
        "from keras.models import Sequential\n",
        "from keras.utils import get_file\n"
      ]
    },
    {
      "cell_type": "code",
      "source": [
        "## Descargar archivo de abstracts de Stanford\n",
        "\n",
        "# Original\n",
        "# https://raw.githubusercontent.com/maxim5/stanford-tensorflow-tutorials/master/data/arxiv_abstracts.txt\n",
        "\n",
        "# Local\n",
        "url = 'https://raw.githubusercontent.com/tozanni/Data_Science_Notebooks/main/arxiv_abstracts.txt'\n",
        "path = get_file('arxiv_abstracts.txt', origin=url)\n"
      ],
      "metadata": {
        "id": "2Qi4wyI8iie-"
      },
      "execution_count": 31,
      "outputs": []
    },
    {
      "cell_type": "code",
      "source": [
        "## Generar sentencias de longitud 40\n",
        "max_sentence_len = 40\n",
        "with open(path) as file_:\n",
        "  docs = file_.readlines()\n",
        "  sentences = [[word for word in doc.lower().split()[:max_sentence_len]] for doc in docs]\n",
        "\n",
        "print('Num sentences:', len(sentences))"
      ],
      "metadata": {
        "colab": {
          "base_uri": "https://localhost:8080/"
        },
        "id": "xpF1RMFDi360",
        "outputId": "7bd8fd04-95c6-471d-fed8-10e83c243d3c"
      },
      "execution_count": 32,
      "outputs": [
        {
          "output_type": "stream",
          "name": "stdout",
          "text": [
            "Num sentences: 7200\n"
          ]
        }
      ]
    },
    {
      "cell_type": "markdown",
      "source": [
        "### Vectorización con Word2Vec\n",
        "\n",
        "A continuación se entrenará el modelo de embeddings Word2Vec, dicho modelo nos permitirá representar nuestras palabras en vectores que mantienen ciertas propiedades de similaridad semántica en sus dimensiones."
      ],
      "metadata": {
        "id": "P3LD9hsrjZOV"
      }
    },
    {
      "cell_type": "code",
      "source": [
        "def word2idx(word):\n",
        "  return word_model.wv.key_to_index[word]\n",
        "\n",
        "def idx2word(idx):\n",
        "  return word_model.wv.index_to_key[idx]"
      ],
      "metadata": {
        "id": "5iqbymK-yo2g"
      },
      "execution_count": 33,
      "outputs": []
    },
    {
      "cell_type": "code",
      "source": [
        "\n",
        "print('Entrenando modelo word2vec con 100 dimensiones...')\n",
        "word_model = gensim.models.Word2Vec(sentences, vector_size=100, min_count=1, window=5, epochs=100)\n",
        "pretrained_weights = word_model.wv.vectors\n",
        "vocab_size, emdedding_size = pretrained_weights.shape\n",
        "print('Result embedding shape:', pretrained_weights.shape)\n",
        "\n",
        "print('Obtener palabras similares a algunos ejemplos:')\n",
        "for word in ['model', 'network', 'train', 'learn']:\n",
        "  most_similar = ', '.join('%s (%.2f)' % (similar, dist) for similar, dist in word_model.wv.most_similar(word)[:8])\n",
        "  print('  %s -> %s' % (word, most_similar))\n",
        ""
      ],
      "metadata": {
        "colab": {
          "base_uri": "https://localhost:8080/"
        },
        "id": "35NdZXljjSca",
        "outputId": "63b3d5a1-7985-49c9-af3c-286ad17f4bb9"
      },
      "execution_count": 34,
      "outputs": [
        {
          "output_type": "stream",
          "name": "stdout",
          "text": [
            "Entrenando modelo word2vec con 100 dimensiones...\n",
            "Result embedding shape: (1350, 100)\n",
            "Obtener palabras similares a algunos ejemplos:\n",
            "  model -> $l_p$ (0.40), technique (0.37), architecture. (0.32), trains (0.31), framework (0.31), continuous (0.30), possible (0.30), 2012) (0.29)\n",
            "  network -> networks (0.41), constrained (0.27), trained (0.26), guide (0.25), networks. (0.24), function (0.24), broad (0.24), help (0.24)\n",
            "  train -> based (0.37), directly (0.33), eigendecompositions (0.32), classical (0.32), sequentially (0.32), represent (0.31), tend (0.31), map (0.29)\n",
            "  learn -> remain (0.38), tend (0.36), adapt (0.36), adopted (0.36), automatically (0.35), effectively (0.35), lower (0.33), enormous (0.33)\n"
          ]
        }
      ]
    },
    {
      "cell_type": "markdown",
      "source": [
        "### Creación de training y test set para LSTM"
      ],
      "metadata": {
        "id": "pjRyfqEmkT91"
      }
    },
    {
      "cell_type": "code",
      "source": [
        "train_x = np.zeros([len(sentences), max_sentence_len], dtype=np.int32)\n",
        "train_y = np.zeros([len(sentences)], dtype=np.int32)\n",
        "\n",
        "for i, sentence in enumerate(sentences):\n",
        "  for t, word in enumerate(sentence[:-1]):\n",
        "    train_x[i, t] = word2idx(word)\n",
        "  train_y[i] = word2idx(sentence[-1])\n",
        "\n",
        "print('train_x shape:', train_x.shape)\n",
        "print('train_y shape:', train_y.shape)\n",
        "\n",
        "# Ejemplo de datos de training y test\n",
        "# Nuestras secuencias de training y test son los índices\n",
        "# de las palabras del diccionario\n",
        "\n",
        "train_x[0], train_y[0]\n"
      ],
      "metadata": {
        "colab": {
          "base_uri": "https://localhost:8080/"
        },
        "id": "AhUl2dL-iRrM",
        "outputId": "a5e97aaf-c222-412a-9241-78aaf0eef819"
      },
      "execution_count": 35,
      "outputs": [
        {
          "output_type": "stream",
          "name": "stdout",
          "text": [
            "train_x shape: (7200, 40)\n",
            "train_y shape: (7200,)\n"
          ]
        },
        {
          "output_type": "execute_result",
          "data": {
            "text/plain": [
              "(array([  4, 555,   5, 556, 557, 136,   1, 117, 151,  26,  19, 239, 558,\n",
              "         50, 415,  11, 120, 416,  18,   2, 561, 417,   1, 245, 136, 418,\n",
              "        568, 569, 554, 205, 552, 551,  58, 538, 539, 540, 541,   2, 421,\n",
              "          0], dtype=int32),\n",
              " 3)"
            ]
          },
          "metadata": {},
          "execution_count": 35
        }
      ]
    },
    {
      "cell_type": "markdown",
      "source": [
        "## Definición y entrenamiento de la red LSTM\n",
        "\n",
        "1. Notar que la primera capa corresponde a la capa de embeddings, de tal forma que el primer proceso de la red será mapear el input al espacio de los embeddings.\n",
        "\n",
        "2. Posteriormente se aplica la capa LSTM con una cantidad de unidades arbitraria definida por nosotros.\n",
        "\n",
        "3. Finalmente, pasamos a una capa densa con tantas neuronas como palabras e nuestro vocabulario con activación Softmax para generar como output una distribución de probabilidades de la siguiente palabra."
      ],
      "metadata": {
        "id": "h_YAUyd2wgmP"
      }
    },
    {
      "cell_type": "code",
      "source": [
        "model = Sequential()\n",
        "model.add(Embedding(input_dim=vocab_size, output_dim=emdedding_size, weights=[pretrained_weights]))\n",
        "\n",
        "model.add(LSTM(units=16))\n",
        "\n",
        "#Modelo con dos capas anidadas recurrentes\n",
        "#model.add(LSTM(units=32, return_sequences=True))\n",
        "#model.add(LSTM(units=16))\n",
        "\n",
        "#Probar otras definiciones de units\n",
        "#model.add(LSTM(units=emdedding_size))\n",
        "\n",
        "model.add(Dense(units=vocab_size))\n",
        "model.add(Activation('softmax')) #El resultado es un vector de probabilidades\n",
        "model.compile(optimizer='adam', loss='sparse_categorical_crossentropy')\n",
        "\n",
        "model.fit(train_x, train_y,\n",
        "          batch_size=128,\n",
        "          epochs=20)"
      ],
      "metadata": {
        "colab": {
          "base_uri": "https://localhost:8080/"
        },
        "id": "UnMePvPDkgF7",
        "outputId": "7ce2a846-26d3-4a37-9d05-7880440cc4d3"
      },
      "execution_count": 36,
      "outputs": [
        {
          "output_type": "stream",
          "name": "stdout",
          "text": [
            "Epoch 1/20\n",
            "57/57 [==============================] - 5s 41ms/step - loss: 6.6294\n",
            "Epoch 2/20\n",
            "57/57 [==============================] - 3s 52ms/step - loss: 5.1168\n",
            "Epoch 3/20\n",
            "57/57 [==============================] - 2s 36ms/step - loss: 4.2837\n",
            "Epoch 4/20\n",
            "57/57 [==============================] - 2s 36ms/step - loss: 3.8921\n",
            "Epoch 5/20\n",
            "57/57 [==============================] - 2s 36ms/step - loss: 3.6549\n",
            "Epoch 6/20\n",
            "57/57 [==============================] - 2s 35ms/step - loss: 3.4749\n",
            "Epoch 7/20\n",
            "57/57 [==============================] - 2s 43ms/step - loss: 3.3135\n",
            "Epoch 8/20\n",
            "57/57 [==============================] - 3s 51ms/step - loss: 3.1696\n",
            "Epoch 9/20\n",
            "57/57 [==============================] - 2s 42ms/step - loss: 3.0363\n",
            "Epoch 10/20\n",
            "57/57 [==============================] - 3s 52ms/step - loss: 2.9102\n",
            "Epoch 11/20\n",
            "57/57 [==============================] - 2s 36ms/step - loss: 2.7841\n",
            "Epoch 12/20\n",
            "57/57 [==============================] - 2s 39ms/step - loss: 2.6596\n",
            "Epoch 13/20\n",
            "57/57 [==============================] - 3s 55ms/step - loss: 2.5280\n",
            "Epoch 14/20\n",
            "57/57 [==============================] - 2s 35ms/step - loss: 2.3935\n",
            "Epoch 15/20\n",
            "57/57 [==============================] - 2s 35ms/step - loss: 2.2630\n",
            "Epoch 16/20\n",
            "57/57 [==============================] - 2s 35ms/step - loss: 2.1108\n",
            "Epoch 17/20\n",
            "57/57 [==============================] - 2s 34ms/step - loss: 1.9589\n",
            "Epoch 18/20\n",
            "57/57 [==============================] - 2s 36ms/step - loss: 1.8057\n",
            "Epoch 19/20\n",
            "57/57 [==============================] - 3s 57ms/step - loss: 1.6667\n",
            "Epoch 20/20\n",
            "57/57 [==============================] - 2s 35ms/step - loss: 1.5387\n"
          ]
        },
        {
          "output_type": "execute_result",
          "data": {
            "text/plain": [
              "<keras.src.callbacks.History at 0x7af0556478e0>"
            ]
          },
          "metadata": {},
          "execution_count": 36
        }
      ]
    },
    {
      "cell_type": "markdown",
      "source": [
        "### Generación de texto con el modelo LSTM\n",
        "\n",
        "Ahora hay que generar texto sintético, en esta etapa utilizaremos el modelo de forma iterativa comenzando por una semilla, posteriormente concatenando el output de cada etapa y pasandolo a la siguiente iteración.\n",
        "\n",
        "Notar que el modelo entrega una distribución de probabilidad de las siguientes palabras más probables y no es idóneo elegir siempre la mayor (ej. usando argmax) por lo cual se recomienda aplicar un método de sampling sobre dicha distribución.\n",
        "\n",
        "\n",
        "Referencia de sampling:\n",
        "\n",
        "https://medium.com/machine-learning-at-petiteprogrammer/sampling-strategies-for-recurrent-neural-networks-9aea02a6616f\n"
      ],
      "metadata": {
        "id": "0GWn6NXvqX77"
      }
    },
    {
      "cell_type": "code",
      "source": [
        "def sample(preds, temperature=1.0):\n",
        "  \"\"\"\n",
        "  Metodo de muestreo aleatorio de siguiente palabra.\n",
        "  Toma como input la distribucion de probabilidad entregada por la red.\n",
        "  Con cierta proabilidad dependiendo de la temperatura produce la\n",
        "  siguiente palabra.\n",
        "  \"\"\"\n",
        "\n",
        "  if temperature <= 0:\n",
        "    return np.argmax(preds)\n",
        "\n",
        "  preds = np.asarray(preds).astype('float64')\n",
        "  preds = np.log(preds) / temperature\n",
        "  exp_preds = np.exp(preds)\n",
        "  preds = exp_preds / np.sum(exp_preds)\n",
        "  probas = np.random.multinomial(1, preds, 1)\n",
        "  return np.argmax(probas)\n",
        "\n",
        "def generate_next(text, num_generated=10):\n",
        "  word_idxs = [word2idx(word) for word in text.lower().split()]\n",
        "  for i in range(num_generated):\n",
        "\n",
        "    #El input se incrementa en cada iteracion a la RNN\n",
        "    print(\"Input --> \",word_idxs)\n",
        "    x=np.array(word_idxs)\n",
        "\n",
        "    #Tenemos que convertir el input a 3D agregando una dimension dummy\n",
        "    x=np.expand_dims(x,1)\n",
        "    prediction = model.predict(x)\n",
        "    print(\"Prediction -->\", prediction)\n",
        "\n",
        "    #No realizar sampling, tomar la palabra con mayor probabilidad\n",
        "    #idx = np.argmax(prediction[-1])\n",
        "\n",
        "    #Realizar un muestreo aleatorio\n",
        "    idx = sample(prediction[-1], temperature=0.7)\n",
        "\n",
        "    word_idxs.append(idx)\n",
        "  return ' '.join(idx2word(idx) for idx in word_idxs)\n"
      ],
      "metadata": {
        "id": "cyChj7MykmT_"
      },
      "execution_count": 37,
      "outputs": []
    },
    {
      "cell_type": "code",
      "source": [
        "next_words = 20 #Cuantas palabras se generaran?\n",
        "\n",
        "generated_text = generate_next('deep convolutional', next_words)\n"
      ],
      "metadata": {
        "colab": {
          "base_uri": "https://localhost:8080/"
        },
        "id": "nxtRN7pzmh4q",
        "outputId": "ffd3fe09-2a2b-4ddd-e155-7d9144780532"
      },
      "execution_count": 38,
      "outputs": [
        {
          "output_type": "stream",
          "name": "stdout",
          "text": [
            "Input -->  [6, 37]\n",
            "1/1 [==============================] - 0s 479ms/step\n",
            "Prediction --> [[0.01500825 0.00495367 0.00821734 ... 0.00049222 0.00044217 0.00047735]\n",
            " [0.00491441 0.00179882 0.00475018 ... 0.00060894 0.00064152 0.00063278]]\n",
            "Input -->  [6, 37, 347]\n",
            "1/1 [==============================] - 0s 27ms/step\n",
            "Prediction --> [[0.01500825 0.00495367 0.00821734 ... 0.00049222 0.00044217 0.00047735]\n",
            " [0.00491441 0.00179882 0.00475018 ... 0.00060894 0.00064152 0.00063278]\n",
            " [0.00147672 0.00109679 0.00081337 ... 0.00072816 0.00067932 0.00069495]]\n",
            "Input -->  [6, 37, 347, 28]\n",
            "1/1 [==============================] - 0s 26ms/step\n",
            "Prediction --> [[0.01500825 0.00495367 0.00821734 ... 0.00049222 0.00044217 0.00047735]\n",
            " [0.00491441 0.00179882 0.00475018 ... 0.00060894 0.00064152 0.00063278]\n",
            " [0.00147671 0.00109679 0.00081337 ... 0.00072816 0.00067932 0.00069495]\n",
            " [0.00305042 0.00169052 0.00158334 ... 0.0006775  0.00073036 0.00066662]]\n",
            "Input -->  [6, 37, 347, 28, 894]\n",
            "1/1 [==============================] - 0s 24ms/step\n",
            "Prediction --> [[0.01500825 0.00495367 0.00821734 ... 0.00049222 0.00044217 0.00047735]\n",
            " [0.00491441 0.00179882 0.00475018 ... 0.00060894 0.00064152 0.00063278]\n",
            " [0.00147671 0.00109679 0.00081337 ... 0.00072816 0.00067932 0.00069495]\n",
            " [0.00305042 0.00169052 0.00158334 ... 0.0006775  0.00073036 0.00066662]\n",
            " [0.00284739 0.00098441 0.00152697 ... 0.00066696 0.00065645 0.00067968]]\n",
            "Input -->  [6, 37, 347, 28, 894, 333]\n",
            "1/1 [==============================] - 0s 22ms/step\n",
            "Prediction --> [[0.01500825 0.00495367 0.00821734 ... 0.00049222 0.00044217 0.00047735]\n",
            " [0.00491441 0.00179882 0.00475018 ... 0.00060894 0.00064152 0.00063278]\n",
            " [0.00147671 0.00109679 0.00081337 ... 0.00072816 0.00067932 0.00069495]\n",
            " [0.00305042 0.00169052 0.00158334 ... 0.0006775  0.00073036 0.00066662]\n",
            " [0.00284739 0.00098441 0.00152697 ... 0.00066696 0.00065645 0.00067968]\n",
            " [0.00353117 0.00182667 0.00302205 ... 0.000626   0.00062874 0.00063905]]\n",
            "Input -->  [6, 37, 347, 28, 894, 333, 923]\n",
            "1/1 [==============================] - 0s 25ms/step\n",
            "Prediction --> [[0.01500825 0.00495367 0.00821734 ... 0.00049222 0.00044217 0.00047735]\n",
            " [0.00491441 0.00179882 0.00475018 ... 0.00060894 0.00064152 0.00063278]\n",
            " [0.00147671 0.00109679 0.00081337 ... 0.00072816 0.00067932 0.00069495]\n",
            " ...\n",
            " [0.00284739 0.00098441 0.00152697 ... 0.00066696 0.00065645 0.00067968]\n",
            " [0.00353117 0.00182667 0.00302205 ... 0.000626   0.00062874 0.00063905]\n",
            " [0.00160195 0.00217386 0.0014738  ... 0.00068253 0.00063911 0.00058953]]\n",
            "Input -->  [6, 37, 347, 28, 894, 333, 923, 729]\n",
            "1/1 [==============================] - 0s 26ms/step\n",
            "Prediction --> [[0.01500825 0.00495367 0.00821734 ... 0.00049222 0.00044217 0.00047735]\n",
            " [0.0049144  0.00179882 0.00475018 ... 0.00060894 0.00064152 0.00063278]\n",
            " [0.00147671 0.00109679 0.00081337 ... 0.00072816 0.00067932 0.00069495]\n",
            " ...\n",
            " [0.00353117 0.00182667 0.00302205 ... 0.000626   0.00062874 0.00063905]\n",
            " [0.00160195 0.00217386 0.0014738  ... 0.00068253 0.00063911 0.00058953]\n",
            " [0.00921808 0.00765922 0.00731232 ... 0.00049613 0.00048654 0.00052037]]\n",
            "Input -->  [6, 37, 347, 28, 894, 333, 923, 729, 1260]\n",
            "1/1 [==============================] - 0s 25ms/step\n",
            "Prediction --> [[0.01500825 0.00495367 0.00821734 ... 0.00049222 0.00044217 0.00047735]\n",
            " [0.0049144  0.00179882 0.00475018 ... 0.00060894 0.00064152 0.00063278]\n",
            " [0.00147671 0.00109679 0.00081337 ... 0.00072816 0.00067932 0.00069495]\n",
            " ...\n",
            " [0.00160195 0.00217386 0.0014738  ... 0.00068253 0.00063911 0.00058953]\n",
            " [0.00921808 0.00765922 0.00731232 ... 0.00049613 0.00048654 0.00052037]\n",
            " [0.00160148 0.00309187 0.00109045 ... 0.00070806 0.00068472 0.00071413]]\n",
            "Input -->  [6, 37, 347, 28, 894, 333, 923, 729, 1260, 33]\n",
            "1/1 [==============================] - 0s 26ms/step\n",
            "Prediction --> [[0.01500825 0.00495367 0.00821734 ... 0.00049222 0.00044217 0.00047735]\n",
            " [0.0049144  0.00179882 0.00475018 ... 0.00060894 0.00064152 0.00063278]\n",
            " [0.00147671 0.00109679 0.00081337 ... 0.00072816 0.00067932 0.00069495]\n",
            " ...\n",
            " [0.00921808 0.00765922 0.00731232 ... 0.00049613 0.00048654 0.00052037]\n",
            " [0.00160148 0.00309187 0.00109045 ... 0.00070806 0.00068472 0.00071413]\n",
            " [0.00493619 0.00315285 0.00413887 ... 0.00058227 0.00056348 0.00052593]]\n",
            "Input -->  [6, 37, 347, 28, 894, 333, 923, 729, 1260, 33, 966]\n",
            "1/1 [==============================] - 0s 25ms/step\n",
            "Prediction --> [[0.01500825 0.00495367 0.00821734 ... 0.00049222 0.00044217 0.00047735]\n",
            " [0.0049144  0.00179882 0.00475018 ... 0.00060894 0.00064152 0.00063278]\n",
            " [0.00147671 0.00109679 0.00081337 ... 0.00072816 0.00067932 0.00069495]\n",
            " ...\n",
            " [0.00160148 0.00309187 0.00109045 ... 0.00070806 0.00068472 0.00071413]\n",
            " [0.00493619 0.00315285 0.00413887 ... 0.00058227 0.00056348 0.00052593]\n",
            " [0.00210442 0.00275102 0.00159191 ... 0.00061895 0.00063479 0.0006334 ]]\n",
            "Input -->  [6, 37, 347, 28, 894, 333, 923, 729, 1260, 33, 966, 1299]\n",
            "1/1 [==============================] - 0s 24ms/step\n",
            "Prediction --> [[0.01500825 0.00495367 0.00821734 ... 0.00049222 0.00044217 0.00047735]\n",
            " [0.0049144  0.00179882 0.00475018 ... 0.00060894 0.00064152 0.00063278]\n",
            " [0.00147671 0.00109679 0.00081337 ... 0.00072816 0.00067932 0.00069495]\n",
            " ...\n",
            " [0.00493619 0.00315285 0.00413887 ... 0.00058227 0.00056348 0.00052593]\n",
            " [0.00210442 0.00275102 0.00159191 ... 0.00061895 0.00063479 0.0006334 ]\n",
            " [0.00201628 0.00194547 0.00188338 ... 0.00068356 0.00067489 0.00068702]]\n",
            "Input -->  [6, 37, 347, 28, 894, 333, 923, 729, 1260, 33, 966, 1299, 1335]\n",
            "1/1 [==============================] - 0s 24ms/step\n",
            "Prediction --> [[0.01500825 0.00495367 0.00821734 ... 0.00049222 0.00044217 0.00047735]\n",
            " [0.0049144  0.00179882 0.00475018 ... 0.00060894 0.00064152 0.00063278]\n",
            " [0.00147671 0.00109679 0.00081337 ... 0.00072816 0.00067932 0.00069495]\n",
            " ...\n",
            " [0.00210442 0.00275102 0.00159191 ... 0.00061895 0.00063479 0.0006334 ]\n",
            " [0.00201628 0.00194547 0.00188338 ... 0.00068356 0.00067489 0.00068702]\n",
            " [0.00342642 0.0023952  0.00433518 ... 0.00063981 0.00065765 0.00062998]]\n",
            "Input -->  [6, 37, 347, 28, 894, 333, 923, 729, 1260, 33, 966, 1299, 1335, 1115]\n",
            "1/1 [==============================] - 0s 29ms/step\n",
            "Prediction --> [[0.01500825 0.00495367 0.00821734 ... 0.00049222 0.00044217 0.00047735]\n",
            " [0.0049144  0.00179882 0.00475018 ... 0.00060894 0.00064152 0.00063278]\n",
            " [0.00147671 0.00109679 0.00081337 ... 0.00072816 0.00067932 0.00069495]\n",
            " ...\n",
            " [0.00201628 0.00194547 0.00188338 ... 0.00068356 0.00067489 0.00068702]\n",
            " [0.00342642 0.0023952  0.00433518 ... 0.00063981 0.00065765 0.00062998]\n",
            " [0.00314438 0.00145705 0.00256571 ... 0.00067782 0.00065321 0.00065012]]\n",
            "Input -->  [6, 37, 347, 28, 894, 333, 923, 729, 1260, 33, 966, 1299, 1335, 1115, 321]\n",
            "1/1 [==============================] - 0s 22ms/step\n",
            "Prediction --> [[0.01500825 0.00495367 0.00821734 ... 0.00049222 0.00044217 0.00047735]\n",
            " [0.0049144  0.00179882 0.00475018 ... 0.00060894 0.00064152 0.00063278]\n",
            " [0.00147671 0.00109679 0.00081337 ... 0.00072816 0.00067932 0.00069495]\n",
            " ...\n",
            " [0.00342642 0.0023952  0.00433518 ... 0.00063981 0.00065765 0.00062998]\n",
            " [0.00314438 0.00145705 0.00256571 ... 0.00067782 0.00065321 0.00065012]\n",
            " [0.00142759 0.00133258 0.00146313 ... 0.0007236  0.00069643 0.00067465]]\n",
            "Input -->  [6, 37, 347, 28, 894, 333, 923, 729, 1260, 33, 966, 1299, 1335, 1115, 321, 192]\n",
            "1/1 [==============================] - 0s 25ms/step\n",
            "Prediction --> [[0.01500825 0.00495367 0.00821734 ... 0.00049222 0.00044217 0.00047735]\n",
            " [0.0049144  0.00179882 0.00475018 ... 0.00060894 0.00064152 0.00063278]\n",
            " [0.00147671 0.00109679 0.00081337 ... 0.00072816 0.00067932 0.00069495]\n",
            " ...\n",
            " [0.00314438 0.00145705 0.00256571 ... 0.00067782 0.00065321 0.00065012]\n",
            " [0.00142759 0.00133258 0.00146313 ... 0.0007236  0.00069643 0.00067465]\n",
            " [0.01740455 0.00168703 0.01358883 ... 0.00034482 0.00033288 0.00029468]]\n",
            "Input -->  [6, 37, 347, 28, 894, 333, 923, 729, 1260, 33, 966, 1299, 1335, 1115, 321, 192, 13]\n",
            "1/1 [==============================] - 0s 23ms/step\n",
            "Prediction --> [[0.01500825 0.00495367 0.00821734 ... 0.00049222 0.00044217 0.00047735]\n",
            " [0.0049144  0.00179882 0.00475018 ... 0.00060894 0.00064152 0.00063278]\n",
            " [0.00147671 0.00109679 0.00081337 ... 0.00072816 0.00067932 0.00069495]\n",
            " ...\n",
            " [0.00142759 0.00133258 0.00146313 ... 0.0007236  0.00069643 0.00067465]\n",
            " [0.01740455 0.00168703 0.01358883 ... 0.00034482 0.00033288 0.00029468]\n",
            " [0.01496586 0.00303616 0.00629314 ... 0.00043063 0.00038231 0.00038176]]\n",
            "Input -->  [6, 37, 347, 28, 894, 333, 923, 729, 1260, 33, 966, 1299, 1335, 1115, 321, 192, 13, 36]\n",
            "1/1 [==============================] - 0s 22ms/step\n",
            "Prediction --> [[0.01500825 0.00495367 0.00821734 ... 0.00049222 0.00044217 0.00047735]\n",
            " [0.0049144  0.00179882 0.00475018 ... 0.00060894 0.00064152 0.00063278]\n",
            " [0.00147671 0.00109679 0.00081337 ... 0.00072816 0.00067932 0.00069495]\n",
            " ...\n",
            " [0.01740455 0.00168703 0.01358883 ... 0.00034482 0.00033288 0.00029468]\n",
            " [0.01496586 0.00303616 0.00629314 ... 0.00043063 0.00038231 0.00038176]\n",
            " [0.0056995  0.00348212 0.00583672 ... 0.00055288 0.00058771 0.0005678 ]]\n",
            "Input -->  [6, 37, 347, 28, 894, 333, 923, 729, 1260, 33, 966, 1299, 1335, 1115, 321, 192, 13, 36, 467]\n",
            "1/1 [==============================] - 0s 30ms/step\n",
            "Prediction --> [[0.01500825 0.00495367 0.00821734 ... 0.00049222 0.00044217 0.00047735]\n",
            " [0.0049144  0.00179882 0.00475018 ... 0.00060894 0.00064152 0.00063278]\n",
            " [0.00147671 0.00109679 0.00081337 ... 0.00072816 0.00067932 0.00069495]\n",
            " ...\n",
            " [0.01496586 0.00303616 0.00629314 ... 0.00043063 0.00038231 0.00038176]\n",
            " [0.0056995  0.00348212 0.00583672 ... 0.00055288 0.00058771 0.0005678 ]\n",
            " [0.00166546 0.00122095 0.00119397 ... 0.00071458 0.00069596 0.00068718]]\n",
            "Input -->  [6, 37, 347, 28, 894, 333, 923, 729, 1260, 33, 966, 1299, 1335, 1115, 321, 192, 13, 36, 467, 983]\n",
            "1/1 [==============================] - 0s 26ms/step\n",
            "Prediction --> [[0.01500825 0.00495367 0.00821734 ... 0.00049222 0.00044217 0.00047735]\n",
            " [0.0049144  0.00179882 0.00475018 ... 0.00060894 0.00064152 0.00063278]\n",
            " [0.00147671 0.00109679 0.00081337 ... 0.00072816 0.00067932 0.00069495]\n",
            " ...\n",
            " [0.0056995  0.00348212 0.00583672 ... 0.00055288 0.00058771 0.0005678 ]\n",
            " [0.00166546 0.00122095 0.00119397 ... 0.00071458 0.00069596 0.00068718]\n",
            " [0.0015876  0.0017147  0.00165479 ... 0.00070633 0.00069578 0.00068921]]\n",
            "Input -->  [6, 37, 347, 28, 894, 333, 923, 729, 1260, 33, 966, 1299, 1335, 1115, 321, 192, 13, 36, 467, 983, 907]\n",
            "1/1 [==============================] - 0s 28ms/step\n",
            "Prediction --> [[0.01500825 0.00495367 0.00821734 ... 0.00049222 0.00044217 0.00047735]\n",
            " [0.0049144  0.00179882 0.00475018 ... 0.00060894 0.00064152 0.00063278]\n",
            " [0.00147671 0.00109679 0.00081337 ... 0.00072816 0.00067932 0.00069495]\n",
            " ...\n",
            " [0.00166546 0.00122095 0.00119397 ... 0.00071458 0.00069596 0.00068718]\n",
            " [0.0015876  0.0017147  0.00165479 ... 0.00070633 0.00069578 0.00068921]\n",
            " [0.00298715 0.0011997  0.0013854  ... 0.00058968 0.00059646 0.00059398]]\n"
          ]
        }
      ]
    },
    {
      "cell_type": "code",
      "source": [
        "#El texto final generado\n",
        "\n",
        "generated_text"
      ],
      "metadata": {
        "colab": {
          "base_uri": "https://localhost:8080/",
          "height": 53
        },
        "id": "G2NvWiPEoAxa",
        "outputId": "30aed361-65db-44d6-e18d-91b6c1a587b0"
      },
      "execution_count": 39,
      "outputs": [
        {
          "output_type": "execute_result",
          "data": {
            "text/plain": [
              "'deep convolutional image recurrent rnn, supporting difficult, followed operations, data intermediate system, under et. normalized supervised that networks. foundation prone consistently unrealistic'"
            ],
            "application/vnd.google.colaboratory.intrinsic+json": {
              "type": "string"
            }
          },
          "metadata": {},
          "execution_count": 39
        }
      ]
    },
    {
      "cell_type": "markdown",
      "source": [
        "## Ejercicios\n",
        "\n",
        "A. Realiza las siguientes modificaciones a la red y comenta los efectos que percibes en a) Valor de pérdida en las épocas. b) Tiempo de entrenamiento.\n",
        "c) Calidad percibida del texto final generado.\n",
        "\n",
        "1. Modifica la longitud de las secuencias de input.\n",
        "\n",
        "2. Modifica la cantidad de unidades de la capa LSTM.\n",
        "\n",
        "3. Modifica la cantidad de épocas de entrenamiento.\n",
        "\n",
        "4. Modifica la temperatura de sampling.\n",
        "\n",
        "5. Agrega una segunda capa recurrente LSTM (en ese caso la primer capa debe tener el parámetro return_sequences=True) ¿Percibes mejoras en relación a simplemente aumentar el tamaño de la capa?\n",
        "\n",
        "B. Presenta 3 ejemplos de texto generado por tu red. Puedes utilizar diferentes palabras de inicialización."
      ],
      "metadata": {
        "id": "Aph7BIPhvNg_"
      }
    },
    {
      "cell_type": "code",
      "source": [],
      "metadata": {
        "id": "cOrIAsmjrC3u"
      },
      "execution_count": 39,
      "outputs": []
    }
  ]
}